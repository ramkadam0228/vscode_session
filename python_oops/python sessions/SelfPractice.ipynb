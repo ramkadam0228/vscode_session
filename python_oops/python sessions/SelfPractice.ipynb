{
 "cells": [
  {
   "cell_type": "markdown",
   "id": "e18dd1e6-9e02-445b-b346-2c405fe5dfbc",
   "metadata": {},
   "source": [
    "###\n",
    "Printing current and previous number sum in a range(10)"
   ]
  },
  {
   "cell_type": "code",
   "execution_count": 15,
   "id": "123d5062-f5a6-45da-8319-bd588f8f0a08",
   "metadata": {},
   "outputs": [
    {
     "name": "stdout",
     "output_type": "stream",
     "text": [
      "Char to be removed t\n",
      "FInal word after removing char a is Maharashra\n"
     ]
    }
   ],
   "source": [
    "# remove nth char from string\n",
    "def removeChar(word, char):\n",
    "    # word= 'pune'\n",
    "    # char='n'\n",
    "    final_word=''\n",
    "    for i in word:\n",
    "        if i == char:\n",
    "            print(f\"Char to be removed {i}\")\n",
    "        else:\n",
    "            final_word= final_word + i\n",
    "    \n",
    "    print(f\"Final word after removing char {i} is {final_word}\")\n",
    "\n",
    "\n",
    "removeChar('Maharashtra','t')      \n",
    "        \n",
    "    \n",
    "\n"
   ]
  },
  {
   "cell_type": "code",
   "execution_count": 11,
   "id": "8781a277-6d09-48ab-89bb-2550d9e77452",
   "metadata": {},
   "outputs": [
    {
     "name": "stdin",
     "output_type": "stream",
     "text": [
      "Enter a number 8\n"
     ]
    },
    {
     "name": "stdout",
     "output_type": "stream",
     "text": [
      "Print Current 1 and previous number 0 sum in a range of 8 is 1\n",
      "Print Current 2 and previous number 1 sum in a range of 8 is 3\n",
      "Print Current 3 and previous number 2 sum in a range of 8 is 5\n",
      "Print Current 4 and previous number 3 sum in a range of 8 is 7\n",
      "Print Current 5 and previous number 4 sum in a range of 8 is 9\n",
      "Print Current 6 and previous number 5 sum in a range of 8 is 11\n",
      "Print Current 7 and previous number 6 sum in a range of 8 is 13\n"
     ]
    }
   ],
   "source": [
    "Num = eval(input(\"Enter a number\"))\n",
    "temp = 0\n",
    "for i in range (1, Num):\n",
    "    print(f\"Print Current {i} and previous number {temp} sum in a range of {Num} is {i+temp}\")\n",
    "    temp += 1"
   ]
  },
  {
   "cell_type": "markdown",
   "id": "88d1bdd5-9346-47dc-ab6a-fe3cd03c89f8",
   "metadata": {},
   "source": [
    "### Exercise 3: Print characters present at an even index number\n",
    "Write a Python code to accept a string from the user and display characters present at an even index number.\n",
    "\n",
    "For example, str = \"PYnative\". so your code should display ‘P’, ‘n’, ‘t’, ‘v’."
   ]
  },
  {
   "cell_type": "code",
   "execution_count": 20,
   "id": "5175a21e-5ccf-4e71-9a59-df44103d27d0",
   "metadata": {},
   "outputs": [
    {
     "name": "stdout",
     "output_type": "stream",
     "text": [
      "m\n",
      "a\n",
      "a\n"
     ]
    }
   ],
   "source": [
    "str = \"RamKadam\"\n",
    "for i in range(1,len(str)):\n",
    "    if i%2 == 0:\n",
    "        print(str[i])\n",
    "    else:\n",
    "        continue\n",
    "        "
   ]
  },
  {
   "cell_type": "markdown",
   "id": "c0c9f41c-60a5-4ea5-a564-6510f3d29574",
   "metadata": {},
   "source": [
    "### Exercise 4: Remove first n characters from a string\n",
    "Write a Python code to remove characters from a string from 0 to n and return a new string.\n",
    "\n",
    "For Example:\n",
    "\n",
    "remove_chars(\"PYnative\", 4) so output must be tive. Here, you need to remove the first four characters from a string.\n",
    "remove_chars(\"PYnative\", 2) so output must be native. Here, you need to remove the first two characters from a string.\n",
    "Note: n must be less than the length of the string."
   ]
  },
  {
   "cell_type": "code",
   "execution_count": 33,
   "id": "2040e95e-1575-4c05-b52b-d3156927b328",
   "metadata": {},
   "outputs": [
    {
     "name": "stdout",
     "output_type": "stream",
     "text": [
      "pattaPune\n"
     ]
    }
   ],
   "source": [
    "# word = 'MagarpattaPune'\n",
    "# n = len(word)\n",
    "# temp=4\n",
    "# print(word[5:])\n",
    "\n",
    "def truncatechars(word, temp):\n",
    "    print(word[temp:])\n",
    "\n",
    "\n",
    "truncatechars('MagarpattaPune',5)\n",
    "    \n",
    "    "
   ]
  },
  {
   "cell_type": "code",
   "execution_count": 13,
   "id": "de093488-db28-44ee-818e-fc3c7c155df7",
   "metadata": {},
   "outputs": [
    {
     "data": {
      "text/html": [
       "<div>\n",
       "<style scoped>\n",
       "    .dataframe tbody tr th:only-of-type {\n",
       "        vertical-align: middle;\n",
       "    }\n",
       "\n",
       "    .dataframe tbody tr th {\n",
       "        vertical-align: top;\n",
       "    }\n",
       "\n",
       "    .dataframe thead th {\n",
       "        text-align: right;\n",
       "    }\n",
       "</style>\n",
       "<table border=\"1\" class=\"dataframe\">\n",
       "  <thead>\n",
       "    <tr style=\"text-align: right;\">\n",
       "      <th></th>\n",
       "      <th>BU</th>\n",
       "      <th>INTRENALE_TRADE_REFERENCE</th>\n",
       "      <th>PARTY_1_CODE</th>\n",
       "      <th>PARTY_1_CODE_TYPE</th>\n",
       "      <th>PARTY_2_CODE</th>\n",
       "      <th>PARTY_2_CODE_TYPE</th>\n",
       "      <th>PRODUCT_ID_VALUE_1</th>\n",
       "      <th>PRODUCT_ID_VALUE_2</th>\n",
       "      <th>NOTIONAL</th>\n",
       "      <th>NOTIONAL_CURRENCY</th>\n",
       "      <th>VALUE_DATE</th>\n",
       "      <th>MATURITY_DATE</th>\n",
       "      <th>EARLY_TERMINATION_DATE</th>\n",
       "      <th>PRICE</th>\n",
       "      <th>PRICE_CURRENCY</th>\n",
       "    </tr>\n",
       "  </thead>\n",
       "  <tbody>\n",
       "    <tr>\n",
       "      <th>3</th>\n",
       "      <td>35</td>\n",
       "      <td>TCG201122AC04</td>\n",
       "      <td>35</td>\n",
       "      <td>BU</td>\n",
       "      <td>123459</td>\n",
       "      <td>CIF</td>\n",
       "      <td>CREDIT</td>\n",
       "      <td>DEBT</td>\n",
       "      <td>100003</td>\n",
       "      <td>INR</td>\n",
       "      <td>31-12-2024</td>\n",
       "      <td>31-12-2025</td>\n",
       "      <td>NaN</td>\n",
       "      <td>4.2</td>\n",
       "      <td>USD</td>\n",
       "    </tr>\n",
       "    <tr>\n",
       "      <th>8</th>\n",
       "      <td>40</td>\n",
       "      <td>TCG201122AC09</td>\n",
       "      <td>40</td>\n",
       "      <td>BU</td>\n",
       "      <td>123464</td>\n",
       "      <td>CIF</td>\n",
       "      <td>CREDIT</td>\n",
       "      <td>DEBT</td>\n",
       "      <td>100008</td>\n",
       "      <td>INR</td>\n",
       "      <td>31-12-2024</td>\n",
       "      <td>31-12-2025</td>\n",
       "      <td>NaN</td>\n",
       "      <td>9.2</td>\n",
       "      <td>USD</td>\n",
       "    </tr>\n",
       "    <tr>\n",
       "      <th>13</th>\n",
       "      <td>45</td>\n",
       "      <td>TCG201122AC14</td>\n",
       "      <td>45</td>\n",
       "      <td>BU</td>\n",
       "      <td>123469</td>\n",
       "      <td>CIF</td>\n",
       "      <td>CREDIT</td>\n",
       "      <td>DEBT</td>\n",
       "      <td>100013</td>\n",
       "      <td>INR</td>\n",
       "      <td>31-12-2024</td>\n",
       "      <td>31-12-2025</td>\n",
       "      <td>NaN</td>\n",
       "      <td>14.2</td>\n",
       "      <td>USD</td>\n",
       "    </tr>\n",
       "    <tr>\n",
       "      <th>18</th>\n",
       "      <td>50</td>\n",
       "      <td>TCG201122AC19</td>\n",
       "      <td>50</td>\n",
       "      <td>BU</td>\n",
       "      <td>123474</td>\n",
       "      <td>CIF</td>\n",
       "      <td>CREDIT</td>\n",
       "      <td>DEBT</td>\n",
       "      <td>100018</td>\n",
       "      <td>INR</td>\n",
       "      <td>31-12-2024</td>\n",
       "      <td>31-12-2025</td>\n",
       "      <td>NaN</td>\n",
       "      <td>19.2</td>\n",
       "      <td>USD</td>\n",
       "    </tr>\n",
       "  </tbody>\n",
       "</table>\n",
       "</div>"
      ],
      "text/plain": [
       "    BU INTRENALE_TRADE_REFERENCE  PARTY_1_CODE PARTY_1_CODE_TYPE  \\\n",
       "3   35             TCG201122AC04            35                BU   \n",
       "8   40             TCG201122AC09            40                BU   \n",
       "13  45             TCG201122AC14            45                BU   \n",
       "18  50             TCG201122AC19            50                BU   \n",
       "\n",
       "    PARTY_2_CODE PARTY_2_CODE_TYPE PRODUCT_ID_VALUE_1 PRODUCT_ID_VALUE_2  \\\n",
       "3         123459               CIF             CREDIT               DEBT   \n",
       "8         123464               CIF             CREDIT               DEBT   \n",
       "13        123469               CIF             CREDIT               DEBT   \n",
       "18        123474               CIF             CREDIT               DEBT   \n",
       "\n",
       "    NOTIONAL NOTIONAL_CURRENCY  VALUE_DATE MATURITY_DATE  \\\n",
       "3     100003               INR  31-12-2024    31-12-2025   \n",
       "8     100008               INR  31-12-2024    31-12-2025   \n",
       "13    100013               INR  31-12-2024    31-12-2025   \n",
       "18    100018               INR  31-12-2024    31-12-2025   \n",
       "\n",
       "    EARLY_TERMINATION_DATE  PRICE PRICE_CURRENCY  \n",
       "3                      NaN    4.2            USD  \n",
       "8                      NaN    9.2            USD  \n",
       "13                     NaN   14.2            USD  \n",
       "18                     NaN   19.2            USD  "
      ]
     },
     "execution_count": 13,
     "metadata": {},
     "output_type": "execute_result"
    }
   ],
   "source": [
    "import pandas as pd\n",
    "source_df=pd.read_csv(r\"C:\\Users\\ramka\\Documents\\vscode_session\\TRADE_INPUT.csv\")\n",
    "# source_df\n",
    "# dir(source_df)\n",
    "filtered_df=source_df[source_df['PRODUCT_ID_VALUE_1']=='CREDIT']\n",
    "filtered_df"
   ]
  },
  {
   "cell_type": "code",
   "execution_count": 15,
   "id": "0ae5c81a-86dd-4e43-9200-55c2938061b0",
   "metadata": {},
   "outputs": [
    {
     "name": "stdout",
     "output_type": "stream",
     "text": [
      "name: Bob\n",
      "age: 30\n"
     ]
    }
   ],
   "source": [
    "def print_kwargs(**kwargs):\n",
    "    for key, value in kwargs.items():\n",
    "        print(f\"{key}: {value}\")\n",
    "\n",
    "print_kwargs(name=\"Bob\", age=30)  # Outputs: name: Bob, age: 30"
   ]
  },
  {
   "cell_type": "code",
   "execution_count": 60,
   "id": "b40cbd1d-13bd-4570-b656-25f24221a775",
   "metadata": {},
   "outputs": [
    {
     "name": "stdout",
     "output_type": "stream",
     "text": [
      "    BU INTRENALE_TRADE_REFERENCE  PARTY_1_CODE PARTY_1_CODE_TYPE  \\\n",
      "12  44             TCG201122AC13            44                BU   \n",
      "\n",
      "    PARTY_2_CODE PARTY_2_CODE_TYPE PRODUCT_ID_VALUE_1 PRODUCT_ID_VALUE_2  \\\n",
      "12        123468               CIF        COMMODITIES               GOLD   \n",
      "\n",
      "    NOTIONAL NOTIONAL_CURRENCY  VALUE_DATE MATURITY_DATE  \\\n",
      "12    100012               INR  31-12-2024    31-12-2025   \n",
      "\n",
      "    EARLY_TERMINATION_DATE  PRICE PRICE_CURRENCY  \n",
      "12                     NaN   13.2            USD  \n"
     ]
    }
   ],
   "source": [
    "def filterdata(**kargs):\n",
    "    for i,j in kargs.items():\n",
    "        filtered_df=source_df[source_df[i]==j] \n",
    "        # filtered_df_by_2=filtered_df_by_1[source_df[i]==j] \n",
    "        # filtered_df_by_bu=filtered_df_by_2[source_df[i]==j] \n",
    "     \n",
    "    # print(filtered_df)\n",
    "    return filtered_df\n",
    "fin_df=filterdata(PRODUCT_ID_VALUE_1='COMMODITIES', PRODUCT_ID_VALUE_2='GOLD', BU=44  )\n",
    "print(fin_df)"
   ]
  },
  {
   "cell_type": "code",
   "execution_count": 128,
   "id": "8ebc7423-402a-4d1c-ae72-cb0c654ce6dc",
   "metadata": {},
   "outputs": [
    {
     "name": "stdout",
     "output_type": "stream",
     "text": [
      "    BU INTRENALE_TRADE_REFERENCE  PARTY_1_CODE PARTY_1_CODE_TYPE  \\\n",
      "12  44             TCG201122AC13            44                BU   \n",
      "\n",
      "    PARTY_2_CODE PARTY_2_CODE_TYPE PRODUCT_ID_VALUE_1 PRODUCT_ID_VALUE_2  \\\n",
      "12        123468               CIF        COMMODITIES               GOLD   \n",
      "\n",
      "    NOTIONAL NOTIONAL_CURRENCY  VALUE_DATE MATURITY_DATE  \\\n",
      "12    100012               INR  31-12-2024    31-12-2025   \n",
      "\n",
      "    EARLY_TERMINATION_DATE PRICE PRICE_CURRENCY  \n",
      "12                     NaN    99            ABC  \n"
     ]
    },
    {
     "name": "stderr",
     "output_type": "stream",
     "text": [
      "C:\\Users\\ramka\\AppData\\Local\\Temp\\ipykernel_17788\\4192700665.py:3: SettingWithCopyWarning: \n",
      "A value is trying to be set on a copy of a slice from a DataFrame.\n",
      "Try using .loc[row_indexer,col_indexer] = value instead\n",
      "\n",
      "See the caveats in the documentation: https://pandas.pydata.org/pandas-docs/stable/user_guide/indexing.html#returning-a-view-versus-a-copy\n",
      "  fin_df[i]=fin_df[i].to_string(index=False).replace(fin_df[i].to_string(index=False),j)\n"
     ]
    }
   ],
   "source": [
    "def overrideTheFieldsFromGiven(**krgs):\n",
    "    for i, j in krgs.items():\n",
    "        fin_df[i]=fin_df[i].to_string(index=False).replace(fin_df[i].to_string(index=False),j)\n",
    "\n",
    "\n",
    "print(fin_df)\n",
    "   \n",
    "# print(fin_df)\n",
    "overrideTheFieldsFromGiven(PRICE='99', PRICE_CURRENCY='ABC')"
   ]
  },
  {
   "cell_type": "code",
   "execution_count": 106,
   "id": "4dc58172-5d9a-42fc-885f-96254ec89488",
   "metadata": {},
   "outputs": [
    {
     "data": {
      "text/plain": [
       "<bound method Series.to_string of 12    100012\n",
       "Name: NOTIONAL, dtype: int64>"
      ]
     },
     "execution_count": 106,
     "metadata": {},
     "output_type": "execute_result"
    }
   ],
   "source": [
    "fin_df['NOTIONAL'].to_string"
   ]
  },
  {
   "cell_type": "code",
   "execution_count": 96,
   "id": "a9263d30-2d6a-4cbe-8095-1c444a4fdf49",
   "metadata": {},
   "outputs": [
    {
     "data": {
      "text/plain": [
       "pandas.core.series.Series"
      ]
     },
     "execution_count": 96,
     "metadata": {},
     "output_type": "execute_result"
    }
   ],
   "source": [
    "type(fin_df['NOTIONAL'])"
   ]
  }
 ],
 "metadata": {
  "kernelspec": {
   "display_name": "Python 3 (ipykernel)",
   "language": "python",
   "name": "python3"
  },
  "language_info": {
   "codemirror_mode": {
    "name": "ipython",
    "version": 3
   },
   "file_extension": ".py",
   "mimetype": "text/x-python",
   "name": "python",
   "nbconvert_exporter": "python",
   "pygments_lexer": "ipython3",
   "version": "3.12.4"
  }
 },
 "nbformat": 4,
 "nbformat_minor": 5
}
