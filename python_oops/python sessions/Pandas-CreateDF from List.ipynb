{
 "cells": [
  {
   "cell_type": "code",
   "execution_count": 15,
   "id": "39da5880-82dd-44d8-a178-5b0b66b92f26",
   "metadata": {},
   "outputs": [
    {
     "data": {
      "text/html": [
       "<div>\n",
       "<style scoped>\n",
       "    .dataframe tbody tr th:only-of-type {\n",
       "        vertical-align: middle;\n",
       "    }\n",
       "\n",
       "    .dataframe tbody tr th {\n",
       "        vertical-align: top;\n",
       "    }\n",
       "\n",
       "    .dataframe thead th {\n",
       "        text-align: right;\n",
       "    }\n",
       "</style>\n",
       "<table border=\"1\" class=\"dataframe\">\n",
       "  <thead>\n",
       "    <tr style=\"text-align: right;\">\n",
       "      <th></th>\n",
       "      <th>words</th>\n",
       "    </tr>\n",
       "  </thead>\n",
       "  <tbody>\n",
       "    <tr>\n",
       "      <th>0</th>\n",
       "      <td>greeks</td>\n",
       "    </tr>\n",
       "    <tr>\n",
       "      <th>1</th>\n",
       "      <td>for</td>\n",
       "    </tr>\n",
       "    <tr>\n",
       "      <th>2</th>\n",
       "      <td>greeks</td>\n",
       "    </tr>\n",
       "    <tr>\n",
       "      <th>3</th>\n",
       "      <td>is</td>\n",
       "    </tr>\n",
       "    <tr>\n",
       "      <th>4</th>\n",
       "      <td>portal</td>\n",
       "    </tr>\n",
       "    <tr>\n",
       "      <th>5</th>\n",
       "      <td>for</td>\n",
       "    </tr>\n",
       "    <tr>\n",
       "      <th>6</th>\n",
       "      <td>geek</td>\n",
       "    </tr>\n",
       "  </tbody>\n",
       "</table>\n",
       "</div>"
      ],
      "text/plain": [
       "    words\n",
       "0  greeks\n",
       "1     for\n",
       "2  greeks\n",
       "3      is\n",
       "4  portal\n",
       "5     for\n",
       "6    geek"
      ]
     },
     "execution_count": 15,
     "metadata": {},
     "output_type": "execute_result"
    }
   ],
   "source": [
    "import pandas as pd\n",
    "list1=['greeks','for','greeks','is','portal','for','geek']\n",
    "col=['words']\n",
    "df1=pd.DataFrame(list1, columns=col)\n",
    "df1"
   ]
  },
  {
   "cell_type": "code",
   "execution_count": 109,
   "id": "06288eb3-7c5b-4436-88cd-397e1a1fa897",
   "metadata": {},
   "outputs": [
    {
     "ename": "SyntaxError",
     "evalue": "invalid syntax. Maybe you meant '==' or ':=' instead of '='? (1458171060.py, line 4)",
     "output_type": "error",
     "traceback": [
      "\u001b[1;36m  Cell \u001b[1;32mIn[109], line 4\u001b[1;36m\u001b[0m\n\u001b[1;33m    'Subject':['Math','Phy','Che','SCI']},index_col=\"Name\")\u001b[0m\n\u001b[1;37m                                          ^\u001b[0m\n\u001b[1;31mSyntaxError\u001b[0m\u001b[1;31m:\u001b[0m invalid syntax. Maybe you meant '==' or ':=' instead of '='?\n"
     ]
    }
   ],
   "source": [
    "# Creating DF using Dictionary\n",
    "Grade2=({'Name':['Shreya','Isha','Simran','Pooja'],\n",
    "               'Marks':[60,70,90,50],\n",
    "               'Subject':['Math','Phy','Che','SCI']},index_col=\"Name\")\n",
    "\n",
    "df2=pd.DataFrame(Grade2)\n",
    "df2\n",
    "# print(df2['Name']) #-- Column Selection\n",
    "nm = (df2.loc[\"Subject\"])\n",
    "nm"
   ]
  },
  {
   "cell_type": "code",
   "execution_count": 89,
   "id": "9729f708-10a1-42a9-a5a1-9148a5567f97",
   "metadata": {},
   "outputs": [
    {
     "data": {
      "text/plain": [
       "Number           99.0\n",
       "Position           SF\n",
       "Age              25.0\n",
       "Height            6-6\n",
       "College     Marquette\n",
       "Salary      6796117.0\n",
       "Name: Jae Crowder, dtype: object"
      ]
     },
     "execution_count": 89,
     "metadata": {},
     "output_type": "execute_result"
    }
   ],
   "source": [
    "df3=pd.read_csv(r\"C:\\Users\\ramka\\Downloads\\nba.csv\", index_col=\"Name\")\n",
    "# df3\n",
    "df4=df3.loc[\"Jae Crowder\"]\n",
    "df4.drop([\"Team\",\"Weight\"])\n"
   ]
  },
  {
   "cell_type": "code",
   "execution_count": 113,
   "id": "8309e29f-9f06-43c1-8833-2db26f68d009",
   "metadata": {},
   "outputs": [
    {
     "ename": "TypeError",
     "evalue": "read_csv() got an unexpected keyword argument 'index'",
     "output_type": "error",
     "traceback": [
      "\u001b[1;31m---------------------------------------------------------------------------\u001b[0m",
      "\u001b[1;31mTypeError\u001b[0m                                 Traceback (most recent call last)",
      "Cell \u001b[1;32mIn[113], line 1\u001b[0m\n\u001b[1;32m----> 1\u001b[0m df4\u001b[38;5;241m=\u001b[39mpd\u001b[38;5;241m.\u001b[39mread_csv(\u001b[38;5;124mr\u001b[39m\u001b[38;5;124m\"\u001b[39m\u001b[38;5;124mC:\u001b[39m\u001b[38;5;124m\\\u001b[39m\u001b[38;5;124mUsers\u001b[39m\u001b[38;5;124m\\\u001b[39m\u001b[38;5;124mramka\u001b[39m\u001b[38;5;124m\\\u001b[39m\u001b[38;5;124mDownloads\u001b[39m\u001b[38;5;124m\\\u001b[39m\u001b[38;5;124mnba.csv\u001b[39m\u001b[38;5;124m\"\u001b[39m, index\u001b[38;5;241m=\u001b[39m[\u001b[38;5;241m1\u001b[39m])\n\u001b[0;32m      2\u001b[0m df4\n",
      "\u001b[1;31mTypeError\u001b[0m: read_csv() got an unexpected keyword argument 'index'"
     ]
    }
   ],
   "source": [
    "df4=pd.read_csv(r\"C:\\Users\\ramka\\Downloads\\nba.csv\", index=[1])\n",
    "df4"
   ]
  },
  {
   "cell_type": "code",
   "execution_count": 131,
   "id": "ff04c835-0eec-4b71-b5dd-83a40fc3f3cd",
   "metadata": {},
   "outputs": [
    {
     "name": "stdout",
     "output_type": "stream",
     "text": [
      "0 First Score     100.0\n",
      "Second Score     30.0\n",
      "Third Score       NaN\n",
      "Name: 0, dtype: float64\n",
      "\n",
      "1 First Score     90.0\n",
      "Second Score    45.0\n",
      "Third Score     40.0\n",
      "Name: 1, dtype: float64\n",
      "\n",
      "2 First Score      NaN\n",
      "Second Score    56.0\n",
      "Third Score     80.0\n",
      "Name: 2, dtype: float64\n",
      "\n",
      "3 First Score     95.0\n",
      "Second Score     NaN\n",
      "Third Score     98.0\n",
      "Name: 3, dtype: float64\n",
      "\n"
     ]
    }
   ],
   "source": [
    "import numpy as np\n",
    "dict = {'First Score':[100, 90, np.nan, 95],\n",
    "        'Second Score': [30, 45, 56, np.nan],\n",
    "        'Third Score':[np.nan, 40, 80, 98]}\n",
    "df=pd.DataFrame(dict)\n",
    "df\n",
    "# df.fillna(0)\n",
    "# df.dropna()\n",
    "for i, j in df.iterrows():\n",
    "    print(i,j)\n",
    "    print()\n",
    "    "
   ]
  },
  {
   "cell_type": "code",
   "execution_count": 140,
   "id": "9f8882ff-5df3-4fab-aa11-d3556ec634a6",
   "metadata": {},
   "outputs": [
    {
     "data": {
      "text/plain": [
       "['First Score', 'Second Score', 'Third Score']"
      ]
     },
     "execution_count": 140,
     "metadata": {},
     "output_type": "execute_result"
    }
   ],
   "source": [
    "columns=list(df)\n",
    "columns\n",
    "for i in columns:\n",
    "    print(df[i][3])"
   ]
  }
 ],
 "metadata": {
  "kernelspec": {
   "display_name": "Python 3 (ipykernel)",
   "language": "python",
   "name": "python3"
  },
  "language_info": {
   "codemirror_mode": {
    "name": "ipython",
    "version": 3
   },
   "file_extension": ".py",
   "mimetype": "text/x-python",
   "name": "python",
   "nbconvert_exporter": "python",
   "pygments_lexer": "ipython3",
   "version": "3.12.4"
  }
 },
 "nbformat": 4,
 "nbformat_minor": 5
}
