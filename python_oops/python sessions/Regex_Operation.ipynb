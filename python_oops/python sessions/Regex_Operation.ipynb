{
 "cells": [
  {
   "cell_type": "markdown",
   "id": "3d7bd615-8ee5-4ce7-87d9-33ef65117184",
   "metadata": {},
   "source": [
    "- Regex operations are called a Regular Expressions\n",
    " \n",
    "- It is used to search , match and manipulate text based patterns\n",
    " \n",
    "- package name: **re**\n",
    " \n",
    "- if we wants to identify any patterns matching\n",
    " \n",
    "- Replace any text\n",
    " \n",
    "- Split the text\n",
    " \n",
    "- Validate the text\n",
    " \n",
    "- we can achives with strings operations\n",
    " \n",
    "- but regex is powerful and easy."
   ]
  },
  {
   "cell_type": "code",
   "execution_count": null,
   "id": "397900f4-3eab-4a8e-9f61-92a6fadf13dd",
   "metadata": {},
   "outputs": [],
   "source": [
    "import re\n"
   ]
  },
  {
   "cell_type": "code",
   "execution_count": 8,
   "id": "8981bd3c-b31c-4c03-b3e2-c293058a2a64",
   "metadata": {},
   "outputs": [
    {
     "data": {
      "text/plain": [
       "True"
      ]
     },
     "execution_count": 8,
     "metadata": {},
     "output_type": "execute_result"
    }
   ],
   "source": [
    "# re.match # Matches pattern\n",
    "pattern=r\"hello\"\n",
    "str1=\"hello world\"\n",
    "pattern in str1\n"
   ]
  },
  {
   "cell_type": "code",
   "execution_count": 14,
   "id": "7075fe2d-7d27-4fed-8eca-3fefbb3a07cb",
   "metadata": {},
   "outputs": [
    {
     "data": {
      "text/plain": [
       "'hello'"
      ]
     },
     "execution_count": 14,
     "metadata": {},
     "output_type": "execute_result"
    }
   ],
   "source": [
    "import re\n",
    "res=re.match(pattern,str1)\n",
    "res.group()"
   ]
  },
  {
   "cell_type": "code",
   "execution_count": 16,
   "id": "415f47e7-e52b-4be0-8fbb-aabdc8e4e10c",
   "metadata": {},
   "outputs": [
    {
     "name": "stdout",
     "output_type": "stream",
     "text": [
      "result: <re.Match object; span=(6, 11), match='hello'>\n"
     ]
    },
    {
     "data": {
      "text/plain": [
       "'hello'"
      ]
     },
     "execution_count": 16,
     "metadata": {},
     "output_type": "execute_result"
    }
   ],
   "source": [
    "pattern=r\"hello\"\n",
    "str1=\"world hello\"\n",
    "result=re.search(pattern,str1)\n",
    "print('result:',result)\n",
    "result.group()\n",
    "# Match only works if first word matching\n",
    "# Search used for any word anywhere"
   ]
  },
  {
   "cell_type": "code",
   "execution_count": 26,
   "id": "e784371f-67a0-424c-b4ef-8338740b75f9",
   "metadata": {},
   "outputs": [
    {
     "data": {
      "text/plain": [
       "['100', '20', '20']"
      ]
     },
     "execution_count": 26,
     "metadata": {},
     "output_type": "execute_result"
    }
   ],
   "source": [
    "pattern=r\"\\d+\"\n",
    "str1=\"The proce is 100 and tax 20 and 20\"\n",
    "res=re.findall(pattern, str1)\n",
    "res"
   ]
  },
  {
   "cell_type": "code",
   "execution_count": 24,
   "id": "8768a603-f0c8-4440-84ff-d228a77f3784",
   "metadata": {},
   "outputs": [
    {
     "data": {
      "text/plain": [
       "['The', 'proce', 'is', '100', 'and', 'tax', '20']"
      ]
     },
     "execution_count": 24,
     "metadata": {},
     "output_type": "execute_result"
    }
   ],
   "source": [
    "pattern=r\"\\w+\"\n",
    "str1=\"The proce is 100 and tax 20\"\n",
    "res=re.findall(pattern, str1)\n",
    "res"
   ]
  },
  {
   "cell_type": "code",
   "execution_count": null,
   "id": "e83bad45-482d-40b0-b864-2fc488a87af4",
   "metadata": {},
   "outputs": [],
   "source": [
    "pattern=r\"\\w+\"\n",
    "str1=\"The proce is 100 and tax 20\"\n",
    "res=re.findall()\n",
    "res"
   ]
  },
  {
   "cell_type": "markdown",
   "id": "c142dce0-87b0-41da-96b8-ed02b05c1141",
   "metadata": {},
   "source": [
    "**re.sub**\n",
    "- Substitute the string when pattern matches"
   ]
  },
  {
   "cell_type": "code",
   "execution_count": 37,
   "id": "75220e75-483b-432c-b56d-316ecb42d94b",
   "metadata": {},
   "outputs": [
    {
     "name": "stdout",
     "output_type": "stream",
     "text": [
      "The proce is AND and tax AND and and\n"
     ]
    }
   ],
   "source": [
    "pattern=r\"\\d+\"\n",
    "str1=\"The proce is 100 and tax 20 and and\"\n",
    "res=re.sub(pattern,'AND', str1)\n",
    "print(res)"
   ]
  },
  {
   "cell_type": "code",
   "execution_count": 39,
   "id": "d2bb287b-fb19-4dd1-9128-6929f6db14e3",
   "metadata": {},
   "outputs": [
    {
     "name": "stdout",
     "output_type": "stream",
     "text": [
      "AND AND AND AND AND AND AND AND AND\n"
     ]
    }
   ],
   "source": [
    "pattern=r\"\\w+\"\n",
    "str1=\"The proce is 100 and tax 20 and and\"\n",
    "res=re.sub(pattern,'AND', str1)\n",
    "print(res)"
   ]
  },
  {
   "cell_type": "markdown",
   "id": "59540c4d-26e0-4440-8729-1748f5ee30ca",
   "metadata": {},
   "source": [
    "**re.split**\n",
    "- the patter s+"
   ]
  },
  {
   "cell_type": "code",
   "execution_count": 42,
   "id": "7d9ce46b-c8d6-47ef-9b25-6686d2a14093",
   "metadata": {},
   "outputs": [
    {
     "name": "stdout",
     "output_type": "stream",
     "text": [
      "['The proce is ', ' and tax ', ' and and']\n"
     ]
    }
   ],
   "source": [
    "pattern=r\"\\d+\"\n",
    "str1=\"The proce is 100 and tax 20 and and\"\n",
    "res=re.split(pattern,str1)\n",
    "print(res)"
   ]
  },
  {
   "cell_type": "code",
   "execution_count": 44,
   "id": "72d38677-bc75-4ab9-8a5d-b04b9d11c62a",
   "metadata": {},
   "outputs": [
    {
     "name": "stdout",
     "output_type": "stream",
     "text": [
      "['', ' ', ' ', ' ', ' ', ' ', ' ', ' ', ' ', '']\n"
     ]
    }
   ],
   "source": [
    "pattern=r\"\\w+\"\n",
    "str1=\"The proce is 100 and tax 20 and and\"\n",
    "res=re.split(pattern,str1)\n",
    "print(res)"
   ]
  },
  {
   "cell_type": "code",
   "execution_count": 52,
   "id": "960b6acd-63a8-4ecb-84a9-8237ad51b459",
   "metadata": {},
   "outputs": [
    {
     "name": "stderr",
     "output_type": "stream",
     "text": [
      "<>:1: SyntaxWarning: invalid escape sequence '\\d'\n",
      "<>:1: SyntaxWarning: invalid escape sequence '\\d'\n",
      "<>:1: SyntaxWarning: invalid escape sequence '\\d'\n",
      "<>:1: SyntaxWarning: invalid escape sequence '\\d'\n",
      "C:\\Users\\ramka\\AppData\\Local\\Temp\\ipykernel_22900\\1576494305.py:1: SyntaxWarning: invalid escape sequence '\\d'\n",
      "  pattern=r\"\\d+\"-\"\\d+\"-\"\\d\"\n",
      "C:\\Users\\ramka\\AppData\\Local\\Temp\\ipykernel_22900\\1576494305.py:1: SyntaxWarning: invalid escape sequence '\\d'\n",
      "  pattern=r\"\\d+\"-\"\\d+\"-\"\\d\"\n",
      "C:\\Users\\ramka\\AppData\\Local\\Temp\\ipykernel_22900\\1576494305.py:1: SyntaxWarning: invalid escape sequence '\\d'\n",
      "  pattern=r\"\\d+\"-\"\\d+\"-\"\\d\"\n",
      "C:\\Users\\ramka\\AppData\\Local\\Temp\\ipykernel_22900\\1576494305.py:1: SyntaxWarning: invalid escape sequence '\\d'\n",
      "  pattern=r\"\\d+\"-\"\\d+\"-\"\\d\"\n"
     ]
    },
    {
     "ename": "TypeError",
     "evalue": "unsupported operand type(s) for -: 'str' and 'str'",
     "output_type": "error",
     "traceback": [
      "\u001b[1;31m---------------------------------------------------------------------------\u001b[0m",
      "\u001b[1;31mTypeError\u001b[0m                                 Traceback (most recent call last)",
      "Cell \u001b[1;32mIn[52], line 1\u001b[0m\n\u001b[1;32m----> 1\u001b[0m pattern\u001b[38;5;241m=\u001b[39m\u001b[38;5;124mr\u001b[39m\u001b[38;5;124m\"\u001b[39m\u001b[38;5;124m\\\u001b[39m\u001b[38;5;124md+\u001b[39m\u001b[38;5;124m\"\u001b[39m\u001b[38;5;241m-\u001b[39m\u001b[38;5;124m\"\u001b[39m\u001b[38;5;124m\\\u001b[39m\u001b[38;5;124md+\u001b[39m\u001b[38;5;124m\"\u001b[39m\u001b[38;5;241m-\u001b[39m\u001b[38;5;124m\"\u001b[39m\u001b[38;5;124m\\\u001b[39m\u001b[38;5;124md\u001b[39m\u001b[38;5;124m\"\u001b[39m\n\u001b[0;32m      2\u001b[0m str1\u001b[38;5;241m=\u001b[39m\u001b[38;5;124m\"\u001b[39m\u001b[38;5;124mThe proce is 100 and tax 20 and on 12-12-2029 born on 23-12-2000 and\u001b[39m\u001b[38;5;124m\"\u001b[39m\n\u001b[0;32m      3\u001b[0m res\u001b[38;5;241m=\u001b[39mre\u001b[38;5;241m.\u001b[39mfindall(pattern,str1)\n",
      "\u001b[1;31mTypeError\u001b[0m: unsupported operand type(s) for -: 'str' and 'str'"
     ]
    }
   ],
   "source": [
    "pattern=r\"\\d+\"-\"\\d+\"-\"\\d\"\n",
    "str1=\"The proce is 100 and tax 20 and on 12-12-2029 born on 23-12-2000 and\"\n",
    "res=re.findall(pattern,str1)\n",
    "print(res)"
   ]
  },
  {
   "cell_type": "markdown",
   "id": "e78348b0-60e0-4496-a8ce-79bed1f968ec",
   "metadata": {},
   "source": [
    "** Email Validate use case **\n",
    "- digit\n",
    "- letters\n",
    "- spl chars"
   ]
  },
  {
   "cell_type": "code",
   "execution_count": 93,
   "id": "d2808b64-979c-49ae-89f3-38a76bec1092",
   "metadata": {},
   "outputs": [
    {
     "ename": "error",
     "evalue": "bad character range +-) at position 13",
     "output_type": "error",
     "traceback": [
      "\u001b[1;31m---------------------------------------------------------------------------\u001b[0m",
      "\u001b[1;31merror\u001b[0m                                     Traceback (most recent call last)",
      "Cell \u001b[1;32mIn[93], line 12\u001b[0m\n\u001b[0;32m     10\u001b[0m pattern\u001b[38;5;241m=\u001b[39m\u001b[38;5;124mr\u001b[39m\u001b[38;5;124m\"\u001b[39m\u001b[38;5;124m^[a-zA-Z0-9_.+-)]+@[a-zA-Z0-9_+-]+\u001b[39m\u001b[38;5;124m\\\u001b[39m\u001b[38;5;124m.[a-zA-Z]\u001b[39m\u001b[38;5;124m{\u001b[39m\u001b[38;5;124m2,}$\u001b[39m\u001b[38;5;124m\"\u001b[39m\n\u001b[0;32m     11\u001b[0m email\u001b[38;5;241m=\u001b[39m\u001b[38;5;124m'\u001b[39m\u001b[38;5;124mram.ka)am@gmail.com\u001b[39m\u001b[38;5;124m'\u001b[39m\n\u001b[1;32m---> 12\u001b[0m \u001b[38;5;28mbool\u001b[39m(re\u001b[38;5;241m.\u001b[39mmatch(pattern,email))\n",
      "File \u001b[1;32m~\\anaconda3\\Lib\\re\\__init__.py:167\u001b[0m, in \u001b[0;36mmatch\u001b[1;34m(pattern, string, flags)\u001b[0m\n\u001b[0;32m    164\u001b[0m \u001b[38;5;28;01mdef\u001b[39;00m \u001b[38;5;21mmatch\u001b[39m(pattern, string, flags\u001b[38;5;241m=\u001b[39m\u001b[38;5;241m0\u001b[39m):\n\u001b[0;32m    165\u001b[0m \u001b[38;5;250m    \u001b[39m\u001b[38;5;124;03m\"\"\"Try to apply the pattern at the start of the string, returning\u001b[39;00m\n\u001b[0;32m    166\u001b[0m \u001b[38;5;124;03m    a Match object, or None if no match was found.\"\"\"\u001b[39;00m\n\u001b[1;32m--> 167\u001b[0m     \u001b[38;5;28;01mreturn\u001b[39;00m _compile(pattern, flags)\u001b[38;5;241m.\u001b[39mmatch(string)\n",
      "File \u001b[1;32m~\\anaconda3\\Lib\\re\\__init__.py:307\u001b[0m, in \u001b[0;36m_compile\u001b[1;34m(pattern, flags)\u001b[0m\n\u001b[0;32m    301\u001b[0m     \u001b[38;5;28;01mimport\u001b[39;00m \u001b[38;5;21;01mwarnings\u001b[39;00m\n\u001b[0;32m    302\u001b[0m     warnings\u001b[38;5;241m.\u001b[39mwarn(\u001b[38;5;124m\"\u001b[39m\u001b[38;5;124mThe re.TEMPLATE/re.T flag is deprecated \u001b[39m\u001b[38;5;124m\"\u001b[39m\n\u001b[0;32m    303\u001b[0m             \u001b[38;5;124m\"\u001b[39m\u001b[38;5;124mas it is an undocumented flag \u001b[39m\u001b[38;5;124m\"\u001b[39m\n\u001b[0;32m    304\u001b[0m             \u001b[38;5;124m\"\u001b[39m\u001b[38;5;124mwithout an obvious purpose. \u001b[39m\u001b[38;5;124m\"\u001b[39m\n\u001b[0;32m    305\u001b[0m             \u001b[38;5;124m\"\u001b[39m\u001b[38;5;124mDon\u001b[39m\u001b[38;5;124m'\u001b[39m\u001b[38;5;124mt use it.\u001b[39m\u001b[38;5;124m\"\u001b[39m,\n\u001b[0;32m    306\u001b[0m             \u001b[38;5;167;01mDeprecationWarning\u001b[39;00m)\n\u001b[1;32m--> 307\u001b[0m p \u001b[38;5;241m=\u001b[39m _compiler\u001b[38;5;241m.\u001b[39mcompile(pattern, flags)\n\u001b[0;32m    308\u001b[0m \u001b[38;5;28;01mif\u001b[39;00m flags \u001b[38;5;241m&\u001b[39m DEBUG:\n\u001b[0;32m    309\u001b[0m     \u001b[38;5;28;01mreturn\u001b[39;00m p\n",
      "File \u001b[1;32m~\\anaconda3\\Lib\\re\\_compiler.py:745\u001b[0m, in \u001b[0;36mcompile\u001b[1;34m(p, flags)\u001b[0m\n\u001b[0;32m    743\u001b[0m \u001b[38;5;28;01mif\u001b[39;00m isstring(p):\n\u001b[0;32m    744\u001b[0m     pattern \u001b[38;5;241m=\u001b[39m p\n\u001b[1;32m--> 745\u001b[0m     p \u001b[38;5;241m=\u001b[39m _parser\u001b[38;5;241m.\u001b[39mparse(p, flags)\n\u001b[0;32m    746\u001b[0m \u001b[38;5;28;01melse\u001b[39;00m:\n\u001b[0;32m    747\u001b[0m     pattern \u001b[38;5;241m=\u001b[39m \u001b[38;5;28;01mNone\u001b[39;00m\n",
      "File \u001b[1;32m~\\anaconda3\\Lib\\re\\_parser.py:979\u001b[0m, in \u001b[0;36mparse\u001b[1;34m(str, flags, state)\u001b[0m\n\u001b[0;32m    976\u001b[0m state\u001b[38;5;241m.\u001b[39mflags \u001b[38;5;241m=\u001b[39m flags\n\u001b[0;32m    977\u001b[0m state\u001b[38;5;241m.\u001b[39mstr \u001b[38;5;241m=\u001b[39m \u001b[38;5;28mstr\u001b[39m\n\u001b[1;32m--> 979\u001b[0m p \u001b[38;5;241m=\u001b[39m _parse_sub(source, state, flags \u001b[38;5;241m&\u001b[39m SRE_FLAG_VERBOSE, \u001b[38;5;241m0\u001b[39m)\n\u001b[0;32m    980\u001b[0m p\u001b[38;5;241m.\u001b[39mstate\u001b[38;5;241m.\u001b[39mflags \u001b[38;5;241m=\u001b[39m fix_flags(\u001b[38;5;28mstr\u001b[39m, p\u001b[38;5;241m.\u001b[39mstate\u001b[38;5;241m.\u001b[39mflags)\n\u001b[0;32m    982\u001b[0m \u001b[38;5;28;01mif\u001b[39;00m source\u001b[38;5;241m.\u001b[39mnext \u001b[38;5;129;01mis\u001b[39;00m \u001b[38;5;129;01mnot\u001b[39;00m \u001b[38;5;28;01mNone\u001b[39;00m:\n",
      "File \u001b[1;32m~\\anaconda3\\Lib\\re\\_parser.py:460\u001b[0m, in \u001b[0;36m_parse_sub\u001b[1;34m(source, state, verbose, nested)\u001b[0m\n\u001b[0;32m    458\u001b[0m start \u001b[38;5;241m=\u001b[39m source\u001b[38;5;241m.\u001b[39mtell()\n\u001b[0;32m    459\u001b[0m \u001b[38;5;28;01mwhile\u001b[39;00m \u001b[38;5;28;01mTrue\u001b[39;00m:\n\u001b[1;32m--> 460\u001b[0m     itemsappend(_parse(source, state, verbose, nested \u001b[38;5;241m+\u001b[39m \u001b[38;5;241m1\u001b[39m,\n\u001b[0;32m    461\u001b[0m                        \u001b[38;5;129;01mnot\u001b[39;00m nested \u001b[38;5;129;01mand\u001b[39;00m \u001b[38;5;129;01mnot\u001b[39;00m items))\n\u001b[0;32m    462\u001b[0m     \u001b[38;5;28;01mif\u001b[39;00m \u001b[38;5;129;01mnot\u001b[39;00m sourcematch(\u001b[38;5;124m\"\u001b[39m\u001b[38;5;124m|\u001b[39m\u001b[38;5;124m\"\u001b[39m):\n\u001b[0;32m    463\u001b[0m         \u001b[38;5;28;01mbreak\u001b[39;00m\n",
      "File \u001b[1;32m~\\anaconda3\\Lib\\re\\_parser.py:617\u001b[0m, in \u001b[0;36m_parse\u001b[1;34m(source, state, verbose, nested, first)\u001b[0m\n\u001b[0;32m    615\u001b[0m     \u001b[38;5;28;01mif\u001b[39;00m hi \u001b[38;5;241m<\u001b[39m lo:\n\u001b[0;32m    616\u001b[0m         msg \u001b[38;5;241m=\u001b[39m \u001b[38;5;124m\"\u001b[39m\u001b[38;5;124mbad character range \u001b[39m\u001b[38;5;132;01m%s\u001b[39;00m\u001b[38;5;124m-\u001b[39m\u001b[38;5;132;01m%s\u001b[39;00m\u001b[38;5;124m\"\u001b[39m \u001b[38;5;241m%\u001b[39m (this, that)\n\u001b[1;32m--> 617\u001b[0m         \u001b[38;5;28;01mraise\u001b[39;00m source\u001b[38;5;241m.\u001b[39merror(msg, \u001b[38;5;28mlen\u001b[39m(this) \u001b[38;5;241m+\u001b[39m \u001b[38;5;241m1\u001b[39m \u001b[38;5;241m+\u001b[39m \u001b[38;5;28mlen\u001b[39m(that))\n\u001b[0;32m    618\u001b[0m     setappend((RANGE, (lo, hi)))\n\u001b[0;32m    619\u001b[0m \u001b[38;5;28;01melse\u001b[39;00m:\n",
      "\u001b[1;31merror\u001b[0m: bad character range +-) at position 13"
     ]
    }
   ],
   "source": [
    "#^: Used for start of the String\n",
    "#[a-z] [A-Z] [0-9] [.+_] if any letter in email id the identify them many latters ..for that we need to add + sign at the end.\n",
    "#[a-zA-Z0-9.+_]+\n",
    "# till now pattern is ^[a-zA-Z0-9.+_]+\n",
    "# Every email id has @ symbol so pattern is ^[a-zA-Z0-9.+_]+@\n",
    "\n",
    "# ^[a-zA-Z0-9.+_]+@^[a-zA-Z0-9.+_]+\\.[azA-Z]{2,}\n",
    "# $ - End of the String\n",
    "# ^[a-zA-Z0-9.+_]+@^[a-zA-Z0-9.+_]+\\.[azA-Z]{2,}$\n",
    "pattern=r\"^[a-zA-Z0-9_.+-)]+@[a-zA-Z0-9_+-]+\\.[a-zA-Z]{2,}$\"\n",
    "email='ram.kadam@gmail.com'\n",
    "bool(re.match(pattern,email))\n",
    "\n",
    "# Hypen in a-zA-Z is for range not considered as part of regex\n"
   ]
  },
  {
   "cell_type": "code",
   "execution_count": 81,
   "id": "e3d7fe22-cac2-4946-8132-ebdb671ee8e3",
   "metadata": {},
   "outputs": [
    {
     "data": {
      "text/plain": [
       "True"
      ]
     },
     "execution_count": 81,
     "metadata": {},
     "output_type": "execute_result"
    }
   ],
   "source": [
    "pattern=r\"^[a-zA-Z0-9.-\\]+@[a-zA-Z0-9-]+\\.[a-zA-Z]{2,}$\"\n",
    "email='omkar-nallagoni@gmail.com'\n",
    "bool(re.match(pattern,email))"
   ]
  },
  {
   "cell_type": "code",
   "execution_count": 97,
   "id": "ed0ab7ee-bf3a-4cab-ae21-4e992186b135",
   "metadata": {},
   "outputs": [
    {
     "ename": "SyntaxError",
     "evalue": "unterminated string literal (detected at line 2) (1136857770.py, line 2)",
     "output_type": "error",
     "traceback": [
      "\u001b[1;36m  Cell \u001b[1;32mIn[97], line 2\u001b[1;36m\u001b[0m\n\u001b[1;33m    email='ram.kad'am@gmail.com'\u001b[0m\n\u001b[1;37m                               ^\u001b[0m\n\u001b[1;31mSyntaxError\u001b[0m\u001b[1;31m:\u001b[0m unterminated string literal (detected at line 2)\n"
     ]
    }
   ],
   "source": [
    "pattern=r\"^[a-zA-Z0-9_.+-]+@[a-zA-Z0-9_+-]+\\.[a-zA-Z]{2,}$\"\n",
    "email='ram.kadam@gmail.com'\n",
    "bool(re.match(pattern,email))"
   ]
  },
  {
   "cell_type": "code",
   "execution_count": 101,
   "id": "43ffdaaf-29e9-4766-ae3b-1661917b54a2",
   "metadata": {},
   "outputs": [
    {
     "data": {
      "text/plain": [
       "True"
      ]
     },
     "execution_count": 101,
     "metadata": {},
     "output_type": "execute_result"
    }
   ],
   "source": [
    "pattern=r\"^[a-zA-Z0-9_.+-]+@[a-zA-Z0-9_+-]+\\.[a-zA-Z]{2,}$\"\n",
    "email='ram.kadam@gmail.com'\n",
    "bool(re.match(pattern,email))"
   ]
  },
  {
   "cell_type": "markdown",
   "id": "addef45a-14be-46cc-9585-d3293745ef37",
   "metadata": {},
   "source": [
    "** Matching a sequence of 10 numbers **"
   ]
  },
  {
   "cell_type": "code",
   "execution_count": 112,
   "id": "96efc891-8ab0-4c0d-be41-83340b4fb518",
   "metadata": {},
   "outputs": [
    {
     "data": {
      "text/plain": [
       "['1234567890']"
      ]
     },
     "execution_count": 112,
     "metadata": {},
     "output_type": "execute_result"
    }
   ],
   "source": [
    "patter=r\"\\d+\"\n",
    "str1='My mobile number is 1234567890'\n",
    "re.findall(patter,str1)"
   ]
  },
  {
   "cell_type": "code",
   "execution_count": 114,
   "id": "4bd5480c-f24d-4be3-8c50-08ce6addc699",
   "metadata": {},
   "outputs": [
    {
     "data": {
      "text/plain": [
       "['123', '456', '789']"
      ]
     },
     "execution_count": 114,
     "metadata": {},
     "output_type": "execute_result"
    }
   ],
   "source": [
    "patter=r\"\\d{3}\"\n",
    "str1='My mobile number is 1234567890'\n",
    "re.findall(patter,str1)\n",
    "#{} is like splitting the number with those many numbers"
   ]
  },
  {
   "cell_type": "code",
   "execution_count": 116,
   "id": "326c815d-9637-4310-bb6f-b169fce46804",
   "metadata": {},
   "outputs": [
    {
     "data": {
      "text/plain": [
       "['12345', '67890']"
      ]
     },
     "execution_count": 116,
     "metadata": {},
     "output_type": "execute_result"
    }
   ],
   "source": [
    "patter=r\"\\d{5}\"\n",
    "str1='My mobile number is 1234567890'\n",
    "re.findall(patter,str1)\n",
    "#{} is like splitting the number with those many numbers"
   ]
  },
  {
   "cell_type": "code",
   "execution_count": 118,
   "id": "845af8c4-b3ae-4805-a177-a64823237800",
   "metadata": {},
   "outputs": [
    {
     "data": {
      "text/plain": [
       "['12345678']"
      ]
     },
     "execution_count": 118,
     "metadata": {},
     "output_type": "execute_result"
    }
   ],
   "source": [
    "patter=r\"\\d{8}\"\n",
    "str1='My mobile number is 1234567890'\n",
    "re.findall(patter,str1)\n",
    "#{} is like splitting the number with those many numbers"
   ]
  },
  {
   "cell_type": "code",
   "execution_count": 122,
   "id": "36ecfb55-86be-4943-b0cb-c578ff5b7c1e",
   "metadata": {},
   "outputs": [
    {
     "data": {
      "text/plain": [
       "['1234567890']"
      ]
     },
     "execution_count": 122,
     "metadata": {},
     "output_type": "execute_result"
    }
   ],
   "source": [
    "patter=r\"\\d{3,}\"\n",
    "str1='My mobile number is 1234567890'\n",
    "re.findall(patter,str1)\n",
    "#{} is like splitting the number with those many numbers"
   ]
  },
  {
   "cell_type": "code",
   "execution_count": 138,
   "id": "8d4eeb45-bbb1-492f-a2e3-1bbef0b3e422",
   "metadata": {},
   "outputs": [
    {
     "data": {
      "text/plain": [
       "['123456789']"
      ]
     },
     "execution_count": 138,
     "metadata": {},
     "output_type": "execute_result"
    }
   ],
   "source": [
    "patter=r\"\\d{8,9}\"\n",
    "str1='My mobile number is 1234567890'\n",
    "re.findall(patter,str1)\n",
    "#{} first number is what we print and second number is till what we print like we are print 8 digit and upto lenth of 9 when total are 10 digits\n",
    "\n"
   ]
  },
  {
   "cell_type": "code",
   "execution_count": 142,
   "id": "44c4caae-6e1f-4160-833b-d9526fa88abe",
   "metadata": {},
   "outputs": [
    {
     "name": "stderr",
     "output_type": "stream",
     "text": [
      "<>:2: SyntaxWarning: invalid escape sequence '\\d'\n",
      "<>:2: SyntaxWarning: invalid escape sequence '\\d'\n",
      "C:\\Users\\ramka\\AppData\\Local\\Temp\\ipykernel_22900\\1565725758.py:2: SyntaxWarning: invalid escape sequence '\\d'\n",
      "  pat='\\d{3}-\\d{3}-\\d{4}'\n"
     ]
    },
    {
     "data": {
      "text/plain": [
       "['123-234-2430']"
      ]
     },
     "execution_count": 142,
     "metadata": {},
     "output_type": "execute_result"
    }
   ],
   "source": [
    "str2='my number is 123-234-2430'\n",
    "pat='\\d{3}-\\d{3}-\\d{4}'\n",
    "re.findall(pat,str2)"
   ]
  },
  {
   "cell_type": "code",
   "execution_count": 144,
   "id": "eba213ac-3764-405e-b7b6-d0df6cf873ac",
   "metadata": {},
   "outputs": [
    {
     "name": "stderr",
     "output_type": "stream",
     "text": [
      "<>:3: SyntaxWarning: invalid escape sequence '\\d'\n",
      "<>:3: SyntaxWarning: invalid escape sequence '\\d'\n",
      "C:\\Users\\ramka\\AppData\\Local\\Temp\\ipykernel_22900\\1857904851.py:3: SyntaxWarning: invalid escape sequence '\\d'\n",
      "  pat='\\d{2}-\\d{2}-\\d{4}'\n"
     ]
    },
    {
     "data": {
      "text/plain": [
       "['12-02-2430']"
      ]
     },
     "execution_count": 144,
     "metadata": {},
     "output_type": "execute_result"
    }
   ],
   "source": [
    "# Date format\n",
    "str2='my DOJ is 12-02-2430'\n",
    "pat='\\d{2}-\\d{2}-\\d{4}'\n",
    "re.findall(pat,str2)"
   ]
  },
  {
   "cell_type": "code",
   "execution_count": 154,
   "id": "78367f6e-2d19-4eff-9f31-c75945f9b4b5",
   "metadata": {},
   "outputs": [
    {
     "data": {
      "text/plain": [
       "['12-02-2430']"
      ]
     },
     "execution_count": 154,
     "metadata": {},
     "output_type": "execute_result"
    }
   ],
   "source": [
    "# Date format\n",
    "str2='my DOJ is 12-02-2430 and LWD is 2025-07-20'\n",
    "pat=r\"\\d{2}-\\d{2}-\\d{4}\"\n",
    "re.findall(pat,str2)"
   ]
  },
  {
   "cell_type": "code",
   "execution_count": 156,
   "id": "634696e3-1c40-4fc5-b30d-41eb90bd48c5",
   "metadata": {},
   "outputs": [
    {
     "name": "stderr",
     "output_type": "stream",
     "text": [
      "<>:2: SyntaxWarning: invalid escape sequence '\\('\n",
      "<>:2: SyntaxWarning: invalid escape sequence '\\('\n",
      "C:\\Users\\ramka\\AppData\\Local\\Temp\\ipykernel_22900\\2156519617.py:2: SyntaxWarning: invalid escape sequence '\\('\n",
      "  pattern='\\(\\d{3}\\) \\d{3}-\\d{4}'\n"
     ]
    },
    {
     "data": {
      "text/plain": [
       "['(123) 456-7890']"
      ]
     },
     "execution_count": 156,
     "metadata": {},
     "output_type": "execute_result"
    }
   ],
   "source": [
    "str1='my number is (123) 456-7890'\n",
    "pattern='\\(\\d{3}\\) \\d{3}-\\d{4}'\n",
    "re.findall(pattern,str1)"
   ]
  },
  {
   "cell_type": "code",
   "execution_count": 164,
   "id": "f0c39e5d-4c73-4c55-bac5-8957e92683d2",
   "metadata": {},
   "outputs": [
    {
     "data": {
      "text/plain": [
       "['123-456-6780', '(123) 456-7890']"
      ]
     },
     "execution_count": 164,
     "metadata": {},
     "output_type": "execute_result"
    }
   ],
   "source": [
    "str1='my number is 123-456-6780, (123) 456-7890'\n",
    "pattern=r'\\(?\\d{3}\\)?[-.\\s]?\\d{3}[-\\s]?-\\d{4}'\n",
    "# '\\d{3}-\\d{3}-\\d{4}'\n",
    "re.findall(pattern,str1)"
   ]
  },
  {
   "cell_type": "code",
   "execution_count": 176,
   "id": "688300da-d78d-443a-b332-9c4d73cd9960",
   "metadata": {},
   "outputs": [
    {
     "data": {
      "text/plain": [
       "['123-456-6780', '(123) 456-7890']"
      ]
     },
     "execution_count": 176,
     "metadata": {},
     "output_type": "execute_result"
    }
   ],
   "source": [
    "str1='my number is 123-456-6780,(123) 456-7890,456.123.6789'\n",
    "pattern=r'\\(?\\d{3}\\)?[-.\\s]?\\d{3}[-.\\s]?-\\d{4}'\n",
    "# '\\d{3}-\\d{3}-\\d{4}'\n",
    "re.findall(pattern,str1)"
   ]
  },
  {
   "cell_type": "code",
   "execution_count": 172,
   "id": "fbceae28-e490-48d8-a6e5-38e68297ce50",
   "metadata": {},
   "outputs": [
    {
     "data": {
      "text/plain": [
       "['123-456-7890', '(123) 456-7890', '123.456.7890']"
      ]
     },
     "execution_count": 172,
     "metadata": {},
     "output_type": "execute_result"
    }
   ],
   "source": [
    "str1='my number is 123-456-7890,(123) 456-7890,123.456.7890'\n",
    "pattern=r'\\(?\\d{3}\\)?[-.\\s]?\\d{3}[-.\\s]?\\d{4}'\n",
    "re.findall(pattern,str1)"
   ]
  },
  {
   "cell_type": "code",
   "execution_count": 172,
   "id": "548bc055-5b31-4dbe-b190-f39b298d3415",
   "metadata": {},
   "outputs": [
    {
     "data": {
      "text/plain": [
       "['123-456-7890', '(123) 456-7890', '123.456.7890']"
      ]
     },
     "execution_count": 172,
     "metadata": {},
     "output_type": "execute_result"
    }
   ],
   "source": [
    "str1='my number is 123-456-7890,(123) 456-7890,123.456.7890, +91-123-234-4543'\n",
    "pattern=r'\\(?\\d{3}\\)?[-.\\s]?\\d{3}[-.\\s]?\\d{4}'\n",
    "re.findall(pattern,str1)"
   ]
  },
  {
   "cell_type": "code",
   "execution_count": 184,
   "id": "23943116-c710-4b50-b110-0dd4b0163133",
   "metadata": {},
   "outputs": [
    {
     "ename": "error",
     "evalue": "unbalanced parenthesis at position 41 (line 2, column 22)",
     "output_type": "error",
     "traceback": [
      "\u001b[1;31m---------------------------------------------------------------------------\u001b[0m",
      "\u001b[1;31merror\u001b[0m                                     Traceback (most recent call last)",
      "Cell \u001b[1;32mIn[184], line 12\u001b[0m\n\u001b[0;32m      2\u001b[0m \u001b[38;5;66;03m# pattern=r'\\+ ?                +\u001b[39;00m\n\u001b[0;32m      3\u001b[0m \u001b[38;5;66;03m#         '\\d{1,3}[-.\\s]?      91-    1-  91.  1.         \u001b[39;00m\n\u001b[0;32m      4\u001b[0m \u001b[38;5;66;03m#         '\\(?\\d{3}\\)?[-.\\s]?   123- (123) 123. \u001b[39;00m\n\u001b[0;32m      5\u001b[0m \u001b[38;5;66;03m#          '\\d{3}[-.\\s]?        123.  123-\u001b[39;00m\n\u001b[0;32m      6\u001b[0m \u001b[38;5;66;03m#          '\\d{4}               1234\u001b[39;00m\n\u001b[0;32m      7\u001b[0m pattern\u001b[38;5;241m=\u001b[39m\u001b[38;5;124mr\u001b[39m\u001b[38;5;124m\"\"\"\u001b[39m\u001b[38;5;124m\\\u001b[39m\u001b[38;5;124m+?                \u001b[39m\n\u001b[0;32m      8\u001b[0m \u001b[38;5;124m            \u001b[39m\u001b[38;5;124m\\\u001b[39m\u001b[38;5;124m(?d\u001b[39m\u001b[38;5;124m{\u001b[39m\u001b[38;5;124m1,3})[-.\u001b[39m\u001b[38;5;124m\\\u001b[39m\u001b[38;5;124ms]?               \u001b[39m\n\u001b[0;32m      9\u001b[0m \u001b[38;5;124m            \u001b[39m\u001b[38;5;124m\\\u001b[39m\u001b[38;5;124m(\u001b[39m\u001b[38;5;124m\\\u001b[39m\u001b[38;5;124md\u001b[39m\u001b[38;5;132;01m{3}\u001b[39;00m\u001b[38;5;124m\\\u001b[39m\u001b[38;5;124m)[-.\u001b[39m\u001b[38;5;124m\\\u001b[39m\u001b[38;5;124ms]?    \u001b[39m\n\u001b[0;32m     10\u001b[0m \u001b[38;5;124m             \u001b[39m\u001b[38;5;124m\\\u001b[39m\u001b[38;5;124md\u001b[39m\u001b[38;5;132;01m{3}\u001b[39;00m\u001b[38;5;124m[-.\u001b[39m\u001b[38;5;124m\\\u001b[39m\u001b[38;5;124ms]?        \u001b[39m\n\u001b[0;32m     11\u001b[0m \u001b[38;5;124m             \u001b[39m\u001b[38;5;124m\\\u001b[39m\u001b[38;5;124md\u001b[39m\u001b[38;5;132;01m{4}\u001b[39;00m\u001b[38;5;124m\"\"\"\u001b[39m\n\u001b[1;32m---> 12\u001b[0m re\u001b[38;5;241m.\u001b[39mfindall(pattern,str1)\n",
      "File \u001b[1;32m~\\anaconda3\\Lib\\re\\__init__.py:217\u001b[0m, in \u001b[0;36mfindall\u001b[1;34m(pattern, string, flags)\u001b[0m\n\u001b[0;32m    209\u001b[0m \u001b[38;5;28;01mdef\u001b[39;00m \u001b[38;5;21mfindall\u001b[39m(pattern, string, flags\u001b[38;5;241m=\u001b[39m\u001b[38;5;241m0\u001b[39m):\n\u001b[0;32m    210\u001b[0m \u001b[38;5;250m    \u001b[39m\u001b[38;5;124;03m\"\"\"Return a list of all non-overlapping matches in the string.\u001b[39;00m\n\u001b[0;32m    211\u001b[0m \n\u001b[0;32m    212\u001b[0m \u001b[38;5;124;03m    If one or more capturing groups are present in the pattern, return\u001b[39;00m\n\u001b[1;32m   (...)\u001b[0m\n\u001b[0;32m    215\u001b[0m \n\u001b[0;32m    216\u001b[0m \u001b[38;5;124;03m    Empty matches are included in the result.\"\"\"\u001b[39;00m\n\u001b[1;32m--> 217\u001b[0m     \u001b[38;5;28;01mreturn\u001b[39;00m _compile(pattern, flags)\u001b[38;5;241m.\u001b[39mfindall(string)\n",
      "File \u001b[1;32m~\\anaconda3\\Lib\\re\\__init__.py:307\u001b[0m, in \u001b[0;36m_compile\u001b[1;34m(pattern, flags)\u001b[0m\n\u001b[0;32m    301\u001b[0m     \u001b[38;5;28;01mimport\u001b[39;00m \u001b[38;5;21;01mwarnings\u001b[39;00m\n\u001b[0;32m    302\u001b[0m     warnings\u001b[38;5;241m.\u001b[39mwarn(\u001b[38;5;124m\"\u001b[39m\u001b[38;5;124mThe re.TEMPLATE/re.T flag is deprecated \u001b[39m\u001b[38;5;124m\"\u001b[39m\n\u001b[0;32m    303\u001b[0m             \u001b[38;5;124m\"\u001b[39m\u001b[38;5;124mas it is an undocumented flag \u001b[39m\u001b[38;5;124m\"\u001b[39m\n\u001b[0;32m    304\u001b[0m             \u001b[38;5;124m\"\u001b[39m\u001b[38;5;124mwithout an obvious purpose. \u001b[39m\u001b[38;5;124m\"\u001b[39m\n\u001b[0;32m    305\u001b[0m             \u001b[38;5;124m\"\u001b[39m\u001b[38;5;124mDon\u001b[39m\u001b[38;5;124m'\u001b[39m\u001b[38;5;124mt use it.\u001b[39m\u001b[38;5;124m\"\u001b[39m,\n\u001b[0;32m    306\u001b[0m             \u001b[38;5;167;01mDeprecationWarning\u001b[39;00m)\n\u001b[1;32m--> 307\u001b[0m p \u001b[38;5;241m=\u001b[39m _compiler\u001b[38;5;241m.\u001b[39mcompile(pattern, flags)\n\u001b[0;32m    308\u001b[0m \u001b[38;5;28;01mif\u001b[39;00m flags \u001b[38;5;241m&\u001b[39m DEBUG:\n\u001b[0;32m    309\u001b[0m     \u001b[38;5;28;01mreturn\u001b[39;00m p\n",
      "File \u001b[1;32m~\\anaconda3\\Lib\\re\\_compiler.py:745\u001b[0m, in \u001b[0;36mcompile\u001b[1;34m(p, flags)\u001b[0m\n\u001b[0;32m    743\u001b[0m \u001b[38;5;28;01mif\u001b[39;00m isstring(p):\n\u001b[0;32m    744\u001b[0m     pattern \u001b[38;5;241m=\u001b[39m p\n\u001b[1;32m--> 745\u001b[0m     p \u001b[38;5;241m=\u001b[39m _parser\u001b[38;5;241m.\u001b[39mparse(p, flags)\n\u001b[0;32m    746\u001b[0m \u001b[38;5;28;01melse\u001b[39;00m:\n\u001b[0;32m    747\u001b[0m     pattern \u001b[38;5;241m=\u001b[39m \u001b[38;5;28;01mNone\u001b[39;00m\n",
      "File \u001b[1;32m~\\anaconda3\\Lib\\re\\_parser.py:984\u001b[0m, in \u001b[0;36mparse\u001b[1;34m(str, flags, state)\u001b[0m\n\u001b[0;32m    982\u001b[0m \u001b[38;5;28;01mif\u001b[39;00m source\u001b[38;5;241m.\u001b[39mnext \u001b[38;5;129;01mis\u001b[39;00m \u001b[38;5;129;01mnot\u001b[39;00m \u001b[38;5;28;01mNone\u001b[39;00m:\n\u001b[0;32m    983\u001b[0m     \u001b[38;5;28;01massert\u001b[39;00m source\u001b[38;5;241m.\u001b[39mnext \u001b[38;5;241m==\u001b[39m \u001b[38;5;124m\"\u001b[39m\u001b[38;5;124m)\u001b[39m\u001b[38;5;124m\"\u001b[39m\n\u001b[1;32m--> 984\u001b[0m     \u001b[38;5;28;01mraise\u001b[39;00m source\u001b[38;5;241m.\u001b[39merror(\u001b[38;5;124m\"\u001b[39m\u001b[38;5;124munbalanced parenthesis\u001b[39m\u001b[38;5;124m\"\u001b[39m)\n\u001b[0;32m    986\u001b[0m \u001b[38;5;28;01mfor\u001b[39;00m g \u001b[38;5;129;01min\u001b[39;00m p\u001b[38;5;241m.\u001b[39mstate\u001b[38;5;241m.\u001b[39mgrouprefpos:\n\u001b[0;32m    987\u001b[0m     \u001b[38;5;28;01mif\u001b[39;00m g \u001b[38;5;241m>\u001b[39m\u001b[38;5;241m=\u001b[39m p\u001b[38;5;241m.\u001b[39mstate\u001b[38;5;241m.\u001b[39mgroups:\n",
      "\u001b[1;31merror\u001b[0m: unbalanced parenthesis at position 41 (line 2, column 22)"
     ]
    }
   ],
   "source": [
    "str1='+91-123-456-7890'\n",
    "# pattern=r'\\+ ?                +\n",
    "#         '\\d{1,3}[-.\\s]?      91-    1-  91.  1.         \n",
    "#         '\\(?\\d{3}\\)?[-.\\s]?   123- (123) 123. \n",
    "#          '\\d{3}[-.\\s]?        123.  123-\n",
    "#          '\\d{4}               1234\n",
    "pattern=r\"\"\"\\+?                \n",
    "            \\(?d{1,3})[-.\\s]?               \n",
    "            \\(\\d{3}\\)[-.\\s]?    \n",
    "             \\d{3}[-.\\s]?        \n",
    "             \\d{4}\"\"\"\n",
    "re.findall(pattern,str1)"
   ]
  },
  {
   "cell_type": "code",
   "execution_count": 188,
   "id": "34e1543a-6d4c-45bd-9b5d-7a340405c76d",
   "metadata": {},
   "outputs": [
    {
     "name": "stderr",
     "output_type": "stream",
     "text": [
      "<>:2: SyntaxWarning: invalid escape sequence '\\d'\n",
      "<>:2: SyntaxWarning: invalid escape sequence '\\d'\n",
      "C:\\Users\\ramka\\AppData\\Local\\Temp\\ipykernel_22900\\3918582736.py:2: SyntaxWarning: invalid escape sequence '\\d'\n",
      "  pat='\\d{2,4}-\\d{2}-\\d{2,4}'\n"
     ]
    },
    {
     "data": {
      "text/plain": [
       "['2024-12-28', '28-12-2024']"
      ]
     },
     "execution_count": 188,
     "metadata": {},
     "output_type": "execute_result"
    }
   ],
   "source": [
    "date='2024-12-28 and 28-12-2024'\n",
    "pat='\\d{2,4}-\\d{2}-\\d{2,4}'\n",
    "re.findall(pat,date)"
   ]
  }
 ],
 "metadata": {
  "kernelspec": {
   "display_name": "Python 3 (ipykernel)",
   "language": "python",
   "name": "python3"
  },
  "language_info": {
   "codemirror_mode": {
    "name": "ipython",
    "version": 3
   },
   "file_extension": ".py",
   "mimetype": "text/x-python",
   "name": "python",
   "nbconvert_exporter": "python",
   "pygments_lexer": "ipython3",
   "version": "3.12.4"
  }
 },
 "nbformat": 4,
 "nbformat_minor": 5
}
