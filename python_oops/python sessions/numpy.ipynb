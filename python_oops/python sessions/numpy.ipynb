{
 "cells": [
  {
   "cell_type": "code",
   "execution_count": 1,
   "id": "274be293-4231-45ff-b9b7-386c7d119b27",
   "metadata": {},
   "outputs": [
    {
     "data": {
      "text/plain": [
       "array([[1., 1., 1.],\n",
       "       [1., 1., 1.]])"
      ]
     },
     "execution_count": 1,
     "metadata": {},
     "output_type": "execute_result"
    }
   ],
   "source": [
    "import numpy as np\n",
    "np.ones((2,3))"
   ]
  },
  {
   "cell_type": "code",
   "execution_count": 3,
   "id": "431cda47-0861-49d4-ac88-df187ef64608",
   "metadata": {},
   "outputs": [
    {
     "data": {
      "text/plain": [
       "array([1., 1., 1., 1., 1.])"
      ]
     },
     "execution_count": 3,
     "metadata": {},
     "output_type": "execute_result"
    }
   ],
   "source": [
    "np.ones(5)"
   ]
  },
  {
   "cell_type": "code",
   "execution_count": 5,
   "id": "6244471c-4a9b-466d-b338-4b2ff26833c9",
   "metadata": {},
   "outputs": [
    {
     "data": {
      "text/plain": [
       "array([[[1., 1., 1.],\n",
       "        [1., 1., 1.]],\n",
       "\n",
       "       [[1., 1., 1.],\n",
       "        [1., 1., 1.]]])"
      ]
     },
     "execution_count": 5,
     "metadata": {},
     "output_type": "execute_result"
    }
   ],
   "source": [
    "np.ones((2,2,3))"
   ]
  },
  {
   "cell_type": "code",
   "execution_count": 7,
   "id": "093b7406-f9eb-4700-89bc-ad251548f033",
   "metadata": {},
   "outputs": [
    {
     "data": {
      "text/plain": [
       "array([[[1., 1., 1., 1., 1.],\n",
       "        [1., 1., 1., 1., 1.],\n",
       "        [1., 1., 1., 1., 1.],\n",
       "        [1., 1., 1., 1., 1.]],\n",
       "\n",
       "       [[1., 1., 1., 1., 1.],\n",
       "        [1., 1., 1., 1., 1.],\n",
       "        [1., 1., 1., 1., 1.],\n",
       "        [1., 1., 1., 1., 1.]],\n",
       "\n",
       "       [[1., 1., 1., 1., 1.],\n",
       "        [1., 1., 1., 1., 1.],\n",
       "        [1., 1., 1., 1., 1.],\n",
       "        [1., 1., 1., 1., 1.]]])"
      ]
     },
     "execution_count": 7,
     "metadata": {},
     "output_type": "execute_result"
    }
   ],
   "source": [
    "np.ones((3,4,5))"
   ]
  },
  {
   "cell_type": "markdown",
   "id": "fc7e46ea-847c-462c-af92-3cd68dd1fb1e",
   "metadata": {},
   "source": [
    "*** here first oa pack\n",
    "second is number of list\n",
    "3rd number of elements ***"
   ]
  },
  {
   "cell_type": "code",
   "execution_count": 10,
   "id": "848d47db-03a5-4718-a500-530a10af0bb5",
   "metadata": {},
   "outputs": [
    {
     "data": {
      "text/plain": [
       "10"
      ]
     },
     "execution_count": 10,
     "metadata": {},
     "output_type": "execute_result"
    }
   ],
   "source": [
    "import random\n",
    "random.randint(1,10)"
   ]
  },
  {
   "cell_type": "code",
   "execution_count": 20,
   "id": "62584f96-7759-4e30-8b9b-d9869d676dfc",
   "metadata": {},
   "outputs": [
    {
     "data": {
      "text/plain": [
       "array([[[9, 6, 6, 7, 4],\n",
       "        [2, 2, 9, 5, 9]],\n",
       "\n",
       "       [[7, 8, 7, 1, 6],\n",
       "        [7, 7, 7, 1, 6]],\n",
       "\n",
       "       [[1, 7, 4, 7, 2],\n",
       "        [1, 7, 2, 2, 6]],\n",
       "\n",
       "       [[5, 8, 6, 6, 7],\n",
       "        [5, 3, 2, 5, 4]]])"
      ]
     },
     "execution_count": 20,
     "metadata": {},
     "output_type": "execute_result"
    }
   ],
   "source": [
    "np.random.randint(1,10,size=(4,2,5))"
   ]
  },
  {
   "cell_type": "code",
   "execution_count": 28,
   "id": "f306ee6f-9d50-42a0-9aee-e4b6b4c1d9a5",
   "metadata": {},
   "outputs": [
    {
     "data": {
      "text/plain": [
       "array([[[0.91109147, 0.77286484],\n",
       "        [0.64653547, 0.10521676],\n",
       "        [0.24223256, 0.81978283]],\n",
       "\n",
       "       [[0.62016935, 0.23736437],\n",
       "        [0.32770699, 0.80475218],\n",
       "        [0.22254788, 0.0989859 ]]])"
      ]
     },
     "execution_count": 28,
     "metadata": {},
     "output_type": "execute_result"
    }
   ],
   "source": [
    "# Numpy is primarily used for creating arrays wich has faster response time\n",
    "random.random()\n",
    "# random values will generate between 0, 1\n",
    "np.random.rand(2,3, 2)"
   ]
  },
  {
   "cell_type": "code",
   "execution_count": 40,
   "id": "6f2d76cb-e83e-40fc-9574-ed1583e16026",
   "metadata": {},
   "outputs": [
    {
     "data": {
      "text/plain": [
       "array([[7, 7],\n",
       "       [7, 7],\n",
       "       [7, 7]])"
      ]
     },
     "execution_count": 40,
     "metadata": {},
     "output_type": "execute_result"
    }
   ],
   "source": [
    "np.full(shape=(3,2),fill_value=7)"
   ]
  },
  {
   "cell_type": "markdown",
   "id": "9ebead41-ebfb-4ed9-a387-d5af11d38c3e",
   "metadata": {},
   "source": [
    "**Numpy Methods **"
   ]
  },
  {
   "cell_type": "code",
   "execution_count": 13,
   "id": "ed0d5d44-45ff-4bfc-b8fa-262f76d55095",
   "metadata": {},
   "outputs": [
    {
     "data": {
      "text/plain": [
       "array([[10, 20, 30],\n",
       "       [40, 50, 60]])"
      ]
     },
     "execution_count": 13,
     "metadata": {},
     "output_type": "execute_result"
    }
   ],
   "source": [
    "arr1=np.array([[10,20,30],[40,50,60]])\n",
    "arr1"
   ]
  },
  {
   "cell_type": "code",
   "execution_count": 60,
   "id": "dbd32683-8ea5-4858-92ec-96120dbeb163",
   "metadata": {},
   "outputs": [
    {
     "data": {
      "text/plain": [
       "array([[10, 20],\n",
       "       [30, 40],\n",
       "       [50, 60]])"
      ]
     },
     "execution_count": 60,
     "metadata": {},
     "output_type": "execute_result"
    }
   ],
   "source": [
    "arr1.min()\n",
    "arr1.max()\n",
    "arr1.mean()\n",
    "# dir(arr1)\n",
    "arr1.reshape(3,2)"
   ]
  },
  {
   "cell_type": "code",
   "execution_count": 66,
   "id": "d7759eb9-43a4-4978-98ae-cbbe6c2732d6",
   "metadata": {},
   "outputs": [
    {
     "data": {
      "text/plain": [
       "5"
      ]
     },
     "execution_count": 66,
     "metadata": {},
     "output_type": "execute_result"
    }
   ],
   "source": [
    "np.count_nonzero(arr3)"
   ]
  },
  {
   "cell_type": "code",
   "execution_count": 5,
   "id": "792b5fcb-9cc4-42df-82f1-8dea9ac39a9f",
   "metadata": {},
   "outputs": [],
   "source": [
    "import numpy as np\n",
    "arr3=np.array([[10,0,30],[40,50,60]])"
   ]
  },
  {
   "cell_type": "code",
   "execution_count": 7,
   "id": "f089fc1c-f4c1-4f24-9904-e7091ff3dbbf",
   "metadata": {},
   "outputs": [
    {
     "data": {
      "text/plain": [
       "array([[ 0, 10, 30],\n",
       "       [40, 50, 60]])"
      ]
     },
     "execution_count": 7,
     "metadata": {},
     "output_type": "execute_result"
    }
   ],
   "source": [
    "arr5=arr3.sort()\n",
    "arr3"
   ]
  },
  {
   "cell_type": "markdown",
   "id": "fd28a964-b585-479d-85fc-f08e822c0fee",
   "metadata": {},
   "source": [
    "arr5"
   ]
  },
  {
   "cell_type": "markdown",
   "id": "e9f093ec-9fa1-45df-a129-f8e72e8aa4cb",
   "metadata": {},
   "source": [
    "** Statistical Methods **"
   ]
  },
  {
   "cell_type": "code",
   "execution_count": 9,
   "id": "e8465afa-a0b4-455b-812a-3b3038f4fbaf",
   "metadata": {},
   "outputs": [
    {
     "name": "stdout",
     "output_type": "stream",
     "text": [
      "mean is 30.0 median is 30.0 std is 14.142135623730951\n"
     ]
    }
   ],
   "source": [
    "data=np.array([10,20,30,40,50])\n",
    "mean=np.mean(data)\n",
    "median=np.median(data)\n",
    "std=np.std(data)\n",
    "print(f\"mean is {mean} median is {median} std is {std}\")"
   ]
  },
  {
   "cell_type": "code",
   "execution_count": 108,
   "id": "4661f6f0-d5a0-4a6d-bc2b-91458fd44adb",
   "metadata": {},
   "outputs": [
    {
     "data": {
      "text/plain": [
       "array([10, 20, 30, 40, 50])"
      ]
     },
     "execution_count": 108,
     "metadata": {},
     "output_type": "execute_result"
    }
   ],
   "source": [
    "import pandas as pd\n",
    "Age=np.array([10,20,30,40,50])\n",
    "Names=np.array(['Ram','Shyam','Lux','Sumit','Shreya'])\n",
    "df1=pd.DataFrame(zip(Age,Names), columns=['Age','Names'])\n",
    "df1\n",
    "df1['Age']\n",
    "df2=df1['Age'].values\n",
    "df2"
   ]
  },
  {
   "cell_type": "code",
   "execution_count": 120,
   "id": "595a96ab-f147-41b5-ab5c-089e3bc61a94",
   "metadata": {},
   "outputs": [
    {
     "data": {
      "text/plain": [
       "{'Age': [10, 20, 30, 40, 50],\n",
       " 'Names': array(['Ram', 'Shyam', 'Lux', 'Sumit', 'Shreya'], dtype='<U6')}"
      ]
     },
     "execution_count": 120,
     "metadata": {},
     "output_type": "execute_result"
    }
   ],
   "source": [
    "d={}\n",
    "d['Age']=list(df2)\n",
    "d['Names']=Names\n",
    "d"
   ]
  },
  {
   "cell_type": "code",
   "execution_count": 126,
   "id": "035e74c8-6a87-419e-ba65-7f285bd6bb31",
   "metadata": {},
   "outputs": [
    {
     "data": {
      "text/plain": [
       "array([50, 70, 90])"
      ]
     },
     "execution_count": 126,
     "metadata": {},
     "output_type": "execute_result"
    }
   ],
   "source": [
    "# row sum and column sum\n",
    "arr1\n",
    "np.sum(arr1)\n",
    "np.sum(arr1,axis=0) \n",
    "# vertical sum when axis=0"
   ]
  },
  {
   "cell_type": "code",
   "execution_count": 128,
   "id": "d5d9bf93-392a-4035-9956-b4745b28e3d5",
   "metadata": {},
   "outputs": [
    {
     "data": {
      "text/plain": [
       "array([ 60, 150])"
      ]
     },
     "execution_count": 128,
     "metadata": {},
     "output_type": "execute_result"
    }
   ],
   "source": [
    "np.sum(arr1,axis=1)\n",
    "# horizontal sum when axis=1"
   ]
  },
  {
   "cell_type": "code",
   "execution_count": 131,
   "id": "e221ed8e-3b5b-4157-aa1f-d7b6198b8f10",
   "metadata": {},
   "outputs": [
    {
     "data": {
      "text/plain": [
       "array([[10, 20, 30],\n",
       "       [40, 50, 60]])"
      ]
     },
     "execution_count": 131,
     "metadata": {},
     "output_type": "execute_result"
    }
   ],
   "source": [
    "arr1"
   ]
  },
  {
   "cell_type": "code",
   "execution_count": 135,
   "id": "1b5f07c8-227b-421e-b683-acaf07d31c1b",
   "metadata": {},
   "outputs": [
    {
     "data": {
      "text/plain": [
       "(2, 2)"
      ]
     },
     "execution_count": 135,
     "metadata": {},
     "output_type": "execute_result"
    }
   ],
   "source": [
    "arr5=np.array([[1,2],[2,2]])\n",
    "arr5.shape"
   ]
  },
  {
   "cell_type": "code",
   "execution_count": 137,
   "id": "c24142a3-4a82-4a04-bc03-5acd08e49ce1",
   "metadata": {},
   "outputs": [
    {
     "data": {
      "text/plain": [
       "(2, 2)"
      ]
     },
     "execution_count": 137,
     "metadata": {},
     "output_type": "execute_result"
    }
   ],
   "source": [
    "arr6=np.array([[2,2],[2,1]])\n",
    "arr6.shape"
   ]
  },
  {
   "cell_type": "code",
   "execution_count": 139,
   "id": "d2fea6bc-b37d-4928-8497-43124b66fa5a",
   "metadata": {},
   "outputs": [
    {
     "data": {
      "text/plain": [
       "array([[6, 4],\n",
       "       [8, 6]])"
      ]
     },
     "execution_count": 139,
     "metadata": {},
     "output_type": "execute_result"
    }
   ],
   "source": [
    "np.dot(arr5,arr6)\n",
    "# np.dot --> Matrix multiplication"
   ]
  },
  {
   "cell_type": "code",
   "execution_count": 147,
   "id": "9464b254-3046-4d56-b244-c36d69a925b6",
   "metadata": {},
   "outputs": [
    {
     "data": {
      "text/plain": [
       "5.0"
      ]
     },
     "execution_count": 147,
     "metadata": {},
     "output_type": "execute_result"
    }
   ],
   "source": [
    "# Distance between 2 points\n",
    "p1=np.array([1,2])\n",
    "p2=np.array([4,6])\n",
    "(p2-p1)**2\n",
    "np.sum((p2-p1)**2)\n",
    "np.sqrt(np.sum((p2-p1)**2))"
   ]
  },
  {
   "cell_type": "code",
   "execution_count": 149,
   "id": "31f7fb44-ae0c-4812-ba52-480288eee20e",
   "metadata": {},
   "outputs": [
    {
     "data": {
      "text/plain": [
       "5.0"
      ]
     },
     "execution_count": 149,
     "metadata": {},
     "output_type": "execute_result"
    }
   ],
   "source": [
    "np.linalg.norm(p1-p2)"
   ]
  },
  {
   "cell_type": "code",
   "execution_count": 19,
   "id": "54a94a45-49b1-432e-b2d9-44e8e526644a",
   "metadata": {},
   "outputs": [
    {
     "data": {
      "text/plain": [
       "array([[10, 20, 30],\n",
       "       [40, 50, 60],\n",
       "       [ 0, 10, 30],\n",
       "       [40, 50, 60]])"
      ]
     },
     "execution_count": 19,
     "metadata": {},
     "output_type": "execute_result"
    }
   ],
   "source": [
    "# flatten vs Vstack\n",
    "arr7=arr1.flatten()\n",
    "arr7\n",
    "# arr8=arr7.Vstack()\n",
    "# Combines arryas vertically\n",
    "arr8=np.vstack((arr1, arr3))\n",
    "arr8\n"
   ]
  }
 ],
 "metadata": {
  "kernelspec": {
   "display_name": "Python 3 (ipykernel)",
   "language": "python",
   "name": "python3"
  },
  "language_info": {
   "codemirror_mode": {
    "name": "ipython",
    "version": 3
   },
   "file_extension": ".py",
   "mimetype": "text/x-python",
   "name": "python",
   "nbconvert_exporter": "python",
   "pygments_lexer": "ipython3",
   "version": "3.12.4"
  }
 },
 "nbformat": 4,
 "nbformat_minor": 5
}
