{
 "cells": [
  {
   "cell_type": "code",
   "execution_count": 7,
   "id": "d2a2712e-778c-43a5-bfe2-c27302962ff1",
   "metadata": {},
   "outputs": [
    {
     "name": "stdout",
     "output_type": "stream",
     "text": [
      "0,1,2,3,4,"
     ]
    }
   ],
   "source": [
    "for i in range (5):\n",
    "    print(i, end=',')\n",
    "    "
   ]
  },
  {
   "cell_type": "code",
   "execution_count": 9,
   "id": "944dc368-4455-4d02-be12-51ab82170ae8",
   "metadata": {},
   "outputs": [
    {
     "name": "stdout",
     "output_type": "stream",
     "text": [
      "1, 2, 3, 4, 5, 6, 7, 8, 9, "
     ]
    }
   ],
   "source": [
    "for i in range(1,10):\n",
    "    print(i, end=', ')"
   ]
  },
  {
   "cell_type": "code",
   "execution_count": 18,
   "id": "cd106878-7e84-469f-abbe-feac9e21e529",
   "metadata": {},
   "outputs": [
    {
     "name": "stdout",
     "output_type": "stream",
     "text": [
      "0, 2, 4, 6, 8, "
     ]
    }
   ],
   "source": [
    "for i in range(0,10, 2):\n",
    "    print(i, end=', ')"
   ]
  },
  {
   "cell_type": "markdown",
   "id": "d3d3ab94-e2c6-41fb-a6ad-45059e70e9cd",
   "metadata": {},
   "source": [
    "- range(stop)\n",
    " \n",
    "    - range(10)\n",
    " \n",
    "- range(start,stop)\n",
    " \n",
    "    - range(2,10)\n",
    " \n",
    "- range(start,stop,step)\n",
    " \n",
    "    - range(2,10,2)"
   ]
  },
  {
   "cell_type": "code",
   "execution_count": 18,
   "id": "c04db073-3115-4f42-afb8-f6b445c975ef",
   "metadata": {},
   "outputs": [
    {
     "name": "stdout",
     "output_type": "stream",
     "text": [
      "20 18 16 14 12 "
     ]
    }
   ],
   "source": [
    "for i in range(20,10, -2):\n",
    "    print(i, end=' ')"
   ]
  },
  {
   "cell_type": "markdown",
   "id": "fdf16846-60db-496a-8737-2fcdda872782",
   "metadata": {},
   "source": [
    "**range(stop)**\n",
    " \n",
    "- ex:  range(10)\n",
    " \n",
    "- If we dont mentioned a start value, by default start=0\n",
    " \n",
    "- last=stop-1= 10-1=9\n",
    " \n",
    "- step also not mentioned so by defualt = +1 (increment)"
   ]
  },
  {
   "cell_type": "code",
   "execution_count": 16,
   "id": "3496a884-859d-4db3-9c9d-9369ea8385b9",
   "metadata": {},
   "outputs": [
    {
     "name": "stdout",
     "output_type": "stream",
     "text": [
      "0 -2 -4 -6 -8 "
     ]
    }
   ],
   "source": [
    "for i in range(0,-10, -2):\n",
    "    print(i, end=' ')"
   ]
  },
  {
   "cell_type": "code",
   "execution_count": 21,
   "id": "75cc6b44-73f2-4a8a-b323-5f582e471690",
   "metadata": {},
   "outputs": [
    {
     "name": "stdin",
     "output_type": "stream",
     "text": [
      "Enter Number: 4\n"
     ]
    },
    {
     "name": "stdout",
     "output_type": "stream",
     "text": [
      "Squre of number 4 equals 16\n"
     ]
    },
    {
     "name": "stdin",
     "output_type": "stream",
     "text": [
      "Enter Number: 5\n"
     ]
    },
    {
     "name": "stdout",
     "output_type": "stream",
     "text": [
      "Squre of number 5 equals 25\n"
     ]
    },
    {
     "name": "stdin",
     "output_type": "stream",
     "text": [
      "Enter Number: 23\n"
     ]
    },
    {
     "name": "stdout",
     "output_type": "stream",
     "text": [
      "Squre of number 23 equals 529\n"
     ]
    }
   ],
   "source": [
    "# WAP ask user to enter 3 Time, find squire \n",
    "for i in range(3):\n",
    "    num=eval(input(\"Enter Number:\"))\n",
    "    print(f\"Squre of number {num} equals {num * num}\")\n",
    "\n",
    "    "
   ]
  },
  {
   "cell_type": "code",
   "execution_count": 29,
   "id": "43d50ca5-0f67-4e3c-aaa8-1bbd1725121b",
   "metadata": {},
   "outputs": [
    {
     "name": "stdin",
     "output_type": "stream",
     "text": [
      "Enter value of Table you need 9\n"
     ]
    },
    {
     "name": "stdout",
     "output_type": "stream",
     "text": [
      " Table of 9 = 9 * 1 = 9 \n",
      " Table of 9 = 9 * 2 = 18 \n",
      " Table of 9 = 9 * 3 = 27 \n",
      " Table of 9 = 9 * 4 = 36 \n",
      " Table of 9 = 9 * 5 = 45 \n",
      " Table of 9 = 9 * 6 = 54 \n",
      " Table of 9 = 9 * 7 = 63 \n",
      " Table of 9 = 9 * 8 = 72 \n",
      " Table of 9 = 9 * 9 = 81 \n",
      " Table of 9 = 9 * 10 = 90 \n"
     ]
    }
   ],
   "source": [
    "n= eval(input(\"Enter value of Table you need\"))\n",
    "for i in range (1,11):\n",
    "    print (f\" Table of {n} = {n} * {i} = {n*i} \")\n",
    "    "
   ]
  },
  {
   "cell_type": "code",
   "execution_count": 31,
   "id": "fd1dd30a-ef1f-4b89-9f1b-a6eaa1b5996c",
   "metadata": {},
   "outputs": [
    {
     "name": "stdout",
     "output_type": "stream",
     "text": [
      "1\n",
      "3\n",
      "6\n",
      "10\n",
      "15\n",
      "21\n",
      "28\n",
      "36\n",
      "45\n",
      "55\n"
     ]
    }
   ],
   "source": [
    "sum =0\n",
    "for i in range(1,11):\n",
    "    sum = i + sum\n",
    "    print(sum)"
   ]
  },
  {
   "cell_type": "code",
   "execution_count": 33,
   "id": "e6b8fbc9-5195-4946-b506-8a7418afe209",
   "metadata": {},
   "outputs": [
    {
     "name": "stdout",
     "output_type": "stream",
     "text": [
      "55\n"
     ]
    }
   ],
   "source": [
    "sum =0\n",
    "for i in range(1,11):\n",
    "    sum = i + sum\n",
    "\n",
    "print(sum)"
   ]
  },
  {
   "cell_type": "code",
   "execution_count": 59,
   "id": "4f6aa0fc-b748-4de8-ac6e-0241aef0e37a",
   "metadata": {},
   "outputs": [
    {
     "name": "stdout",
     "output_type": "stream",
     "text": [
      "Number 112 is Even\n",
      "Number 500 is Even\n",
      "Number 401 is Odd\n",
      "Number 411 is Odd\n",
      "Number 958 is Even\n"
     ]
    }
   ],
   "source": [
    "import random\n",
    "for i in range(5):\n",
    "    a = random.randint(1,1000)\n",
    "    if a%2==0:\n",
    "        print(f\"Number {a} is Even\")\n",
    "    else:\n",
    "        print(f\"Number {a} is Odd\")\n",
    "    "
   ]
  },
  {
   "cell_type": "code",
   "execution_count": 61,
   "id": "30e635bf-254e-4f5b-8cc3-c0c5aed4d8ea",
   "metadata": {},
   "outputs": [
    {
     "name": "stdout",
     "output_type": "stream",
     "text": [
      "Number 759 is Odd\n",
      "Number 200 is Even\n",
      "Number 89 is Odd\n",
      "Number 726 is Even\n",
      "Number 825 is Odd\n"
     ]
    }
   ],
   "source": [
    "from random import randint\n",
    "for i in range(5):\n",
    "    a = randint(1,1000)\n",
    "    if a%2==0:\n",
    "        print(f\"Number {a} is Even\")\n",
    "    else:\n",
    "        print(f\"Number {a} is Odd\")\n",
    "    "
   ]
  },
  {
   "cell_type": "code",
   "execution_count": 71,
   "id": "9398866b-f9e1-4d87-9a63-5217afd4f638",
   "metadata": {},
   "outputs": [
    {
     "name": "stdout",
     "output_type": "stream",
     "text": [
      "44 is an even\n",
      "33 is an odd\n",
      "11 is an odd\n",
      "56 is an even\n",
      "10 is an even\n",
      "even_count is: 3\n",
      "odd_count is: 2\n"
     ]
    }
   ],
   "source": [
    "from random import randint\n",
    "even_count=0\n",
    "odd_count=0\n",
    "for i in range(5):\n",
    "    num=randint(1,100)\n",
    "    if num%2==0:\n",
    "        print(f\"{num} is an even\")\n",
    "        even_count=even_count+1\n",
    "    else:\n",
    "        print(f\"{num} is an odd\")\n",
    "        odd_count=odd_count+1\n",
    "print(\"even_count is:\",even_count)\n",
    "print(\"odd_count is:\",odd_count)"
   ]
  },
  {
   "cell_type": "code",
   "execution_count": 93,
   "id": "57fdf66a-d1a3-4a82-bd83-719fbae52741",
   "metadata": {},
   "outputs": [
    {
     "name": "stdin",
     "output_type": "stream",
     "text": [
      "Enter number: 2\n"
     ]
    },
    {
     "name": "stdout",
     "output_type": "stream",
     "text": [
      "We lost\n"
     ]
    },
    {
     "name": "stdin",
     "output_type": "stream",
     "text": [
      "Enter number: 1\n"
     ]
    },
    {
     "name": "stdout",
     "output_type": "stream",
     "text": [
      "We lost\n"
     ]
    },
    {
     "name": "stdin",
     "output_type": "stream",
     "text": [
      "Enter number: 0\n"
     ]
    },
    {
     "name": "stdout",
     "output_type": "stream",
     "text": [
      "We lost\n"
     ]
    },
    {
     "name": "stdin",
     "output_type": "stream",
     "text": [
      "Enter number: 2\n"
     ]
    },
    {
     "name": "stdout",
     "output_type": "stream",
     "text": [
      "We won\n"
     ]
    }
   ],
   "source": [
    "# WAP get random number \n",
    "# Ask user enter a number\n",
    "# if both number is match then print We won else lost\n",
    "# Give 5 chances\n",
    "from random import randint\n",
    "\n",
    "for i in range(5):\n",
    "        randomnum = randint(1,2)\n",
    "        num = eval(input(\"Enter number:\"))\n",
    "        if (randomnum == num):\n",
    "                   print(\"We won\")\n",
    "                   break\n",
    "        else:\n",
    "                print(\"We lost\")\n",
    "           \n",
    "                    \n"
   ]
  },
  {
   "cell_type": "code",
   "execution_count": 97,
   "id": "d1410d31-775e-4b52-ae13-199fe00ea2cf",
   "metadata": {},
   "outputs": [
    {
     "name": "stdout",
     "output_type": "stream",
     "text": [
      "1 2 3 4 5 "
     ]
    }
   ],
   "source": [
    "for i in range(1,6):\n",
    "    print(i, end=' ')"
   ]
  },
  {
   "cell_type": "code",
   "execution_count": 101,
   "id": "87a40551-51ff-4bbb-b625-dd97d3871a5a",
   "metadata": {},
   "outputs": [
    {
     "name": "stdout",
     "output_type": "stream",
     "text": [
      "1 2 3 4 "
     ]
    }
   ],
   "source": [
    "i=1\n",
    "while (i<5):\n",
    "    print(i, end= ' ')\n",
    "    i = i+1\n"
   ]
  },
  {
   "cell_type": "code",
   "execution_count": 103,
   "id": "ac74146e-2542-4de1-aaa3-e9489cb00b69",
   "metadata": {},
   "outputs": [
    {
     "ename": "AttributeError",
     "evalue": "'int' object has no attribute 'next'",
     "output_type": "error",
     "traceback": [
      "\u001b[1;31m---------------------------------------------------------------------------\u001b[0m",
      "\u001b[1;31mAttributeError\u001b[0m                            Traceback (most recent call last)",
      "Cell \u001b[1;32mIn[103], line 3\u001b[0m\n\u001b[0;32m      1\u001b[0m i\u001b[38;5;241m=\u001b[39m\u001b[38;5;241m1\u001b[39m\n\u001b[0;32m      2\u001b[0m \u001b[38;5;28;01mwhile\u001b[39;00m (i\u001b[38;5;241m<\u001b[39m\u001b[38;5;241m5\u001b[39m):\n\u001b[1;32m----> 3\u001b[0m     \u001b[38;5;28mprint\u001b[39m(i\u001b[38;5;241m.\u001b[39mnext, end\u001b[38;5;241m=\u001b[39m \u001b[38;5;124m'\u001b[39m\u001b[38;5;124m \u001b[39m\u001b[38;5;124m'\u001b[39m)\n\u001b[0;32m      4\u001b[0m     i \u001b[38;5;241m=\u001b[39m i\u001b[38;5;241m+\u001b[39m\u001b[38;5;241m1\u001b[39m\n",
      "\u001b[1;31mAttributeError\u001b[0m: 'int' object has no attribute 'next'"
     ]
    }
   ],
   "source": [
    "i=1\n",
    "while (i<5):\n",
    "    print(i, end= ' ')\n",
    "    i = i+1"
   ]
  },
  {
   "cell_type": "code",
   "execution_count": 120,
   "id": "f4307656-3450-4fe9-9653-13560ccdeff5",
   "metadata": {},
   "outputs": [
    {
     "name": "stdout",
     "output_type": "stream",
     "text": [
      "1 2 3 4 5 "
     ]
    }
   ],
   "source": [
    "x = (1,2,3,4,5)\n",
    "i=0\n",
    "while (i< len(x)):\n",
    "    print(x[i], end=' ')\n",
    "    i=i+1\n",
    "    "
   ]
  },
  {
   "cell_type": "markdown",
   "id": "6db387db-0452-4684-9f13-ad53d9bfb277",
   "metadata": {},
   "source": [
    "Any loop we required 3 things\n",
    " \n",
    "- Intial point (start point)\n",
    " \n",
    "- Increment or decrement\n",
    " \n",
    "- Condition to stop the loop\n",
    " \n",
    "- in for loop all above 3 in a single line\n",
    " \n",
    "- for i in range(2,5)  i=2  2,3,4  i==4\n",
    " \n",
    "- but in while loop we will consider all 3 in 3 lines"
   ]
  },
  {
   "cell_type": "code",
   "execution_count": 118,
   "id": "a01ad68e-3924-4181-ae15-0ba3cb745f32",
   "metadata": {},
   "outputs": [
    {
     "ename": "SyntaxError",
     "evalue": "invalid syntax (3011249169.py, line 2)",
     "output_type": "error",
     "traceback": [
      "\u001b[1;36m  Cell \u001b[1;32mIn[118], line 2\u001b[1;36m\u001b[0m\n\u001b[1;33m    Select 'Hello'\u001b[0m\n\u001b[1;37m           ^\u001b[0m\n\u001b[1;31mSyntaxError\u001b[0m\u001b[1;31m:\u001b[0m invalid syntax\n"
     ]
    }
   ],
   "source": [
    "# %SQL%\n",
    "# Select 'Hello'"
   ]
  },
  {
   "cell_type": "code",
   "execution_count": 158,
   "id": "6c2f1ef7-7ac9-462b-ac6b-3948944041e4",
   "metadata": {},
   "outputs": [
    {
     "name": "stdin",
     "output_type": "stream",
     "text": [
      "Enter a valid number 100\n"
     ]
    },
    {
     "name": "stdout",
     "output_type": "stream",
     "text": [
      "100 X 1 = 100\n",
      "100 X 2 = 200\n",
      "100 X 3 = 300\n",
      "100 X 4 = 400\n",
      "100 X 5 = 500\n",
      "100 X 6 = 600\n",
      "100 X 7 = 700\n",
      "100 X 8 = 800\n",
      "100 X 9 = 900\n",
      "100 X 10 = 1000\n"
     ]
    }
   ],
   "source": [
    "x= eval(input(\"Enter a valid number\"))\n",
    "i==1\n",
    "for i in range(1,11):\n",
    "    print (f\"{x} X {i} = {x*i}\")\n"
   ]
  },
  {
   "cell_type": "code",
   "execution_count": null,
   "id": "f9f390e8-d2cb-4525-b925-02c6fa469b52",
   "metadata": {},
   "outputs": [],
   "source": []
  },
  {
   "cell_type": "code",
   "execution_count": null,
   "id": "772f0778-2a86-4546-ba46-e727ebcf80aa",
   "metadata": {},
   "outputs": [],
   "source": []
  }
 ],
 "metadata": {
  "kernelspec": {
   "display_name": "Python 3 (ipykernel)",
   "language": "python",
   "name": "python3"
  },
  "language_info": {
   "codemirror_mode": {
    "name": "ipython",
    "version": 3
   },
   "file_extension": ".py",
   "mimetype": "text/x-python",
   "name": "python",
   "nbconvert_exporter": "python",
   "pygments_lexer": "ipython3",
   "version": "3.12.4"
  }
 },
 "nbformat": 4,
 "nbformat_minor": 5
}
