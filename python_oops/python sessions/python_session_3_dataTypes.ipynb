{
 "cells": [
  {
   "cell_type": "code",
   "execution_count": 5,
   "id": "55e129df-79d0-4628-ada2-5683db341000",
   "metadata": {},
   "outputs": [],
   "source": [
    "number=1"
   ]
  },
  {
   "cell_type": "code",
   "execution_count": 7,
   "id": "fd627b74-ebc5-483b-81d4-3325ece79531",
   "metadata": {},
   "outputs": [
    {
     "data": {
      "text/plain": [
       "3"
      ]
     },
     "execution_count": 7,
     "metadata": {},
     "output_type": "execute_result"
    }
   ],
   "source": [
    "number = 3\n",
    "number"
   ]
  },
  {
   "cell_type": "code",
   "execution_count": 11,
   "id": "6351af9e-48a2-49c6-866a-b628a9235ba0",
   "metadata": {},
   "outputs": [
    {
     "data": {
      "text/plain": [
       "2"
      ]
     },
     "metadata": {},
     "output_type": "display_data"
    }
   ],
   "source": [
    "number =2\n",
    "display(number)"
   ]
  },
  {
   "cell_type": "code",
   "execution_count": 29,
   "id": "84c2a6b1-5df3-40e0-a455-2c0f811664c5",
   "metadata": {},
   "outputs": [
    {
     "name": "stdout",
     "output_type": "stream",
     "text": [
      "<class 'int'>\n",
      "<class 'str'>\n",
      "<class 'float'>\n",
      "<class 'list'>\n",
      "<class 'tuple'>\n",
      "<class 'set'>\n",
      "<class 'bool'>\n",
      "n8 <class 'dict'>\n"
     ]
    }
   ],
   "source": [
    "n1=100\n",
    "print(type(n1))\n",
    "n2='Ram'\n",
    "print(type(n2))\n",
    "n3=100.12\n",
    "print(type(n3))\n",
    "n4=[1,20]\n",
    "print(type(n4))\n",
    "n5=(1,2,4)\n",
    "print(type(n5))\n",
    "n6={1,2,3}\n",
    "print(type(n6))\n",
    "\n",
    "n7=True\n",
    "print(type(n7))\n",
    "n8={'Name':'Ram'}\n",
    "print('n8', type(n8))"
   ]
  },
  {
   "cell_type": "code",
   "execution_count": 39,
   "id": "e79497fa-ee66-4a8d-be3d-baf26951e08e",
   "metadata": {},
   "outputs": [
    {
     "name": "stdout",
     "output_type": "stream",
     "text": [
      "Addition of 345 And 200 is equal to 545\n"
     ]
    }
   ],
   "source": [
    "N1=345\n",
    "N2=200\n",
    "N3=N1+N2\n",
    "print(f\"Addition of {N1} And {N2} is equal to {N3}\")"
   ]
  },
  {
   "cell_type": "code",
   "execution_count": 51,
   "id": "d53bc257-d08a-43d2-9956-33c9eb5fdbff",
   "metadata": {},
   "outputs": [
    {
     "name": "stdout",
     "output_type": "stream",
     "text": [
      "The Type of 345 is <class 'int'>\n",
      "The Type of 200 is <class 'int'>\n",
      "The Type of 545 is <class 'int'>\n",
      "The Type of [1, 20] is <class 'list'>\n",
      "The Type of (1, 2, 4) is <class 'tuple'>\n",
      "The Type of {1, 2, 3} is <class 'set'>\n"
     ]
    }
   ],
   "source": [
    "print(f\"The Type of {n1} is {type(n1)}\")\n",
    "print(f\"The Type of {n2} is {type(n2)}\")\n",
    "print(f\"The Type of {n3} is {type(n3)}\")\n",
    "print(f\"The Type of {n4} is {type(n4)}\")\n",
    "print(f\"The Type of {n5} is {type(n5)}\")\n",
    "print(f\"The Type of {n6} is {type(n6)}\")"
   ]
  },
  {
   "cell_type": "code",
   "execution_count": 65,
   "id": "9a854be7-8fcf-44eb-9c6e-4b96ba806d85",
   "metadata": {},
   "outputs": [
    {
     "name": "stdout",
     "output_type": "stream",
     "text": [
      "The addition of 200 and 300 is 500\n",
      "The addition of 200 and 300 is 500\n",
      "The Substraction of 200 and 300 is 100\n",
      "The addition of 200 and 300 is 500\n",
      "The Substraction of 200 and 300 is 100\n"
     ]
    }
   ],
   "source": [
    "num1=200\n",
    "num2=300\n",
    "add=num1+num2\n",
    "sub=num2-num1\n",
    "print(f\"The addition of {num1} and {num2} is {add}\")\n",
    "print(f'The addition of {num1} and {num2} is {add}')\n",
    "print(f\"The Substraction of {num1} and {num2} is {sub}\")\n",
    "print(\"The addition of {} and {} is {}\".format(num1, num2, add))\n",
    "print(\"The Substraction of {} and {} is {}\".format(num1,num2,sub))\n"
   ]
  },
  {
   "cell_type": "code",
   "execution_count": 71,
   "id": "e81179bb-0249-4282-a850-26858a11c006",
   "metadata": {},
   "outputs": [
    {
     "name": "stdout",
     "output_type": "stream",
     "text": [
      "Hello\n",
      "my name is ram \n",
      "i leave in pune, its called docs string\n"
     ]
    }
   ],
   "source": [
    "print('''Hello\n",
    "my name is ram \n",
    "i leave in pune, its called docs string''')"
   ]
  },
  {
   "cell_type": "code",
   "execution_count": 2,
   "id": "ed40b78b-ad0c-4cb4-b353-23c16f68a062",
   "metadata": {},
   "outputs": [
    {
     "name": "stdout",
     "output_type": "stream",
     "text": [
      "hello hello\n"
     ]
    }
   ],
   "source": [
    "print('hello',end=' ')\n",
    "print(\"hello\")"
   ]
  },
  {
   "cell_type": "code",
   "execution_count": 55,
   "id": "e67c6245-b132-44e4-be36-a4d79b3297c3",
   "metadata": {},
   "outputs": [
    {
     "name": "stdout",
     "output_type": "stream",
     "text": [
      "My python is python im 10 years old i came from India\n"
     ]
    }
   ],
   "source": [
    "name='python'\n",
    "age=10\n",
    "city='India'\n",
    "print(f\"My {name} is python im {age} years old i came from {city}\")"
   ]
  }
 ],
 "metadata": {
  "kernelspec": {
   "display_name": "Python 3",
   "language": "python",
   "name": "python3"
  },
  "language_info": {
   "codemirror_mode": {
    "name": "ipython",
    "version": 3
   },
   "file_extension": ".py",
   "mimetype": "text/x-python",
   "name": "python",
   "nbconvert_exporter": "python",
   "pygments_lexer": "ipython3",
   "version": "3.11.3"
  }
 },
 "nbformat": 4,
 "nbformat_minor": 5
}
