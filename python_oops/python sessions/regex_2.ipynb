{
 "cells": [
  {
   "cell_type": "code",
   "execution_count": 3,
   "id": "520f30dc-b1f4-4e25-91a7-19ce00cbe8c2",
   "metadata": {},
   "outputs": [
    {
     "data": {
      "text/plain": [
       "'This is ram kadam'"
      ]
     },
     "metadata": {},
     "output_type": "display_data"
    }
   ],
   "source": [
    "import re\n",
    "text='This is    ram     kadam'\n",
    "res=re.sub(r'\\s+',\" \",text)\n",
    "display(res)"
   ]
  },
  {
   "cell_type": "code",
   "execution_count": 5,
   "id": "415eab82-26c3-473d-8c9e-d3c537d9ae0f",
   "metadata": {},
   "outputs": [
    {
     "data": {
      "text/plain": [
       "['apple', 'nbanana', 'grape', 'orange']"
      ]
     },
     "execution_count": 5,
     "metadata": {},
     "output_type": "execute_result"
    }
   ],
   "source": [
    "text='apple;banana|grape,orange'\n",
    "pattern='[;|,]'\n",
    "re.split(pattern,text)"
   ]
  },
  {
   "cell_type": "code",
   "execution_count": 25,
   "id": "3adf41a6-7a3d-4b3c-b037-bc284796ff60",
   "metadata": {},
   "outputs": [
    {
     "data": {
      "text/plain": [
       "['https://www.atyeti.com/', 'https://www.openai.com/']"
      ]
     },
     "execution_count": 25,
     "metadata": {},
     "output_type": "execute_result"
    }
   ],
   "source": [
    "html=\"\"\"\n",
    "<a href=\"https://www.atyeti.com/\">Atyeti</a>\n",
    "<a href=\"https://www.openai.com/\">Atyeti</a>\n",
    "\"\"\"\n",
    "pattern='href=\"(.*?)\"'\n",
    "re.findall(pattern,html)\n"
   ]
  },
  {
   "cell_type": "markdown",
   "id": "2a370154-8af7-4e18-872b-53415bc720a3",
   "metadata": {},
   "source": [
    "** File Validation **"
   ]
  },
  {
   "cell_type": "code",
   "execution_count": 30,
   "id": "bf166e72-2c3a-4cea-9781-84d5591f7d57",
   "metadata": {},
   "outputs": [
    {
     "data": {
      "text/plain": [
       "True"
      ]
     },
     "execution_count": 30,
     "metadata": {},
     "output_type": "execute_result"
    }
   ],
   "source": [
    "pat=r'.*\\.(jpg|jpeg|png|csv)$'\n",
    "bool(re.match(pat,'image.png'))"
   ]
  },
  {
   "cell_type": "code",
   "execution_count": 32,
   "id": "b40c439b-ede7-423c-aee6-a5edb6cc0720",
   "metadata": {},
   "outputs": [
    {
     "data": {
      "text/plain": [
       "False"
      ]
     },
     "execution_count": 32,
     "metadata": {},
     "output_type": "execute_result"
    }
   ],
   "source": [
    "pat=r'.*\\.(jpg|jpeg|png|csv)$'\n",
    "bool(re.match(pat,'image.pdf'))"
   ]
  },
  {
   "cell_type": "code",
   "execution_count": null,
   "id": "7fe5886d-ebaa-439b-9da0-f805cd18597b",
   "metadata": {},
   "outputs": [],
   "source": [
    "timeit()"
   ]
  },
  {
   "cell_type": "code",
   "execution_count": null,
   "id": "db58980d-f37f-4501-b6f4-7808fb8a3c78",
   "metadata": {},
   "outputs": [],
   "source": [
    "enumerate(li)"
   ]
  }
 ],
 "metadata": {
  "kernelspec": {
   "display_name": "Python 3 (ipykernel)",
   "language": "python",
   "name": "python3"
  },
  "language_info": {
   "codemirror_mode": {
    "name": "ipython",
    "version": 3
   },
   "file_extension": ".py",
   "mimetype": "text/x-python",
   "name": "python",
   "nbconvert_exporter": "python",
   "pygments_lexer": "ipython3",
   "version": "3.12.4"
  }
 },
 "nbformat": 4,
 "nbformat_minor": 5
}
