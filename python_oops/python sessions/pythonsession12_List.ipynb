{
 "cells": [
  {
   "cell_type": "code",
   "execution_count": 3,
   "id": "85109eaa-a82b-472b-9a7a-0f73ce12adc3",
   "metadata": {},
   "outputs": [
    {
     "name": "stdout",
     "output_type": "stream",
     "text": [
      "[1, 2, 3, 4, 40, 40, 40, 'Apple', 'Banana', 'Cherry']\n",
      "40\n",
      "40\n",
      "40\n",
      "4\n",
      "3\n",
      "2\n",
      "1\n",
      "1\n",
      "2\n",
      "3\n",
      "['A', 'B', 'C']\n"
     ]
    }
   ],
   "source": [
    "list1 = [1,2,3,4,40,40,40]\n",
    "list2= ['Apple','Banana','Cherry']\n",
    "list3= list1+list2\n",
    "print(list3)\n",
    "len(list3)\n",
    "# min(list3)\n",
    "# not supported for hetrogenious , only for numeric elements\n",
    "# max(list1)\n",
    "type(list1)\n",
    "sorted(list1)\n",
    "list4 =reversed(list1)\n",
    "for i in list4:\n",
    "    print(i)\n",
    "\n",
    "list5=['A',1,True,10.5]\n",
    "list6=[1,2,3,['A','B','C']]\n",
    "for i in list6:\n",
    "    print(i)"
   ]
  },
  {
   "cell_type": "code",
   "execution_count": 9,
   "id": "0df22a26-5cb4-4fe3-b20e-5b4e32088bec",
   "metadata": {},
   "outputs": [],
   "source": [
    "dir(list1)\n",
    "list1.insert(7,50)"
   ]
  },
  {
   "cell_type": "code",
   "execution_count": 13,
   "id": "664e4938-82b9-401e-bc28-126c8104aaba",
   "metadata": {},
   "outputs": [
    {
     "name": "stdout",
     "output_type": "stream",
     "text": [
      "1\n",
      "2\n",
      "3\n",
      "['A', 'B', ['C']]\n"
     ]
    }
   ],
   "source": [
    "sorted(list1,reverse=True)\n",
    "# list1.append(60)\n",
    "dir(list1)\n",
    "# list1.count(40)\n",
    "# list1.remove(60)\n",
    "# display(list1)\n",
    "70 in list1\n",
    "# you can use 'in' for element exists in list or not\n",
    "# for i in list1:\n",
    "#     print(i, end=',')\n",
    "\n",
    "# for i in range(len(list1)):\n",
    "#     print(list1[i])\n",
    "list6=[1,2,3,['A','B',['C']]]\n",
    "for i in range(len(list6)):\n",
    "        print(list6[i])\n",
    "# list6[3][2]\n",
    "# list6[3][2][0]"
   ]
  },
  {
   "cell_type": "code",
   "execution_count": 39,
   "id": "fce2c6cb-6104-4df8-b1b8-987f372efd3a",
   "metadata": {},
   "outputs": [
    {
     "data": {
      "text/plain": [
       "'Sambhaji'"
      ]
     },
     "execution_count": 39,
     "metadata": {},
     "output_type": "execute_result"
    }
   ],
   "source": [
    "list7=['Mango',['India',['Nagpur',['MH',['King',['shivaji','Maharaj',['Son',['Maharaj','Sambhaji']]]]]]]]\n",
    "# list7[1][1][1][1][1][1][1][0]\n",
    "# list7[1][1][1][1][1][2][1][1]"
   ]
  },
  {
   "cell_type": "code",
   "execution_count": 43,
   "id": "daf282f5-f735-498e-b849-04c54c38a137",
   "metadata": {},
   "outputs": [
    {
     "data": {
      "text/plain": [
       "[0, 1, 2, 3, 4, 5, 6, 7, 8, 9, 10]"
      ]
     },
     "metadata": {},
     "output_type": "display_data"
    }
   ],
   "source": [
    "def addelementstolist(n):\n",
    "    list=[]\n",
    "    for i in range(n):\n",
    "        list.append(i)\n",
    "    display(list)\n",
    "addelementstolist(11)"
   ]
  },
  {
   "cell_type": "code",
   "execution_count": 55,
   "id": "617cf889-8e61-4368-be71-3da5998e798d",
   "metadata": {},
   "outputs": [
    {
     "data": {
      "text/plain": [
       "[8, 8]"
      ]
     },
     "metadata": {},
     "output_type": "display_data"
    },
    {
     "data": {
      "text/plain": [
       "[1, 1, 7]"
      ]
     },
     "metadata": {},
     "output_type": "display_data"
    },
    {
     "data": {
      "text/plain": [
       "[8, 8]"
      ]
     },
     "metadata": {},
     "output_type": "display_data"
    },
    {
     "data": {
      "text/plain": [
       "[8, 8, 8, 8]"
      ]
     },
     "metadata": {},
     "output_type": "display_data"
    }
   ],
   "source": [
    "import random\n",
    "def list_of_even_odd(n):\n",
    "    even_list=[]\n",
    "    odd_list=[]\n",
    "    for i in range(n):\n",
    "        num=random.randint(1,10)\n",
    "        if num%2==0:\n",
    "            even_list.append(num)\n",
    "        else:\n",
    "            odd_list.append(num)\n",
    "\n",
    "    display(even_list)\n",
    "    display(odd_list)\n",
    "    odd_list=even_list.copy()\n",
    "    # copy is copy and paste(replace existing elements)\n",
    "    display(odd_list)\n",
    "    odd_list.extend(even_list)\n",
    "    display(odd_list)\n",
    "    \n",
    "\n",
    "list_of_even_odd(5)\n",
    "    "
   ]
  },
  {
   "cell_type": "code",
   "execution_count": 57,
   "id": "463a8175-189b-491e-8481-993ecfff4a81",
   "metadata": {},
   "outputs": [
    {
     "data": {
      "text/plain": [
       "[1, 2, 3, 4, 10, 10, 12, 40, 45, 50]"
      ]
     },
     "execution_count": 57,
     "metadata": {},
     "output_type": "execute_result"
    }
   ],
   "source": [
    "list1=[1,2,3,4,10,10,10,40,50]\n",
    "# i1=list1.index(10)\n",
    "# i1\n",
    "# i2=list1.index(10,1+i1)\n",
    "# i2\n",
    "# i3=list1.index(10,1+i2)\n",
    "# i3\n",
    "list1.insert(40,'ABC')\n",
    "# list1\n",
    "list1.insert(7,45)\n",
    "# list1\n",
    "list1.insert(5,12)\n",
    "# list1\n",
    "list1.pop(7)\n",
    "list1\n",
    "list1.remove('ABC')\n",
    "# del(list1[0])\n",
    "# del(list)\n",
    "list1\n",
    "list1.sort()\n",
    "list1"
   ]
  },
  {
   "cell_type": "code",
   "execution_count": 59,
   "id": "40d1e168-b85f-4a8c-9af5-31dbcb41ed02",
   "metadata": {},
   "outputs": [
    {
     "data": {
      "text/plain": [
       "[4, 3, 2, 1]"
      ]
     },
     "execution_count": 59,
     "metadata": {},
     "output_type": "execute_result"
    }
   ],
   "source": [
    "list20=[4,2,3,1]\n",
    "list20\n",
    "list20.sort()\n",
    "list20\n",
    "list20.reverse()\n",
    "list20\n",
    "reversed(list20)\n",
    "list20\n",
    "# display(l)\n",
    "# display(sorted(list20))\n"
   ]
  },
  {
   "cell_type": "code",
   "execution_count": 1,
   "id": "078255ac-59d0-4990-afda-e999152df033",
   "metadata": {},
   "outputs": [
    {
     "data": {
      "text/plain": [
       "3"
      ]
     },
     "execution_count": 1,
     "metadata": {},
     "output_type": "execute_result"
    }
   ],
   "source": [
    "tuple=(1,2,3,4,1)\n",
    "tuple\n",
    "dir(tuple)\n",
    "tuple.count(1)  #-/- Distinct count in tuple\n",
    "# dir(tuple) Only count and index methods are avilable\n",
    "tuple.index(4)"
   ]
  },
  {
   "cell_type": "markdown",
   "id": "6ef6f729",
   "metadata": {},
   "source": [
    "** you cannt modify containts of tuple, tuple can contains duplicate"
   ]
  },
  {
   "cell_type": "code",
   "execution_count": 81,
   "id": "ba203b6c-9f5a-42ad-8b61-a5d9d3f25e7e",
   "metadata": {},
   "outputs": [
    {
     "data": {
      "text/plain": [
       "{1, 2, 3}"
      ]
     },
     "execution_count": 81,
     "metadata": {},
     "output_type": "execute_result"
    }
   ],
   "source": [
    "set={1,2,1,3}\n",
    "set\n",
    "dir(set)\n",
    "# set.add(1)\n"
   ]
  },
  {
   "cell_type": "code",
   "execution_count": 281,
   "id": "fd58fa71-aecc-4c3b-82a3-80079b2e281f",
   "metadata": {},
   "outputs": [
    {
     "data": {
      "text/plain": [
       "'hai*how*are*you'"
      ]
     },
     "execution_count": 281,
     "metadata": {},
     "output_type": "execute_result"
    }
   ],
   "source": [
    "string='hai how are you'\n",
    "l=string.split()\n",
    "'*'.join(l)"
   ]
  }
 ],
 "metadata": {
  "kernelspec": {
   "display_name": "Python 3",
   "language": "python",
   "name": "python3"
  },
  "language_info": {
   "codemirror_mode": {
    "name": "ipython",
    "version": 3
   },
   "file_extension": ".py",
   "mimetype": "text/x-python",
   "name": "python",
   "nbconvert_exporter": "python",
   "pygments_lexer": "ipython3",
   "version": "3.11.3"
  }
 },
 "nbformat": 4,
 "nbformat_minor": 5
}
