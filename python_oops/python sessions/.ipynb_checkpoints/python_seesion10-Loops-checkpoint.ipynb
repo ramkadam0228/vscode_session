{
 "cells": [
  {
   "cell_type": "code",
   "execution_count": 7,
   "id": "d2a2712e-778c-43a5-bfe2-c27302962ff1",
   "metadata": {},
   "outputs": [
    {
     "name": "stdout",
     "output_type": "stream",
     "text": [
      "0,1,2,3,4,"
     ]
    }
   ],
   "source": [
    "for i in range (5):\n",
    "    print(i, end=',')\n",
    "    "
   ]
  },
  {
   "cell_type": "code",
   "execution_count": 9,
   "id": "944dc368-4455-4d02-be12-51ab82170ae8",
   "metadata": {},
   "outputs": [
    {
     "name": "stdout",
     "output_type": "stream",
     "text": [
      "1, 2, 3, 4, 5, 6, 7, 8, 9, "
     ]
    }
   ],
   "source": [
    "for i in range(1,10):\n",
    "    print(i, end=', ')"
   ]
  },
  {
   "cell_type": "code",
   "execution_count": 18,
   "id": "cd106878-7e84-469f-abbe-feac9e21e529",
   "metadata": {},
   "outputs": [
    {
     "name": "stdout",
     "output_type": "stream",
     "text": [
      "0, 2, 4, 6, 8, "
     ]
    }
   ],
   "source": [
    "for i in range(0,10, 2):\n",
    "    print(i, end=', ')"
   ]
  },
  {
   "cell_type": "markdown",
   "id": "d3d3ab94-e2c6-41fb-a6ad-45059e70e9cd",
   "metadata": {},
   "source": [
    "- range(stop)\n",
    " \n",
    "    - range(10)\n",
    " \n",
    "- range(start,stop)\n",
    " \n",
    "    - range(2,10)\n",
    " \n",
    "- range(start,stop,step)\n",
    " \n",
    "    - range(2,10,2)"
   ]
  },
  {
   "cell_type": "code",
   "execution_count": 10,
   "id": "c04db073-3115-4f42-afb8-f6b445c975ef",
   "metadata": {},
   "outputs": [],
   "source": [
    "for i in range(0,10, -2):\n",
    "    print(i, end=' ')"
   ]
  },
  {
   "cell_type": "code",
   "execution_count": null,
   "id": "36c0c416-d140-42e7-a0b8-f0fd868e9edf",
   "metadata": {},
   "outputs": [],
   "source": []
  }
 ],
 "metadata": {
  "kernelspec": {
   "display_name": "Python 3 (ipykernel)",
   "language": "python",
   "name": "python3"
  },
  "language_info": {
   "codemirror_mode": {
    "name": "ipython",
    "version": 3
   },
   "file_extension": ".py",
   "mimetype": "text/x-python",
   "name": "python",
   "nbconvert_exporter": "python",
   "pygments_lexer": "ipython3",
   "version": "3.12.4"
  }
 },
 "nbformat": 4,
 "nbformat_minor": 5
}
