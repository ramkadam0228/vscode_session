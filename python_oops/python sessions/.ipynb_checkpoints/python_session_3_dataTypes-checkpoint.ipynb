{
 "cells": [
  {
   "cell_type": "code",
   "execution_count": 5,
   "id": "55e129df-79d0-4628-ada2-5683db341000",
   "metadata": {},
   "outputs": [],
   "source": [
    "number=1"
   ]
  },
  {
   "cell_type": "code",
   "execution_count": 7,
   "id": "fd627b74-ebc5-483b-81d4-3325ece79531",
   "metadata": {},
   "outputs": [
    {
     "data": {
      "text/plain": [
       "3"
      ]
     },
     "execution_count": 7,
     "metadata": {},
     "output_type": "execute_result"
    }
   ],
   "source": [
    "number = 3\n",
    "number"
   ]
  },
  {
   "cell_type": "code",
   "execution_count": 11,
   "id": "6351af9e-48a2-49c6-866a-b628a9235ba0",
   "metadata": {},
   "outputs": [
    {
     "data": {
      "text/plain": [
       "2"
      ]
     },
     "metadata": {},
     "output_type": "display_data"
    }
   ],
   "source": [
    "number =2\n",
    "display(number)"
   ]
  },
  {
   "cell_type": "code",
   "execution_count": 29,
   "id": "84c2a6b1-5df3-40e0-a455-2c0f811664c5",
   "metadata": {},
   "outputs": [
    {
     "name": "stdout",
     "output_type": "stream",
     "text": [
      "<class 'int'>\n",
      "<class 'str'>\n",
      "<class 'float'>\n",
      "<class 'list'>\n",
      "<class 'tuple'>\n",
      "<class 'set'>\n",
      "<class 'bool'>\n",
      "n8 <class 'dict'>\n"
     ]
    }
   ],
   "source": [
    "n1=100\n",
    "print(type(n1))\n",
    "n2='Ram'\n",
    "print(type(n2))\n",
    "n3=100.12\n",
    "print(type(n3))\n",
    "n4=[1,20]\n",
    "print(type(n4))\n",
    "n5=(1,2,4)\n",
    "print(type(n5))\n",
    "n6={1,2,3}\n",
    "print(type(n6))\n",
    "\n",
    "n7=True\n",
    "print(type(n7))\n",
    "n8={'Name':'Ram'}\n",
    "print('n8', type(n8))"
   ]
  }
 ],
 "metadata": {
  "kernelspec": {
   "display_name": "Python 3 (ipykernel)",
   "language": "python",
   "name": "python3"
  },
  "language_info": {
   "codemirror_mode": {
    "name": "ipython",
    "version": 3
   },
   "file_extension": ".py",
   "mimetype": "text/x-python",
   "name": "python",
   "nbconvert_exporter": "python",
   "pygments_lexer": "ipython3",
   "version": "3.12.4"
  }
 },
 "nbformat": 4,
 "nbformat_minor": 5
}
