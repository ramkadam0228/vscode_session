{
 "cells": [
  {
   "cell_type": "code",
   "execution_count": 1,
   "id": "ca28d548-929b-4a5d-90c0-cf40fa87414f",
   "metadata": {},
   "outputs": [
    {
     "data": {
      "text/plain": [
       "30"
      ]
     },
     "execution_count": 1,
     "metadata": {},
     "output_type": "execute_result"
    }
   ],
   "source": [
    "def summ(n):\n",
    "    return(n+10)\n",
    "\n",
    "summ(20)"
   ]
  },
  {
   "cell_type": "markdown",
   "id": "a6bc04d9-8389-4253-b021-eada4b1c2494",
   "metadata": {},
   "source": [
    "** Method 1 ** Functiona with only one argument"
   ]
  },
  {
   "cell_type": "code",
   "execution_count": 9,
   "id": "5c982dab-95d1-439c-b58e-07026d359ec5",
   "metadata": {},
   "outputs": [
    {
     "data": {
      "text/plain": [
       "20"
      ]
     },
     "execution_count": 9,
     "metadata": {},
     "output_type": "execute_result"
    }
   ],
   "source": [
    "# Syntax: <Function name>= lambda <argument name>: <Retun output>\n",
    "summ = lambda n : n+10\n",
    "\n",
    "summ(10)"
   ]
  },
  {
   "cell_type": "code",
   "execution_count": 11,
   "id": "6de04b0d-1ab7-4668-acdb-b86a9b436e8e",
   "metadata": {},
   "outputs": [
    {
     "data": {
      "text/plain": [
       "400"
      ]
     },
     "execution_count": 11,
     "metadata": {},
     "output_type": "execute_result"
    }
   ],
   "source": [
    "sqrt = lambda n: n*n\n",
    "sqrt(20)"
   ]
  },
  {
   "cell_type": "markdown",
   "id": "40bf7727-24bd-4951-b5cf-a6adc75adff0",
   "metadata": {},
   "source": [
    "** Method 2 ** Functiona with only two argument"
   ]
  },
  {
   "cell_type": "code",
   "execution_count": 18,
   "id": "b7ef7d2a-3a9f-4d5e-9fa8-1afefb2d0adf",
   "metadata": {},
   "outputs": [
    {
     "data": {
      "text/plain": [
       "11"
      ]
     },
     "execution_count": 18,
     "metadata": {},
     "output_type": "execute_result"
    }
   ],
   "source": [
    "add= lambda a, b : a+b\n",
    "add(5,6)"
   ]
  },
  {
   "cell_type": "code",
   "execution_count": null,
   "id": "621fb172-9fb2-4a97-b3c2-5b3dce899575",
   "metadata": {},
   "outputs": [],
   "source": []
  },
  {
   "cell_type": "markdown",
   "id": "36792c1a-fc7b-4fc1-b65c-42a552e5c502",
   "metadata": {},
   "source": [
    "** Method 3 ** Functiona with default argument"
   ]
  },
  {
   "cell_type": "code",
   "execution_count": 26,
   "id": "a26b71ac-f2fc-4893-b619-463e3bed9787",
   "metadata": {},
   "outputs": [
    {
     "ename": "SyntaxError",
     "evalue": "invalid syntax (2274485701.py, line 1)",
     "output_type": "error",
     "traceback": [
      "\u001b[1;36m  Cell \u001b[1;32mIn[26], line 1\u001b[1;36m\u001b[0m\n\u001b[1;33m    even_num= lambda n:if n%2==0\u001b[0m\n\u001b[1;37m                       ^\u001b[0m\n\u001b[1;31mSyntaxError\u001b[0m\u001b[1;31m:\u001b[0m invalid syntax\n"
     ]
    }
   ],
   "source": [
    "# even_num= lambda n: if n%2==0\n",
    "# even_num(3)"
   ]
  },
  {
   "cell_type": "code",
   "execution_count": 31,
   "id": "585d1453-1df7-4d14-ae32-3594eea56fb1",
   "metadata": {},
   "outputs": [
    {
     "data": {
      "text/plain": [
       "302"
      ]
     },
     "execution_count": 31,
     "metadata": {},
     "output_type": "execute_result"
    }
   ],
   "source": [
    "add= lambda a,b=300: a+b\n",
    "add(2)"
   ]
  },
  {
   "cell_type": "code",
   "execution_count": 33,
   "id": "cac35e28-5400-4ac4-bf84-2295f089a39f",
   "metadata": {},
   "outputs": [
    {
     "data": {
      "text/plain": [
       "4"
      ]
     },
     "execution_count": 33,
     "metadata": {},
     "output_type": "execute_result"
    }
   ],
   "source": [
    "# ** Method 4 ** Functiona with if else statement\n",
    "\n",
    "num10= lambda a,b: a if a>b else b\n",
    "num10(3,4)"
   ]
  },
  {
   "cell_type": "code",
   "execution_count": 35,
   "id": "ad4cbe66-1185-4da0-a711-ed64ee318a97",
   "metadata": {},
   "outputs": [
    {
     "name": "stdout",
     "output_type": "stream",
     "text": [
      "Odd Number\n"
     ]
    }
   ],
   "source": [
    "even_num= lambda n: n if n%2==0 else print('Odd Number')\n",
    "even_num(3)"
   ]
  },
  {
   "cell_type": "code",
   "execution_count": 41,
   "id": "ab988ea8-520f-4fc7-bb67-88eaf12dc7fa",
   "metadata": {},
   "outputs": [
    {
     "data": {
      "text/plain": [
       "['Hyd', 'Chennai', 'Mumbai']"
      ]
     },
     "execution_count": 41,
     "metadata": {},
     "output_type": "execute_result"
    }
   ],
   "source": [
    "# Method # 5 Using List\n",
    "l=['hyd','chennai','mumbai']\n",
    "out=[]\n",
    "for i in l:\n",
    "    # print(i.capitalize())\n",
    "    out.append(i.capitalize())\n",
    "\n",
    "out"
   ]
  },
  {
   "cell_type": "code",
   "execution_count": 47,
   "id": "2646c4f7-a776-4d20-ae00-6483bc4f43dd",
   "metadata": {},
   "outputs": [
    {
     "data": {
      "text/plain": [
       "['Hyd', 'Chennai', 'Mumbai']"
      ]
     },
     "execution_count": 47,
     "metadata": {},
     "output_type": "execute_result"
    }
   ],
   "source": [
    "l=['hyd','chennai','mumbai']\n",
    "list(map(lambda i : i.capitalize(), l))"
   ]
  },
  {
   "cell_type": "code",
   "execution_count": 49,
   "id": "059438c1-3e0c-4f04-af9e-bb4939b76f53",
   "metadata": {},
   "outputs": [
    {
     "data": {
      "text/plain": [
       "[12, 10, 8, 6]"
      ]
     },
     "execution_count": 49,
     "metadata": {},
     "output_type": "execute_result"
    }
   ],
   "source": [
    "p=[6,5,4,3]\n",
    "list(map(lambda i : i*2, p))"
   ]
  },
  {
   "cell_type": "markdown",
   "id": "e6a2b72a-1d3b-4252-be6c-50e7d2597148",
   "metadata": {},
   "source": [
    "*** Method 6 - Using filter _"
   ]
  },
  {
   "cell_type": "code",
   "execution_count": 54,
   "id": "99619403-591a-4937-a6cc-8161535eb55d",
   "metadata": {},
   "outputs": [
    {
     "data": {
      "text/plain": [
       "['chen#nai', 'mumbai#']"
      ]
     },
     "execution_count": 54,
     "metadata": {},
     "output_type": "execute_result"
    }
   ],
   "source": [
    "city=['hyd','chen#nai','mumbai#','blr']\n",
    "# import punctuation\n",
    "\n",
    "list(filter(lambda i: '#' in i, city))"
   ]
  },
  {
   "cell_type": "code",
   "execution_count": 58,
   "id": "11967216-29f0-4b89-a9b3-69844c555d7d",
   "metadata": {},
   "outputs": [
    {
     "data": {
      "text/plain": [
       "[9, 16, 25, 36, 49]"
      ]
     },
     "execution_count": 58,
     "metadata": {},
     "output_type": "execute_result"
    }
   ],
   "source": [
    "sqt = [3,4,5,6,7]\n",
    "list(map(lambda i: i**2 , sqt))"
   ]
  },
  {
   "cell_type": "code",
   "execution_count": 68,
   "id": "b68fb24d-2caa-4589-8298-4953ba025a85",
   "metadata": {},
   "outputs": [
    {
     "data": {
      "text/plain": [
       "(4, 6)"
      ]
     },
     "execution_count": 68,
     "metadata": {},
     "output_type": "execute_result"
    }
   ],
   "source": [
    "sqt = [3,4,5,6,7]\n",
    "# list(map(lambda i: i%2==0 , sqt)) --> True false\n",
    "# list(filter(lambda i: i%2==0 , sqt)) \n",
    "tuple(filter(lambda i: i%2==0 , sqt)) "
   ]
  },
  {
   "cell_type": "code",
   "execution_count": 100,
   "id": "e9427012-0ac5-4c2e-a788-b5bf1b8de407",
   "metadata": {},
   "outputs": [
    {
     "ename": "TypeError",
     "evalue": "'list' object is not callable",
     "output_type": "error",
     "traceback": [
      "\u001b[1;31m---------------------------------------------------------------------------\u001b[0m",
      "\u001b[1;31mTypeError\u001b[0m                                 Traceback (most recent call last)",
      "Cell \u001b[1;32mIn[100], line 7\u001b[0m\n\u001b[0;32m      3\u001b[0m list10\u001b[38;5;241m=\u001b[39m[\u001b[38;5;241m1\u001b[39m,\u001b[38;5;241m2\u001b[39m,\u001b[38;5;241m3\u001b[39m,\u001b[38;5;241m4\u001b[39m,\u001b[38;5;241m5\u001b[39m]\n\u001b[0;32m      4\u001b[0m \u001b[38;5;66;03m# sum(list)\u001b[39;00m\n\u001b[0;32m      5\u001b[0m \u001b[38;5;66;03m# summ=0\u001b[39;00m\n\u001b[1;32m----> 7\u001b[0m \u001b[38;5;28mlist\u001b[39m(reduce(\u001b[38;5;28;01mlambda\u001b[39;00m summ, i : summ \u001b[38;5;241m+\u001b[39m i , list10,\u001b[38;5;241m0\u001b[39m))\n",
      "\u001b[1;31mTypeError\u001b[0m: 'list' object is not callable"
     ]
    }
   ],
   "source": [
    "import functools\n",
    "from functools import reduce\n",
    "list10=[1,2,3,4,5]\n",
    "# sum(list)\n",
    "# summ=0\n",
    "\n",
    "list(reduce(lambda summ, i : summ + i , list10,0))"
   ]
  }
 ],
 "metadata": {
  "kernelspec": {
   "display_name": "Python 3 (ipykernel)",
   "language": "python",
   "name": "python3"
  },
  "language_info": {
   "codemirror_mode": {
    "name": "ipython",
    "version": 3
   },
   "file_extension": ".py",
   "mimetype": "text/x-python",
   "name": "python",
   "nbconvert_exporter": "python",
   "pygments_lexer": "ipython3",
   "version": "3.12.4"
  }
 },
 "nbformat": 4,
 "nbformat_minor": 5
}
