{
 "cells": [
  {
   "cell_type": "code",
   "execution_count": 1,
   "id": "df70cb1a-9936-40e3-bd85-64669d3eafb0",
   "metadata": {},
   "outputs": [
    {
     "name": "stdin",
     "output_type": "stream",
     "text": [
      "Num1: 10\n",
      "Num2: 20\n"
     ]
    },
    {
     "name": "stdout",
     "output_type": "stream",
     "text": [
      "Addition of 10 and 20 is 30\n"
     ]
    }
   ],
   "source": [
    "# Conditional Statement\n",
    "num1=eval(input('Num1:'))\n",
    "num2=eval(input('Num2:'))\n",
    "add=num1 + num2\n",
    "print(f\"Addition of {num1} and {num2} is {add}\")\n",
    "\n",
    "# - The same code I want write based on some condition\n",
    " \n",
    "# - if (single condition)\n",
    " \n",
    "# - if-else (two conditions)\n",
    " \n",
    "# - if elif else (3 conditions)\n",
    " \n",
    "# - if elif elif else (4 condtition)\n",
    "                "
   ]
  },
  {
   "cell_type": "code",
   "execution_count": null,
   "id": "a8515a03-e09f-4652-b8a5-09ac5ef3fd3b",
   "metadata": {},
   "outputs": [],
   "source": [
    "# syntax\n",
    "# if <condition>:\n",
    "    # write code lines here\n",
    "    # write code lines here\n",
    "# whenever we have colon ':' is there \n",
    "# the next lines start with some space\n",
    "# this space is called as indentation\n",
    "# if we will not provide space\n",
    "# It will throws an : indentation error\n",
    "    "
   ]
  },
  {
   "cell_type": "code",
   "execution_count": 19,
   "id": "5811ff79-7054-456c-8b53-844abb84bfa2",
   "metadata": {},
   "outputs": [
    {
     "name": "stdout",
     "output_type": "stream",
     "text": [
      "19 is less than 77\n"
     ]
    }
   ],
   "source": [
    "# WAP ask user to enter 2 numbers print greatest number\n",
    "\n",
    "# a = eval(input('Enter first number:'))\n",
    "# b = eval(input('Enter Second number:'))\n",
    "import random\n",
    "a= random.randint(10,100)\n",
    "b= random.randint(10,100)\n",
    "if a>b:\n",
    "    print (f\" {a} is greater than {b}\")\n",
    "else:\n",
    "    print(f\"{a} is less than {b}\")"
   ]
  },
  {
   "cell_type": "code",
   "execution_count": 27,
   "id": "4d646d39-7214-403d-9c58-aa8af4fbbe0b",
   "metadata": {},
   "outputs": [
    {
     "name": "stdin",
     "output_type": "stream",
     "text": [
      "Enter Disatnce 100\n",
      "Enter free Disatnce 90\n",
      "Enter the charge per KM 98\n"
     ]
    },
    {
     "name": "stdout",
     "output_type": "stream",
     "text": [
      " Total charge is: 980\n"
     ]
    }
   ],
   "source": [
    "#WAP Ask user enter disatnace, if distance greater than 25 mins - ask user to enter charge \n",
    "\n",
    "dis = eval(input('Enter Disatnce'))\n",
    "freedis = eval(input('Enter free Disatnce'))\n",
    "if (dis > freedis):\n",
    "    charge_per_km = eval(input(\"Enter the charge per KM\"))\n",
    "    total_Chrge = (dis-freedis)*charge_per_km\n",
    "    print(f\" Total charge is: {total_Chrge}\")\n",
    "else:\n",
    "    print(\" Ride is free\" )\n",
    "    \n",
    "    "
   ]
  },
  {
   "cell_type": "code",
   "execution_count": 46,
   "id": "2aa1ce1a-9832-4856-bb32-4b04e951869b",
   "metadata": {},
   "outputs": [
    {
     "name": "stdin",
     "output_type": "stream",
     "text": [
      "Enter Name of Course Python\n",
      "Enter Name of Institute JNTU\n"
     ]
    },
    {
     "name": "stdout",
     "output_type": "stream",
     "text": [
      " Good\n"
     ]
    }
   ],
   "source": [
    "#WAP ask user course name\n",
    "# Enter institute name\n",
    "Course_name= input(\"Enter Name of Course\")\n",
    "Institute_name= input(\"Enter Name of Institute\")\n",
    "\n",
    "if (Institute_name.lower() == 'jntu' and Course_name.lower() == 'python'):\n",
    "    print(\" Good\")\n",
    "else:\n",
    "    print(\"Not Good\")"
   ]
  },
  {
   "cell_type": "code",
   "execution_count": 52,
   "id": "132fc079-43fa-4de3-a845-1cd107d4d4ce",
   "metadata": {},
   "outputs": [
    {
     "name": "stdin",
     "output_type": "stream",
     "text": [
      "Enter a number 7\n"
     ]
    },
    {
     "name": "stdout",
     "output_type": "stream",
     "text": [
      "you are out\n"
     ]
    }
   ],
   "source": [
    "import random\n",
    "n1= random.randint(1,10)\n",
    "n2= eval(input(\"Enter a number\"))\n",
    "if n1==n2:\n",
    "    print('you are in')\n",
    "else:\n",
    "    print('you are out')"
   ]
  },
  {
   "cell_type": "code",
   "execution_count": 62,
   "id": "50b0259e-254f-4d6c-a14b-6bb8f8ec8f81",
   "metadata": {},
   "outputs": [
    {
     "name": "stdin",
     "output_type": "stream",
     "text": [
      "Enter a number 0\n"
     ]
    },
    {
     "name": "stdout",
     "output_type": "stream",
     "text": [
      "Its zero\n"
     ]
    }
   ],
   "source": [
    "num= eval(input(\"Enter a number\"))\n",
    "if num > 0:\n",
    "    print(\"Positive\")\n",
    "elif num < 0:\n",
    "    print (\"Negative\")\n",
    "else:\n",
    "    print(\"Its zero\")\n",
    "    \n"
   ]
  },
  {
   "cell_type": "code",
   "execution_count": 78,
   "id": "6897121a-a32d-47ac-a2a5-5c7fc25cb2f2",
   "metadata": {},
   "outputs": [
    {
     "name": "stdin",
     "output_type": "stream",
     "text": [
      "Enter Percentage of student 98\n"
     ]
    },
    {
     "name": "stdout",
     "output_type": "stream",
     "text": [
      " First class\n"
     ]
    }
   ],
   "source": [
    "percentage = eval(input(\"Enter Percentage of student\"))\n",
    "if percentage >= 90:\n",
    "    print(f\" First class\")\n",
    "# elif percentage >= 70 and percentage <90:\n",
    "elif percentage >= 70 :\n",
    "    print( \" Second class\")\n",
    "# elif percentage >=50 and percentage <70:\n",
    "elif percentage >=50 :\n",
    "    print(\"Third Class\")\n",
    "else:\n",
    "    print(\"Failed\")\n"
   ]
  },
  {
   "cell_type": "code",
   "execution_count": 90,
   "id": "af74587f-a3e2-42cd-8b7a-ff9fe9300561",
   "metadata": {},
   "outputs": [
    {
     "name": "stdin",
     "output_type": "stream",
     "text": [
      "Enter Age 34\n"
     ]
    },
    {
     "name": "stdout",
     "output_type": "stream",
     "text": [
      " middle age \n"
     ]
    }
   ],
   "source": [
    "age = eval(input(\"Enter Age\"))\n",
    "if age >= 60:\n",
    "    print(\" Seniour Citizen\")\n",
    "elif age >= 45:\n",
    "    print(\" Upper middle age \")\n",
    "elif age >= 30:\n",
    "    print(\" middle age \")\n",
    "elif age >= 20:\n",
    "    print(\" Youth \")\n",
    "elif age >= 10:\n",
    "    print(\" Teen \")\n",
    "else:\n",
    "    print (\"Kid:\")\n",
    "\n",
    "    "
   ]
  },
  {
   "cell_type": "markdown",
   "id": "901cada8-0204-4c53-b597-40655e2c30be",
   "metadata": {},
   "source": [
    "### Calculator \n",
    "Ask user number 1\n",
    "Ask user number 2\n",
    "enter 1 for addition\n",
    "enter 2 for substraction\n",
    "enter 3 for multiplication\n",
    "enter 4 for division\n"
   ]
  },
  {
   "cell_type": "code",
   "execution_count": 137,
   "id": "9e0e9b83-eae9-4c4e-a5d5-ce638b53c967",
   "metadata": {},
   "outputs": [
    {
     "name": "stdin",
     "output_type": "stream",
     "text": [
      "Enter first Number 80\n",
      "Enter Second Number 4\n",
      "Enter Operation [1 for Add], [2 for Sub], [3 for mul], [4 for div] 4\n"
     ]
    },
    {
     "name": "stdout",
     "output_type": "stream",
     "text": [
      "Division of 80 and 4 is 20.0\n",
      "Else part of try catch\n",
      "Out of try catch block\n"
     ]
    }
   ],
   "source": [
    "import time\n",
    "num1 = eval(input(\"Enter first Number\"))\n",
    "num2 = eval(input(\"Enter Second Number\"))\n",
    "            \n",
    "\n",
    "Operation = eval(input(\"Enter Operation [1 for Add], [2 for Sub], [3 for mul], [4 for div]\"))\n",
    "time.sleep(2)\n",
    "if Operation ==1:\n",
    "    add = num1+num2\n",
    "    print(f\"Addition of {num1} and {num2} is {add}\")\n",
    "elif Operation ==2:\n",
    "    try:\n",
    "        if num1>= num2:\n",
    "            sub = num1-num2\n",
    "            print(f\"Substraction of {num1} and {num2} is {sub}\")\n",
    "        else:\n",
    "            sub=num2-num1\n",
    "            print(f\"Substraction of {num1} and {num2} is {sub}\")\n",
    "    except:\n",
    "        print(\"SOmething is wrong\")\n",
    "elif Operation ==3:\n",
    "    mul = num1 * num2\n",
    "    print(f\"Multiplication of {num1} and {num2} is {mul}\")\n",
    "elif Operation ==4:\n",
    "    try:\n",
    "        div = num1/num2\n",
    "        print(f\"Division of {num1} and {num2} is {div}\")    \n",
    "    # else:\n",
    "    #     print(\"Else part of try catch\")\n",
    "    except:\n",
    "        print(\"Num2 is Zero, divide by zero\")\n",
    "    else:\n",
    "       print(\"Else part of try catch\")\n",
    "    finally:\n",
    "        print(\"Out of try catch block\")"
   ]
  },
  {
   "cell_type": "code",
   "execution_count": 149,
   "id": "1bfc1da1-3349-413e-b7b3-5c18edd9632e",
   "metadata": {},
   "outputs": [
    {
     "name": "stdin",
     "output_type": "stream",
     "text": [
      "Enter the Gender male\n",
      "Enter Age 0\n"
     ]
    },
    {
     "name": "stdout",
     "output_type": "stream",
     "text": [
      "Kid:\n"
     ]
    }
   ],
   "source": [
    "# wap\n",
    "# ask the user enter gender\n",
    "# if gender equal to male\n",
    "#      ask the user enter age\n",
    "#      if age >=60 then prin ss\n",
    "#      if age between 30 to 60 print MMan\n",
    "#      if age between 10 to 30 print young man\n",
    "#      other wise print boy\n",
    "# elif gender equal to feMale\n",
    "#      ask the user enter age\n",
    "#      if age >=60 then prin ss\n",
    "#      if age between 30 to 60 print MwMan\n",
    "#      if age between 10 to 30 print young wman\n",
    "#      other wise print girl\n",
    "# else\n",
    "#    enter a valid a gender\n",
    "\n",
    "gender=input(\"Enter the Gender\")\n",
    "if gender.lower() == 'male':\n",
    "        age = eval(input(\"Enter Age\"))\n",
    "        if age >= 60:print(\" Seniour Citizen\")\n",
    "        elif age >= 45:print(\" Upper middle age \")\n",
    "        elif age >= 30:print(\" middle age \")\n",
    "        elif age >= 20:print(\" Youth \")\n",
    "        elif age >= 10:print(\" Teen \")\n",
    "        else:print (\"Kid:\")\n",
    "elif gender.lower() == 'female':\n",
    "        age = eval(input(\"Enter Age\"))\n",
    "        if age >= 60:print(\" Seniour Citizen\")\n",
    "        elif age >= 45:print(\" Upper middle age \")\n",
    "        elif age >= 30:print(\" middle age \")\n",
    "        elif age >= 20:print(\" Youth \")\n",
    "        elif age >= 10:print(\" Teen \")\n",
    "        else:print (\"Kid:\")\n",
    "else:\n",
    "    print(\"Type a valid gender\")\n",
    "    "
   ]
  },
  {
   "cell_type": "code",
   "execution_count": 153,
   "id": "8faa2a00-88de-4f7d-8ee9-4ad5aa743a89",
   "metadata": {},
   "outputs": [
    {
     "name": "stdin",
     "output_type": "stream",
     "text": [
      "Enter the Gender 90\n"
     ]
    },
    {
     "name": "stdout",
     "output_type": "stream",
     "text": [
      "Type a valid gender\n"
     ]
    }
   ],
   "source": [
    "gender=input(\"Enter the Gender\")\n",
    "if gender.lower() == 'male':\n",
    "        # age = eval(input(\"Enter Age\"))\n",
    "        # print(\" Seniour Citizen\") if age >= 60\n",
    "        # print(\" Upper middle age \") elif age >= 45\n",
    "        # print(\" middle age \") elif age >= 30\n",
    "        # print(\" Youth \") elif age >= 20\n",
    "        # print(\" Teen \") elif age >= 10\n",
    "        # print (\"Kid:\")\n",
    "        age = eval(input(\"Enter Age\"))\n",
    "        if age >= 60:print(\" Seniour Citizen\")\n",
    "        elif age >= 45:print(\" Upper middle age \")\n",
    "        elif age >= 30:print(\" middle age \")\n",
    "        elif age >= 20:print(\" Youth \")\n",
    "        elif age >= 10:print(\" Teen \")\n",
    "        else:print (\"Kid:\")\n",
    "    # Short hand can only be used if you have only 1 statement, you cannt use for multilpe lines\n",
    "elif gender.lower() == 'female':\n",
    "        age = eval(input(\"Enter Age\"))\n",
    "        if age >= 60:print(\" Seniour Citizen\")\n",
    "        elif age >= 45:print(\" Upper middle age \")\n",
    "        elif age >= 30:print(\" middle age \")\n",
    "        elif age >= 20:print(\" Youth \")\n",
    "        elif age >= 10:print(\" Teen \")\n",
    "        else:print (\"Kid:\")\n",
    "else:\n",
    "    print(\"Type a valid gender\")"
   ]
  }
 ],
 "metadata": {
  "kernelspec": {
   "display_name": "Python 3 (ipykernel)",
   "language": "python",
   "name": "python3"
  },
  "language_info": {
   "codemirror_mode": {
    "name": "ipython",
    "version": 3
   },
   "file_extension": ".py",
   "mimetype": "text/x-python",
   "name": "python",
   "nbconvert_exporter": "python",
   "pygments_lexer": "ipython3",
   "version": "3.12.4"
  }
 },
 "nbformat": 4,
 "nbformat_minor": 5
}
