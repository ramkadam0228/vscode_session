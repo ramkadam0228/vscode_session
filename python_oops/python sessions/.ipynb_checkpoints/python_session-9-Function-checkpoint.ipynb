{
 "cells": [
  {
   "cell_type": "markdown",
   "id": "212e8000-4391-4347-9aa6-d1a7a28e1316",
   "metadata": {},
   "source": [
    "## Function "
   ]
  },
  {
   "cell_type": "code",
   "execution_count": 10,
   "id": "e73946ca-9d6b-4c68-89d2-2f7b725054c0",
   "metadata": {},
   "outputs": [
    {
     "name": "stdin",
     "output_type": "stream",
     "text": [
      "Num1: 3\n",
      "Num2: 2\n"
     ]
    },
    {
     "name": "stdout",
     "output_type": "stream",
     "text": [
      "Addition of 3 and 2 is 1\n"
     ]
    }
   ],
   "source": [
    "#def <write function name>():\n",
    "def substraction():\n",
    "    num1=eval(input('Num1:'))\n",
    "    num2=eval(input('Num2:'))\n",
    "    sub=num1 - num2\n",
    "    print(f\"Addition of {num1} and {num2} is {sub}\")\n",
    "\n",
    "substraction()"
   ]
  },
  {
   "cell_type": "code",
   "execution_count": null,
   "id": "8257053b-7e2b-4587-abb9-e25a7750a4f3",
   "metadata": {},
   "outputs": [],
   "source": []
  },
  {
   "cell_type": "code",
   "execution_count": 12,
   "id": "25cac7d3-1cdd-41b2-97cb-5034ec95cdf7",
   "metadata": {},
   "outputs": [
    {
     "name": "stdout",
     "output_type": "stream",
     "text": [
      "Addition of 3 and 2 is 1\n"
     ]
    }
   ],
   "source": [
    "def substraction(num1, num2):\n",
    "    # num1=eval(input('Num1:'))\n",
    "    # num2=eval(input('Num2:'))\n",
    "    sub=num1 - num2\n",
    "    print(f\"Addition of {num1} and {num2} is {sub}\")\n",
    "\n",
    "substraction(3,2)"
   ]
  },
  {
   "cell_type": "code",
   "execution_count": 16,
   "id": "24195cc3-0e4c-406a-ba86-a21501a758b9",
   "metadata": {},
   "outputs": [
    {
     "name": "stdin",
     "output_type": "stream",
     "text": [
      "Enter first Number 12\n",
      "Enter Second Number 12\n",
      "Enter Operation [1 for Add], [2 for Sub], [3 for mul], [4 for div] 1\n"
     ]
    },
    {
     "name": "stdout",
     "output_type": "stream",
     "text": [
      "Addition of 12 and 12 is 24\n"
     ]
    }
   ],
   "source": [
    "import time\n",
    "def calculator():\n",
    "    num1 = eval(input(\"Enter first Number\"))\n",
    "    num2 = eval(input(\"Enter Second Number\"))\n",
    "    Operation = eval(input(\"Enter Operation [1 for Add], [2 for Sub], [3 for mul], [4 for div]\"))\n",
    "    time.sleep(2)\n",
    "    if Operation ==1:\n",
    "        add = num1+num2\n",
    "        print(f\"Addition of {num1} and {num2} is {add}\")\n",
    "    elif Operation ==2:\n",
    "        try:\n",
    "            if num1>= num2:\n",
    "                sub = num1-num2\n",
    "                print(f\"Substraction of {num1} and {num2} is {sub}\")\n",
    "            else:\n",
    "                sub=num2-num1\n",
    "                print(f\"Substraction of {num1} and {num2} is {sub}\")\n",
    "        except:\n",
    "            print(\"SOmething is wrong\")\n",
    "    elif Operation ==3:\n",
    "        mul = num1 * num2\n",
    "        print(f\"Multiplication of {num1} and {num2} is {mul}\")\n",
    "    elif Operation ==4:\n",
    "        try:\n",
    "            div = num1/num2\n",
    "            print(f\"Division of {num1} and {num2} is {div}\")    \n",
    "        # else:\n",
    "        #     print(\"Else part of try catch\")\n",
    "        except:\n",
    "            print(\"Num2 is Zero, divide by zero\")\n",
    "        else:\n",
    "           print(\"Else part of try catch\")\n",
    "        finally:\n",
    "            print(\"Out of try catch block\")\n",
    "\n",
    "\n",
    "calculator()        "
   ]
  },
  {
   "cell_type": "code",
   "execution_count": 18,
   "id": "e6f77c29-aced-4e7d-b3a9-705ac6e8c5ad",
   "metadata": {},
   "outputs": [
    {
     "name": "stdout",
     "output_type": "stream",
     "text": [
      "Addition of 23 and 12 is 35\n"
     ]
    }
   ],
   "source": [
    "import time\n",
    "def calculator(num1, num2, Operation):\n",
    "    # num1 = eval(input(\"Enter first Number\"))\n",
    "    # num2 = eval(input(\"Enter Second Number\"))\n",
    "    # Operation = eval(input(\"Enter Operation [1 for Add], [2 for Sub], [3 for mul], [4 for div]\"))\n",
    "    # time.sleep(2)\n",
    "    if Operation ==1:\n",
    "        add = num1+num2\n",
    "        print(f\"Addition of {num1} and {num2} is {add}\")\n",
    "    elif Operation ==2:\n",
    "        try:\n",
    "            if num1>= num2:\n",
    "                sub = num1-num2\n",
    "                print(f\"Substraction of {num1} and {num2} is {sub}\")\n",
    "            else:\n",
    "                sub=num2-num1\n",
    "                print(f\"Substraction of {num1} and {num2} is {sub}\")\n",
    "        except:\n",
    "            print(\"SOmething is wrong\")\n",
    "    elif Operation ==3:\n",
    "        mul = num1 * num2\n",
    "        print(f\"Multiplication of {num1} and {num2} is {mul}\")\n",
    "    elif Operation ==4:\n",
    "        try:\n",
    "            div = num1/num2\n",
    "            print(f\"Division of {num1} and {num2} is {div}\")    \n",
    "        # else:\n",
    "        #     print(\"Else part of try catch\")\n",
    "        except:\n",
    "            print(\"Num2 is Zero, divide by zero\")\n",
    "        else:\n",
    "           print(\"Else part of try catch\")\n",
    "        finally:\n",
    "            print(\"Out of try catch block\")\n",
    "\n",
    "\n",
    "calculator(23,12,1)        "
   ]
  },
  {
   "cell_type": "code",
   "execution_count": 36,
   "id": "00a7f8cb-5d78-42a5-8ee0-f3580fabd09b",
   "metadata": {},
   "outputs": [
    {
     "ename": "SyntaxError",
     "evalue": "invalid syntax (2296668560.py, line 8)",
     "output_type": "error",
     "traceback": [
      "\u001b[1;36m  Cell \u001b[1;32mIn[36], line 8\u001b[1;36m\u001b[0m\n\u001b[1;33m    retun avg\u001b[0m\n\u001b[1;37m          ^\u001b[0m\n\u001b[1;31mSyntaxError\u001b[0m\u001b[1;31m:\u001b[0m invalid syntax\n"
     ]
    }
   ],
   "source": [
    "def average():\n",
    "    n1=eval(input(\"Enter number 1:\"))\n",
    "    n2=eval(input(\"Enter number 2:\"))\n",
    "    n3=eval(input(\"Enter number 3:\"))\n",
    "    sum = n1+n2+n3\n",
    "    avg= round(sum/3,2)\n",
    "    print(f\"The Average of {n1} , {n2}, {n3} is {avg}\")\n",
    "    # retun avg\n",
    "\n",
    "fl = average()\n",
    "print(f1)\n",
    "    \n",
    "    "
   ]
  },
  {
   "cell_type": "code",
   "execution_count": 32,
   "id": "c2e893db-4bf2-4355-a2ec-d5139acb38d0",
   "metadata": {},
   "outputs": [
    {
     "name": "stdout",
     "output_type": "stream",
     "text": [
      "Addition of 23 and 12 is 35\n"
     ]
    },
    {
     "name": "stdin",
     "output_type": "stream",
     "text": [
      "Enter number 1: 90\n",
      "Enter number 2: 89\n",
      "Enter number 3: 99\n"
     ]
    },
    {
     "name": "stdout",
     "output_type": "stream",
     "text": [
      "The Average of 90 , 89, 99 is 92.67\n"
     ]
    }
   ],
   "source": [
    "\n",
    "# calculator()    \n",
    "calculator(23,12,1)   \n",
    "average()"
   ]
  },
  {
   "cell_type": "code",
   "execution_count": 44,
   "id": "205d1bf5-5e62-4be7-b534-08309e362c42",
   "metadata": {},
   "outputs": [
    {
     "name": "stdout",
     "output_type": "stream",
     "text": [
      "46\n"
     ]
    }
   ],
   "source": [
    "def add(n1, n2):\n",
    "    add= n1+n2\n",
    "    print(add)\n",
    "add(12,34)"
   ]
  },
  {
   "cell_type": "code",
   "execution_count": 48,
   "id": "17a186c2-8916-4cb0-a0dd-7dc936493e58",
   "metadata": {},
   "outputs": [
    {
     "name": "stdout",
     "output_type": "stream",
     "text": [
      "512\n"
     ]
    }
   ],
   "source": [
    "global n2=500\n",
    "def add(n1):\n",
    "    add= n1+n2\n",
    "    print(add)\n",
    "add(12)"
   ]
  },
  {
   "cell_type": "code",
   "execution_count": 56,
   "id": "d03ef61a-72f6-4211-9921-cd30e12fdfdb",
   "metadata": {},
   "outputs": [
    {
     "name": "stdout",
     "output_type": "stream",
     "text": [
      "70\n"
     ]
    }
   ],
   "source": [
    "# Default paramerter\n",
    "n3=80\n",
    "def sum(n1,n2,n3=300):\n",
    "    add=n1+n2+n3\n",
    "    print(add)\n",
    "\n",
    "sum(10,20,40)\n"
   ]
  },
  {
   "cell_type": "code",
   "execution_count": 58,
   "id": "c8193745-5ca4-45e9-9b3e-0f9672f30f2b",
   "metadata": {},
   "outputs": [
    {
     "name": "stdout",
     "output_type": "stream",
     "text": [
      "============ area of traingle functions starts ==================\n"
     ]
    },
    {
     "name": "stdin",
     "output_type": "stream",
     "text": [
      "enter the breadth: 90\n",
      "enter the height: 90\n"
     ]
    },
    {
     "name": "stdout",
     "output_type": "stream",
     "text": [
      "The area of trainagle is: 4050.0\n"
     ]
    }
   ],
   "source": [
    "# Function with out arguments and global variable\n",
    "# Function with arguments and Global variable \n",
    "# Function with out arguments and local variable\n",
    "# Function with arguments and local variable\n",
    " \n",
    "def area_of_traingle():\n",
    "    print(\"============ area of traingle functions starts ==================\")\n",
    "    breadth=eval(input(\"enter the breadth:\"))\n",
    "    height=eval(input(\"enter the height:\"))\n",
    "    area=0.5*breadth*height\n",
    "    print(f\"The area of trainagle is: {area}\")\n",
    "\n",
    "area_of_traingle()"
   ]
  },
  {
   "cell_type": "code",
   "execution_count": 62,
   "id": "677e0038-91dd-447b-9dad-5f714ea0cd6f",
   "metadata": {},
   "outputs": [
    {
     "name": "stdout",
     "output_type": "stream",
     "text": [
      "100\n"
     ]
    }
   ],
   "source": [
    "s =100\n",
    "def sum1():\n",
    "    k=s+200\n",
    "    print(s)\n",
    "\n",
    "sum1()"
   ]
  },
  {
   "cell_type": "code",
   "execution_count": 82,
   "id": "bd5e83f1-55e9-42f3-af69-d0efccd4543c",
   "metadata": {},
   "outputs": [
    {
     "data": {
      "text/plain": [
       "200"
      ]
     },
     "execution_count": 82,
     "metadata": {},
     "output_type": "execute_result"
    }
   ],
   "source": [
    "g=100\n",
    "def loc():\n",
    "    global g \n",
    "    g = 200\n",
    "    return g\n",
    "\n",
    "loc()"
   ]
  },
  {
   "cell_type": "code",
   "execution_count": 88,
   "id": "0c98d2a1-060c-423d-bded-47d5e1b3d001",
   "metadata": {},
   "outputs": [
    {
     "name": "stdout",
     "output_type": "stream",
     "text": [
      "pune\n",
      "pune\n"
     ]
    }
   ],
   "source": [
    "def example():\n",
    "    global city\n",
    "    city='pune'\n",
    "    print (city)\n",
    "    return city\n",
    "   \n",
    "\n",
    "NAME=example()\n",
    "print(NAME)"
   ]
  },
  {
   "cell_type": "code",
   "execution_count": 92,
   "id": "bd84df4a-59ce-49df-b6b2-93235cc35cfe",
   "metadata": {},
   "outputs": [
    {
     "name": "stdout",
     "output_type": "stream",
     "text": [
      "(20, 'pune')\n"
     ]
    }
   ],
   "source": [
    "def args(*args):\n",
    "    print(args)\n",
    "\n",
    "args(20,'pune')\n"
   ]
  }
 ],
 "metadata": {
  "kernelspec": {
   "display_name": "Python 3 (ipykernel)",
   "language": "python",
   "name": "python3"
  },
  "language_info": {
   "codemirror_mode": {
    "name": "ipython",
    "version": 3
   },
   "file_extension": ".py",
   "mimetype": "text/x-python",
   "name": "python",
   "nbconvert_exporter": "python",
   "pygments_lexer": "ipython3",
   "version": "3.12.4"
  }
 },
 "nbformat": 4,
 "nbformat_minor": 5
}
