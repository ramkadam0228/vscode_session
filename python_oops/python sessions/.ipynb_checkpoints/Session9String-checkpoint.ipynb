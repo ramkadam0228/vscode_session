{
 "cells": [
  {
   "cell_type": "code",
   "execution_count": 7,
   "id": "03dab23e-306b-4d29-acc2-cfea451d2dd6",
   "metadata": {},
   "outputs": [
    {
     "name": "stdout",
     "output_type": "stream",
     "text": [
      "15\n"
     ]
    }
   ],
   "source": [
    "str1= 'hai how are you'\n",
    "print(len(str1))\n",
    "\n",
    "from random import randint\n",
    "          \n"
   ]
  },
  {
   "cell_type": "code",
   "execution_count": 21,
   "id": "2df9bc5c-0880-41da-ac61-30293f7aa845",
   "metadata": {},
   "outputs": [
    {
     "data": {
      "text/plain": [
       "'y'"
      ]
     },
     "execution_count": 21,
     "metadata": {},
     "output_type": "execute_result"
    }
   ],
   "source": [
    "str2='apple'\n",
    "ord('a')  \n",
    "# ABove gives number position of small a i.e. 97\n",
    "\n",
    "chr(97)\n",
    "# Above gives char value of ASC II\n",
    "# i.e. a\n",
    "\n",
    "str3='python123'\n",
    "min(str3)\n",
    "max(str3)"
   ]
  },
  {
   "cell_type": "code",
   "execution_count": 43,
   "id": "eca17398-0f35-4352-af76-674da8e42960",
   "metadata": {},
   "outputs": [
    {
     "data": {
      "text/plain": [
       "'Hellopython'"
      ]
     },
     "execution_count": 43,
     "metadata": {},
     "output_type": "execute_result"
    }
   ],
   "source": [
    "h = 'Hello'\n",
    "p = 'python'\n",
    "h+p"
   ]
  },
  {
   "cell_type": "code",
   "execution_count": 65,
   "id": "fafc5298-c1bd-408c-a652-ad911f1a9537",
   "metadata": {},
   "outputs": [
    {
     "data": {
      "text/plain": [
       "'HellopythonHellopythonHellopython'"
      ]
     },
     "execution_count": 65,
     "metadata": {},
     "output_type": "execute_result"
    }
   ],
   "source": [
    "(h+p) *3"
   ]
  },
  {
   "cell_type": "code",
   "execution_count": 135,
   "id": "e543f002-0a53-4855-949b-cf944d9b6ce9",
   "metadata": {},
   "outputs": [
    {
     "name": "stdout",
     "output_type": "stream",
     "text": [
      "python\n",
      "-6 p\n",
      "-5 y\n",
      "-4 t\n",
      "-3 h\n",
      "-2 o\n",
      "-1 n\n"
     ]
    }
   ],
   "source": [
    "# a=h+p\n",
    "print(p)\n",
    "for i in range(-len(p),0):\n",
    "    print(i, p[i])\n"
   ]
  },
  {
   "cell_type": "code",
   "execution_count": 137,
   "id": "47d73b63-ed90-4247-a28b-cdaf20c84e9b",
   "metadata": {},
   "outputs": [
    {
     "name": "stdout",
     "output_type": "stream",
     "text": [
      "s -6\n",
      "h -5\n",
      "r -4\n",
      "e -3\n",
      "y -2\n",
      "a -1\n"
     ]
    }
   ],
   "source": [
    "s = 'shreya'\n",
    "for i in range((-len(s)),0):\n",
    "    print(s[i], i)\n",
    "    "
   ]
  },
  {
   "cell_type": "code",
   "execution_count": 147,
   "id": "0156dbaa-8f76-419d-944b-89becbc27066",
   "metadata": {},
   "outputs": [
    {
     "name": "stdout",
     "output_type": "stream",
     "text": [
      "Index of a is 1\n",
      "Total occurance of a is 1\n",
      "Index of a is 8\n",
      "Total occurance of a is 2\n"
     ]
    }
   ],
   "source": [
    "str='hai how are you'\n",
    "sum=0\n",
    "for i in range(len(str)):\n",
    "    if str[i]=='a':\n",
    "        sum = sum+1\n",
    "        print(f\"Index of a is {i}\")\n",
    "        print(f\"Total occurance of a is {sum}\")\n",
    "    \n",
    "    "
   ]
  },
  {
   "cell_type": "code",
   "execution_count": 159,
   "id": "08d3be8a-453b-4e9c-9648-b43b8a9187fc",
   "metadata": {},
   "outputs": [
    {
     "name": "stdout",
     "output_type": "stream",
     "text": [
      "Total occurance of h is 2\n",
      "Total occurance of a is 2\n",
      "Total occurance of i is 1\n",
      "Total occurance of   is 3\n",
      "Total occurance of h is 2\n",
      "Total occurance of o is 2\n",
      "Total occurance of w is 1\n",
      "Total occurance of   is 3\n",
      "Total occurance of a is 2\n",
      "Total occurance of r is 1\n",
      "Total occurance of e is 1\n",
      "Total occurance of   is 3\n",
      "Total occurance of y is 1\n",
      "Total occurance of o is 2\n",
      "Total occurance of u is 1\n"
     ]
    }
   ],
   "source": [
    "str='hai how are you'\n",
    "\n",
    "for i in range(len(str)):\n",
    "    sum=0\n",
    "    for j in range (len(str)):\n",
    "        if str[i]==str[j]:\n",
    "            sum = sum+1\n",
    "            # print(f\"Index of a is {i}\")\n",
    "    print(f\"Total occurance of {str[i]} is {sum}\")"
   ]
  },
  {
   "cell_type": "code",
   "execution_count": 163,
   "id": "844b9df2-842d-460f-ac4e-93bb13f2aa53",
   "metadata": {},
   "outputs": [
    {
     "name": "stdout",
     "output_type": "stream",
     "text": [
      "Index of a is 1\n",
      "Sum of indexes of 'a' is 1\n",
      "Index of a is 8\n",
      "Sum of indexes of 'a' is 9\n"
     ]
    }
   ],
   "source": [
    "str='hai how are you'\n",
    "sum=0\n",
    "for i in range(len(str)):\n",
    "        \n",
    "        if str[i]=='a':\n",
    "            \n",
    "            print(f\"Index of a is {i}\")\n",
    "            sum = sum + i\n",
    "            print(f\"Sum of indexes of 'a' is {sum}\")\n",
    "            \n",
    "    "
   ]
  },
  {
   "cell_type": "code",
   "execution_count": 169,
   "id": "7e88f336-a464-40dd-a1f1-86be87c23683",
   "metadata": {},
   "outputs": [
    {
     "name": "stdout",
     "output_type": "stream",
     "text": [
      "a\n",
      "a\n",
      "i\n",
      "o\n",
      "a\n",
      "e\n",
      "o\n",
      "u\n",
      "7\n"
     ]
    }
   ],
   "source": [
    "str = 'Hai how are you'\n",
    "count=0\n",
    "s=''\n",
    "for i in str:\n",
    "    if i in 'aeiou':\n",
    "        print(i)\n",
    "        count=count+1\n",
    "        if count<2:\n",
    "            s=s+i\n",
    "            print(s)\n",
    "print(count)        "
   ]
  },
  {
   "cell_type": "code",
   "execution_count": 191,
   "id": "5246891c-1cb0-4f99-8fd9-20cc21498030",
   "metadata": {},
   "outputs": [
    {
     "data": {
      "text/plain": [
       "'python'"
      ]
     },
     "execution_count": 191,
     "metadata": {},
     "output_type": "execute_result"
    }
   ],
   "source": [
    "p = 'python'\n",
    "# str[start:stop:step]\n",
    "p[0:9:1]"
   ]
  },
  {
   "cell_type": "code",
   "execution_count": 213,
   "id": "a8fc76c6-88bf-48ad-ac46-d6574476bb55",
   "metadata": {},
   "outputs": [
    {
     "data": {
      "text/plain": [
       "'nohtyp'"
      ]
     },
     "execution_count": 213,
     "metadata": {},
     "output_type": "execute_result"
    }
   ],
   "source": [
    "# str[start: stop: step]\n",
    "p[::]\n",
    "p[1:9:2]\n",
    "p[9:0:-1]\n",
    "p[::-1]\n"
   ]
  },
  {
   "cell_type": "code",
   "execution_count": 41,
   "id": "09099334-f090-4885-b234-3f0a68a8e13b",
   "metadata": {},
   "outputs": [
    {
     "name": "stdout",
     "output_type": "stream",
     "text": [
      "<reversed object at 0x000002B4E5F22920>\n",
      "m\n",
      "a\n",
      "r\n"
     ]
    }
   ],
   "source": [
    "sorted('python')\n",
    "sorted('python',reverse=True)\n",
    "print(reversed('ram'))\n",
    "\n",
    "for i in reversed('ram'):\n",
    "    print(i)\n",
    "\n",
    "output=list(reversed('hello'))"
   ]
  },
  {
   "cell_type": "code",
   "execution_count": 223,
   "id": "e12c268b-0fd1-4d99-9667-54400d69533d",
   "metadata": {},
   "outputs": [
    {
     "ename": "TypeError",
     "evalue": "string indices must be integers, not 'str'",
     "output_type": "error",
     "traceback": [
      "\u001b[1;31m---------------------------------------------------------------------------\u001b[0m",
      "\u001b[1;31mTypeError\u001b[0m                                 Traceback (most recent call last)",
      "Cell \u001b[1;32mIn[223], line 3\u001b[0m\n\u001b[0;32m      1\u001b[0m str5\u001b[38;5;241m=\u001b[39m\u001b[38;5;124m'\u001b[39m\u001b[38;5;124mwelcome\u001b[39m\u001b[38;5;124m'\u001b[39m\n\u001b[0;32m      2\u001b[0m \u001b[38;5;28;01mfor\u001b[39;00m i \u001b[38;5;129;01min\u001b[39;00m str5:\n\u001b[1;32m----> 3\u001b[0m     \u001b[38;5;28;01mif\u001b[39;00m str5[i]\u001b[38;5;241m==\u001b[39m\u001b[38;5;124m'\u001b[39m\u001b[38;5;124ml\u001b[39m\u001b[38;5;124m'\u001b[39m:\n\u001b[0;32m      4\u001b[0m         str5[i]\u001b[38;5;241m=\u001b[39m\u001b[38;5;124m'\u001b[39m\u001b[38;5;124mL\u001b[39m\u001b[38;5;124m'\u001b[39m\n\u001b[0;32m      5\u001b[0m     \u001b[38;5;28mprint\u001b[39m(i)\n",
      "\u001b[1;31mTypeError\u001b[0m: string indices must be integers, not 'str'"
     ]
    }
   ],
   "source": [
    "str5='welcome'\n",
    "for i in str5:\n",
    "    if str5[i]=='l':\n",
    "        str5[i]='L'\n",
    "    print(i)\n",
    "    # STrings are immutable"
   ]
  },
  {
   "cell_type": "code",
   "execution_count": 225,
   "id": "8ff812f6-184a-4146-948c-877597f62b0a",
   "metadata": {},
   "outputs": [
    {
     "data": {
      "text/plain": [
       "['__add__',\n",
       " '__class__',\n",
       " '__contains__',\n",
       " '__delattr__',\n",
       " '__dir__',\n",
       " '__doc__',\n",
       " '__eq__',\n",
       " '__format__',\n",
       " '__ge__',\n",
       " '__getattribute__',\n",
       " '__getitem__',\n",
       " '__getnewargs__',\n",
       " '__getstate__',\n",
       " '__gt__',\n",
       " '__hash__',\n",
       " '__init__',\n",
       " '__init_subclass__',\n",
       " '__iter__',\n",
       " '__le__',\n",
       " '__len__',\n",
       " '__lt__',\n",
       " '__mod__',\n",
       " '__mul__',\n",
       " '__ne__',\n",
       " '__new__',\n",
       " '__reduce__',\n",
       " '__reduce_ex__',\n",
       " '__repr__',\n",
       " '__rmod__',\n",
       " '__rmul__',\n",
       " '__setattr__',\n",
       " '__sizeof__',\n",
       " '__str__',\n",
       " '__subclasshook__',\n",
       " 'capitalize',\n",
       " 'casefold',\n",
       " 'center',\n",
       " 'count',\n",
       " 'encode',\n",
       " 'endswith',\n",
       " 'expandtabs',\n",
       " 'find',\n",
       " 'format',\n",
       " 'format_map',\n",
       " 'index',\n",
       " 'isalnum',\n",
       " 'isalpha',\n",
       " 'isascii',\n",
       " 'isdecimal',\n",
       " 'isdigit',\n",
       " 'isidentifier',\n",
       " 'islower',\n",
       " 'isnumeric',\n",
       " 'isprintable',\n",
       " 'isspace',\n",
       " 'istitle',\n",
       " 'isupper',\n",
       " 'join',\n",
       " 'ljust',\n",
       " 'lower',\n",
       " 'lstrip',\n",
       " 'maketrans',\n",
       " 'partition',\n",
       " 'removeprefix',\n",
       " 'removesuffix',\n",
       " 'replace',\n",
       " 'rfind',\n",
       " 'rindex',\n",
       " 'rjust',\n",
       " 'rpartition',\n",
       " 'rsplit',\n",
       " 'rstrip',\n",
       " 'split',\n",
       " 'splitlines',\n",
       " 'startswith',\n",
       " 'strip',\n",
       " 'swapcase',\n",
       " 'title',\n",
       " 'translate',\n",
       " 'upper',\n",
       " 'zfill']"
      ]
     },
     "execution_count": 225,
     "metadata": {},
     "output_type": "execute_result"
    }
   ],
   "source": [
    "dir(a)"
   ]
  },
  {
   "cell_type": "code",
   "execution_count": 261,
   "id": "ea7a3e1c-0525-4baa-826b-081925b22cf4",
   "metadata": {},
   "outputs": [
    {
     "data": {
      "text/plain": [
       "'Welcome'"
      ]
     },
     "execution_count": 261,
     "metadata": {},
     "output_type": "execute_result"
    }
   ],
   "source": [
    "str='welcome'\n",
    "str.upper()\n",
    "str.lower()\n",
    "str.center(13,'*')\n",
    "str.casefold()\n",
    "str.capitalize()\n",
    "str.title()"
   ]
  },
  {
   "cell_type": "code",
   "execution_count": 269,
   "id": "9b8295ad-1e50-41a6-a2bd-db96b1498b50",
   "metadata": {},
   "outputs": [
    {
     "data": {
      "text/plain": [
       "2"
      ]
     },
     "execution_count": 269,
     "metadata": {},
     "output_type": "execute_result"
    }
   ],
   "source": [
    "str11='hai how are you a'\n",
    "str11.count('a')\n",
    "str11.count('a',3)\n",
    "str11.count('a',3,1100)"
   ]
  },
  {
   "cell_type": "code",
   "execution_count": 307,
   "id": "a641e2f1-fb1c-4164-aa48-9ab53cae01f1",
   "metadata": {},
   "outputs": [
    {
     "name": "stdout",
     "output_type": "stream",
     "text": [
      "8\n",
      "16\n"
     ]
    },
    {
     "ename": "ValueError",
     "evalue": "substring not found",
     "output_type": "error",
     "traceback": [
      "\u001b[1;31m---------------------------------------------------------------------------\u001b[0m",
      "\u001b[1;31mValueError\u001b[0m                                Traceback (most recent call last)",
      "Cell \u001b[1;32mIn[307], line 9\u001b[0m\n\u001b[0;32m      7\u001b[0m i3\u001b[38;5;241m=\u001b[39mstr11\u001b[38;5;241m.\u001b[39mindex(\u001b[38;5;124m'\u001b[39m\u001b[38;5;124ma\u001b[39m\u001b[38;5;124m'\u001b[39m,i2\u001b[38;5;241m+\u001b[39m\u001b[38;5;241m1\u001b[39m)\n\u001b[0;32m      8\u001b[0m \u001b[38;5;28mprint\u001b[39m(i3)\n\u001b[1;32m----> 9\u001b[0m i4\u001b[38;5;241m=\u001b[39mstr11\u001b[38;5;241m.\u001b[39mindex(\u001b[38;5;124m'\u001b[39m\u001b[38;5;124ma\u001b[39m\u001b[38;5;124m'\u001b[39m,i3\u001b[38;5;241m+\u001b[39m\u001b[38;5;241m1\u001b[39m)\n\u001b[0;32m     10\u001b[0m \u001b[38;5;28mprint\u001b[39m(i4)\n",
      "\u001b[1;31mValueError\u001b[0m: substring not found"
     ]
    }
   ],
   "source": [
    "str11.index('y')\n",
    "str11.find('a',9,20)\n",
    "str11.index('a', 9)\n",
    "i1=str11.index('a')\n",
    "i2=str11.index('a',i1+1)\n",
    "print(i2)\n",
    "i3=str11.index('a',i2+1)\n",
    "print(i3)\n",
    "\n"
   ]
  },
  {
   "cell_type": "code",
   "execution_count": 313,
   "id": "eca7a11d-26b0-4d1f-b4a0-cf3365753bc9",
   "metadata": {},
   "outputs": [
    {
     "name": "stdout",
     "output_type": "stream",
     "text": [
      "1\n",
      "8\n",
      "16\n",
      "-1\n"
     ]
    }
   ],
   "source": [
    "i1=str11.find('a')\n",
    "print(i1)\n",
    "i2=str11.find('a',i1+1)\n",
    "print(i2)\n",
    "i3=str11.find('a',i2+1)\n",
    "print(i3)\n",
    "i4=str11.find('a',i3+1)\n",
    "print(i4)"
   ]
  },
  {
   "cell_type": "code",
   "execution_count": 341,
   "id": "c018ed77-5f44-44a0-b888-1df4d09c2633",
   "metadata": {},
   "outputs": [
    {
     "name": "stdout",
     "output_type": "stream",
     "text": [
      "15\n",
      "rohit sharma mi\n",
      "25\n",
      "omkar nallagoni cognizant\n"
     ]
    }
   ],
   "source": [
    "str1='virat.kohli@rcb.com'\n",
    "str2='rohit.sharma@mi.com'\n",
    "str3='omkar.nallagoni@cognizant.com'\n",
    "def names(str1):\n",
    "    str11=str1.index('.')\n",
    "    str12=str1.index('@')\n",
    "    str13=str1.index('.',str11+1)\n",
    "    print(str13)\n",
    "    fnamestr1=str1[0:str11]\n",
    "    # print(fnamestr1)\n",
    "    lnamestr1=str1[str11+1:str12]\n",
    "    # print(lnamestr1)\n",
    "    cName=str1[str12+1:str13]\n",
    "    print(fnamestr1,lnamestr1, cName)\n",
    "\n",
    "names('rohit.sharma@mi.com')\n",
    "names('omkar.nallagoni@cognizant.com')"
   ]
  },
  {
   "cell_type": "code",
   "execution_count": 363,
   "id": "1cbeada4-b37d-4910-ae40-9c4a9b38938e",
   "metadata": {},
   "outputs": [
    {
     "data": {
      "text/plain": [
       "'gmail.com'"
      ]
     },
     "execution_count": 363,
     "metadata": {},
     "output_type": "execute_result"
    }
   ],
   "source": [
    "str1 = ' hellow'\n",
    "str2= 'python '\n",
    "str3= ' ram '\n",
    "str4='***gmail.com&&&'\n",
    "str1.strip()\n",
    "str2.lstrip()\n",
    "str3.rstrip()\n",
    "str4.strip('*&')"
   ]
  },
  {
   "cell_type": "code",
   "execution_count": 377,
   "id": "13e1f95f-6c3a-44d2-b6c5-0a34b59297b5",
   "metadata": {},
   "outputs": [
    {
     "data": {
      "text/plain": [
       "'welcome Lower'"
      ]
     },
     "execution_count": 377,
     "metadata": {},
     "output_type": "execute_result"
    }
   ],
   "source": [
    "str='welcome'\n",
    "# str.replace('l','L')\n",
    "# str.replace('e','E',-1)\n",
    "str1='welcome lower'\n",
    "first_l=str1.index('l')\n",
    "second_l=str1.index('l', 1+first_l )\n",
    "sen1=str1[:second_l]\n",
    "sen2=str1[second_l:]\n",
    "sen3=sen2.replace('l','L')\n",
    "sen1 + sen3\n",
    "\n",
    "\n"
   ]
  },
  {
   "cell_type": "code",
   "execution_count": 413,
   "id": "62e7cf03-4106-499a-bbfe-41d6f8997f6a",
   "metadata": {},
   "outputs": [
    {
     "data": {
      "text/plain": [
       "['hellow', 'how', 'are', 'you']"
      ]
     },
     "execution_count": 413,
     "metadata": {},
     "output_type": "execute_result"
    }
   ],
   "source": [
    "str='welcome'\n",
    "str1.replace('z','Z')  \n",
    "# Gives original string\n",
    "str1.count('z')  \n",
    "# Gives zero\n",
    "# str1.index('z')\n",
    "# String not found\n",
    "str1.find('z')\n",
    "# Gives -1 as output\n",
    "\n",
    "str12='hellow how are you'\n",
    "str12.startswith('h')\n",
    "str12.endswith('u')\n",
    "str12.endswith(str12)\n",
    "str12.startswith(str12)\n",
    "str12.split()\n",
    "str12='hellow,how,are,you'\n",
    "str12.split(',', maxsplit=-1)"
   ]
  }
 ],
 "metadata": {
  "kernelspec": {
   "display_name": "Python 3 (ipykernel)",
   "language": "python",
   "name": "python3"
  },
  "language_info": {
   "codemirror_mode": {
    "name": "ipython",
    "version": 3
   },
   "file_extension": ".py",
   "mimetype": "text/x-python",
   "name": "python",
   "nbconvert_exporter": "python",
   "pygments_lexer": "ipython3",
   "version": "3.12.4"
  }
 },
 "nbformat": 4,
 "nbformat_minor": 5
}
