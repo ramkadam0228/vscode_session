{
 "cells": [
  {
   "cell_type": "code",
   "execution_count": 3,
   "id": "3b61e96b-8bdd-4774-b872-c28dc0949fe4",
   "metadata": {},
   "outputs": [
    {
     "data": {
      "text/plain": [
       "{'apple': 110, 'banana': 99, 'cherry': 88}"
      ]
     },
     "execution_count": 3,
     "metadata": {},
     "output_type": "execute_result"
    }
   ],
   "source": [
    "dict1={'apple':100,'banana':90,'cherry':80}\n",
    "# we are increasin the price of fruites 10%\n",
    "dict2={}\n",
    "for key,value in dict1.items():\n",
    "    dict2[key]=round(value*1.1)\n",
    "dict2\n",
    "###########################################################\n",
    "# dict3={key:round(value*1.1) for key,value in dict1.items()}"
   ]
  },
  {
   "cell_type": "code",
   "execution_count": 5,
   "id": "6d2ad6a9-a9c7-41b8-bedc-763d18cf8184",
   "metadata": {},
   "outputs": [
    {
     "data": {
      "text/plain": [
       "{'apple': 220.00000000000003,\n",
       " 'banana': 220.00000000000003,\n",
       " 'cherry': 220.00000000000003}"
      ]
     },
     "execution_count": 5,
     "metadata": {},
     "output_type": "execute_result"
    }
   ],
   "source": [
    "dict3={key:(lambda value:value*1.1)(200) for key,value in dict1.items()}\n",
    "dict3"
   ]
  }
 ],
 "metadata": {
  "kernelspec": {
   "display_name": "Python 3 (ipykernel)",
   "language": "python",
   "name": "python3"
  },
  "language_info": {
   "codemirror_mode": {
    "name": "ipython",
    "version": 3
   },
   "file_extension": ".py",
   "mimetype": "text/x-python",
   "name": "python",
   "nbconvert_exporter": "python",
   "pygments_lexer": "ipython3",
   "version": "3.12.4"
  }
 },
 "nbformat": 4,
 "nbformat_minor": 5
}
