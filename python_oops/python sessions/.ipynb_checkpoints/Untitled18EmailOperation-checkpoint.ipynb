{
 "cells": [
  {
   "cell_type": "code",
   "execution_count": 21,
   "id": "49404512-8028-43bc-8790-68872ad2e316",
   "metadata": {},
   "outputs": [
    {
     "data": {
      "text/plain": [
       "['Santhanam,', 'Jayendhran', '<jayendhran.ms@accenture.com>']"
      ]
     },
     "execution_count": 21,
     "metadata": {},
     "output_type": "execute_result"
    }
   ],
   "source": [
    "text_file=r'C:\\Users\\ramka\\Downloads\\emails.txt'\n",
    "text_file\n",
    "\n",
    "import os\n",
    "\n",
    "l=[]\n",
    "file=open(text_file, mode='r')\n",
    "data=file.read()\n",
    "# print(data)\n",
    "data.split(';')[0].split(' ')\n",
    "# l"
   ]
  },
  {
   "cell_type": "code",
   "execution_count": 45,
   "id": "f002a6a8-8319-48f2-ae82-cec18011369e",
   "metadata": {},
   "outputs": [
    {
     "data": {
      "text/plain": [
       "'Santhanam'"
      ]
     },
     "execution_count": 45,
     "metadata": {},
     "output_type": "execute_result"
    }
   ],
   "source": [
    "fname=data.split(';')[0].split(' ')[0].strip(',')"
   ]
  },
  {
   "cell_type": "code",
   "execution_count": 49,
   "id": "fba75bf3-73eb-4212-b3e2-43316ff38bb4",
   "metadata": {},
   "outputs": [
    {
     "data": {
      "text/plain": [
       "'Jayendhran'"
      ]
     },
     "execution_count": 49,
     "metadata": {},
     "output_type": "execute_result"
    }
   ],
   "source": [
    "lastname=data.split(';')[0].split(' ')[1]\n",
    "lastname"
   ]
  },
  {
   "cell_type": "code",
   "execution_count": 55,
   "id": "3b993b57-4224-40e9-bd1a-263cfd85564f",
   "metadata": {},
   "outputs": [
    {
     "data": {
      "text/plain": [
       "'jayendhran.ms@accenture.com'"
      ]
     },
     "execution_count": 55,
     "metadata": {},
     "output_type": "execute_result"
    }
   ],
   "source": [
    "email=data.split(';')[0].split(' ')[2].strip('<>')\n",
    "email"
   ]
  },
  {
   "cell_type": "code",
   "execution_count": 41,
   "id": "bf92fd58-1093-43fa-8faf-67caa87b6889",
   "metadata": {},
   "outputs": [
    {
     "data": {
      "text/plain": [
       "'accenture'"
      ]
     },
     "execution_count": 41,
     "metadata": {},
     "output_type": "execute_result"
    }
   ],
   "source": [
    "companyname=data.split(';')[0].split(' ')[2].split('@')[1].split('.')[0]\n",
    "companyname\n"
   ]
  },
  {
   "cell_type": "code",
   "execution_count": 99,
   "id": "14d0529b-9676-4e4b-a340-52509ba274be",
   "metadata": {},
   "outputs": [
    {
     "data": {
      "text/plain": [
       "('Santhanam', 'Jayendhran', 'accenture', 'jayendhran.ms@accenture.com')"
      ]
     },
     "execution_count": 99,
     "metadata": {},
     "output_type": "execute_result"
    }
   ],
   "source": [
    "# total_data=data.split(';')[1].strip(' ')\n",
    "# total_data\n",
    "# total_data=[i.strip() for i in total_data]\n",
    "   \n",
    "\n",
    "# for person in total_data:\n",
    "    \n",
    "total_data=data.split(';')[0].strip(' ')\n",
    "    # total_data\n",
    "fname=total_data.split(' ')[0].strip(',')\n",
    "lastname=total_data.split(' ')[1]\n",
    "companyname=total_data.split(' ')[2].split('@')[1].split('.')[0]\n",
    "email=total_data.split(' ')[2].strip('<>')\n",
    "fname,lastname,companyname,email"
   ]
  },
  {
   "cell_type": "code",
   "execution_count": 249,
   "id": "12fae11d-527a-458c-839d-49bb109ceb80",
   "metadata": {},
   "outputs": [],
   "source": [
    "text_file=r'C:\\Users\\ramka\\Downloads\\emails.txt'\n",
    "text_file\n",
    "\n",
    "import os\n",
    "\n",
    "l=[]\n",
    "file=open(text_file, mode='r')\n",
    "data=file.read()\n",
    "# print(data)\n",
    "one_row=data.split(';')\n",
    "l1=[]\n",
    "\n",
    "            \n",
    "for i in one_row:\n",
    "    l1.append(i.strip(' '))\n",
    "\n",
    "l1\n",
    "fname, lname, email, companyname =[],[],[],[]\n",
    "\n",
    "for i in range(len(l1)):\n",
    "    # print(i)\n",
    "    # fname=l1[i].split(',')[0]\n",
    "    fname.append(l1[i].split(',')[0])\n",
    "    # print(fname)\n",
    "    lname.append(l1[i].split(',')[1].strip(' ').split('<')[0])\n",
    "    # print(lname)\n",
    "    email.append(l1[i].split(',')[1].strip(' ').split('<')[1].strip('<>'))\n",
    "    # print(email)\n",
    "    companyname.append(l1[i].split(',')[1].strip(' ').split('<')[1].strip('<>').split('@')[1].split('.')[0])\n",
    "    # print(companyname) \n",
    "    # print(fname, lname, email, companyname)\n",
    "\n",
    "# l1\n",
    "# print(fname, lname, email, companyname)    \n",
    "\n",
    "dictionary={'firstname':fname,\n",
    "            'lastname':lname,\n",
    "            'email': email,\n",
    "            'comanyname': companyname}\n",
    "# dictionary\n",
    "import pandas as pd\n",
    "final_data=pd.DataFrame(dictionary)\n",
    "final_data.to_csv('employee.csv')\n",
    "# lname=l1[11].split(',')[1].strip(' ').split('<')[0]\n",
    "# print(lname)\n",
    "# print(l1[11])"
   ]
  }
 ],
 "metadata": {
  "kernelspec": {
   "display_name": "Python 3 (ipykernel)",
   "language": "python",
   "name": "python3"
  },
  "language_info": {
   "codemirror_mode": {
    "name": "ipython",
    "version": 3
   },
   "file_extension": ".py",
   "mimetype": "text/x-python",
   "name": "python",
   "nbconvert_exporter": "python",
   "pygments_lexer": "ipython3",
   "version": "3.12.4"
  }
 },
 "nbformat": 4,
 "nbformat_minor": 5
}
