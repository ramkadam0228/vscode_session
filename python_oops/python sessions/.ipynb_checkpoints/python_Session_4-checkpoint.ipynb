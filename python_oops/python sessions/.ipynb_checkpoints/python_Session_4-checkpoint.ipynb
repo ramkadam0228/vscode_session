{
 "cells": [
  {
   "cell_type": "markdown",
   "id": "65e61355-5abc-471a-82be-eb42aa71a8b9",
   "metadata": {},
   "source": [
    "## Type Cast\n",
    "- Change Data type\n",
    "- - int float string\n",
    "  - string list tuple"
   ]
  },
  {
   "cell_type": "code",
   "execution_count": 8,
   "id": "6b860f23-11c4-44b8-a48e-45fec2e2e86e",
   "metadata": {},
   "outputs": [
    {
     "data": {
      "text/plain": [
       "(100.0, '100', True)"
      ]
     },
     "execution_count": 8,
     "metadata": {},
     "output_type": "execute_result"
    }
   ],
   "source": [
    "num=100\n",
    "float(num), str(num), bool(num)\n",
    "#display(num)\n"
   ]
  },
  {
   "cell_type": "code",
   "execution_count": 10,
   "id": "8f8ef71f-f159-47c2-9e7b-cbf7362f0bb0",
   "metadata": {},
   "outputs": [
    {
     "data": {
      "text/plain": [
       "(0.0, '0', False)"
      ]
     },
     "execution_count": 10,
     "metadata": {},
     "output_type": "execute_result"
    }
   ],
   "source": [
    "num=0\n",
    "float(num), str(num), bool(num)\n",
    "#display(num)\n"
   ]
  },
  {
   "cell_type": "code",
   "execution_count": 12,
   "id": "4fa94410-3d79-482f-9965-99f3280c0af1",
   "metadata": {},
   "outputs": [
    {
     "data": {
      "text/plain": [
       "(-100.0, '-100', True)"
      ]
     },
     "execution_count": 12,
     "metadata": {},
     "output_type": "execute_result"
    }
   ],
   "source": [
    "num=-100\n",
    "float(num), str(num), bool(num)\n",
    "#display(num)\n"
   ]
  },
  {
   "cell_type": "code",
   "execution_count": 14,
   "id": "a8b14fb2-1133-48a2-811d-2d9babb898b3",
   "metadata": {},
   "outputs": [
    {
     "data": {
      "text/plain": [
       "(100, '100.1', True)"
      ]
     },
     "execution_count": 14,
     "metadata": {},
     "output_type": "execute_result"
    }
   ],
   "source": [
    "num=100.1\n",
    "int(num), str(num), bool(num)\n",
    "#display(num)\n"
   ]
  },
  {
   "cell_type": "code",
   "execution_count": 20,
   "id": "6a1b1a33-ce61-4b35-90c0-a02832f4423d",
   "metadata": {},
   "outputs": [
    {
     "data": {
      "text/plain": [
       "(0, '0.0', False)"
      ]
     },
     "execution_count": 20,
     "metadata": {},
     "output_type": "execute_result"
    }
   ],
   "source": [
    "num=0.0\n",
    "int(num), str(num), bool(num)"
   ]
  },
  {
   "cell_type": "code",
   "execution_count": 22,
   "id": "f51b07b3-1926-45d3-8579-920e77c2ea35",
   "metadata": {},
   "outputs": [
    {
     "data": {
      "text/plain": [
       "(10, 10.0, True)"
      ]
     },
     "execution_count": 22,
     "metadata": {},
     "output_type": "execute_result"
    }
   ],
   "source": [
    "str_val='10'\n",
    "int(str_val),float(str_val), bool(str_val)"
   ]
  },
  {
   "cell_type": "code",
   "execution_count": 32,
   "id": "be7da0b1-1042-48ec-a2bb-a10a439e1e13",
   "metadata": {},
   "outputs": [
    {
     "ename": "ValueError",
     "evalue": "invalid literal for int() with base 10: '10.5'",
     "output_type": "error",
     "traceback": [
      "\u001b[1;31m---------------------------------------------------------------------------\u001b[0m",
      "\u001b[1;31mValueError\u001b[0m                                Traceback (most recent call last)",
      "Cell \u001b[1;32mIn[32], line 1\u001b[0m\n\u001b[1;32m----> 1\u001b[0m \u001b[38;5;28mint\u001b[39m(\u001b[38;5;124m'\u001b[39m\u001b[38;5;124m10.5\u001b[39m\u001b[38;5;124m'\u001b[39m),\u001b[38;5;28mfloat\u001b[39m(\u001b[38;5;124m'\u001b[39m\u001b[38;5;124m10.5\u001b[39m\u001b[38;5;124m'\u001b[39m),\u001b[38;5;28mbool\u001b[39m(\u001b[38;5;124m'\u001b[39m\u001b[38;5;124m10.5\u001b[39m\u001b[38;5;124m'\u001b[39m)\n",
      "\u001b[1;31mValueError\u001b[0m: invalid literal for int() with base 10: '10.5'"
     ]
    }
   ],
   "source": [
    "int('10.5'),float('10.5'),bool('10.5')"
   ]
  },
  {
   "cell_type": "markdown",
   "id": "41049b5f-a15c-4450-9204-8982c82a4770",
   "metadata": {},
   "source": [
    "# "
   ]
  },
  {
   "cell_type": "code",
   "execution_count": 34,
   "id": "33337a70-58bf-4e65-9921-3a10d147bf29",
   "metadata": {},
   "outputs": [
    {
     "data": {
      "text/plain": [
       "10"
      ]
     },
     "execution_count": 34,
     "metadata": {},
     "output_type": "execute_result"
    }
   ],
   "source": [
    "eval('10')"
   ]
  },
  {
   "cell_type": "code",
   "execution_count": 36,
   "id": "7fb3896a-aa41-4b56-8eac-45427303bd5c",
   "metadata": {},
   "outputs": [
    {
     "ename": "ValueError",
     "evalue": "invalid literal for int() with base 10: 'ram'",
     "output_type": "error",
     "traceback": [
      "\u001b[1;31m---------------------------------------------------------------------------\u001b[0m",
      "\u001b[1;31mValueError\u001b[0m                                Traceback (most recent call last)",
      "Cell \u001b[1;32mIn[36], line 2\u001b[0m\n\u001b[0;32m      1\u001b[0m num\u001b[38;5;241m=\u001b[39m\u001b[38;5;124m'\u001b[39m\u001b[38;5;124mram\u001b[39m\u001b[38;5;124m'\u001b[39m\n\u001b[1;32m----> 2\u001b[0m \u001b[38;5;28mint\u001b[39m(num), \u001b[38;5;28mfloat\u001b[39m(num), \u001b[38;5;28mbool\u001b[39m(num)\n",
      "\u001b[1;31mValueError\u001b[0m: invalid literal for int() with base 10: 'ram'"
     ]
    }
   ],
   "source": [
    "num='ram'\n",
    "int(num), float(num), bool(num)"
   ]
  },
  {
   "cell_type": "code",
   "execution_count": 38,
   "id": "3952168b-828a-48c4-92e7-89d9e83e46e3",
   "metadata": {},
   "outputs": [
    {
     "data": {
      "text/plain": [
       "(0, 1, 3)"
      ]
     },
     "execution_count": 38,
     "metadata": {},
     "output_type": "execute_result"
    }
   ],
   "source": [
    "len(''),len(' '),len('   ' )"
   ]
  },
  {
   "cell_type": "code",
   "execution_count": 40,
   "id": "00ea26be-94de-49f2-8cac-f699b3399019",
   "metadata": {},
   "outputs": [
    {
     "data": {
      "text/plain": [
       "(False, True, True)"
      ]
     },
     "execution_count": 40,
     "metadata": {},
     "output_type": "execute_result"
    }
   ],
   "source": [
    "bool(len('')),bool(len(' ')),bool(len('   ' ))"
   ]
  },
  {
   "cell_type": "markdown",
   "id": "9513e10f-ac2f-40e6-b349-23ba45d21219",
   "metadata": {},
   "source": [
    "## Input methods"
   ]
  },
  {
   "cell_type": "markdown",
   "id": "9ef482f2-b92d-4121-bfbc-444e37faec2e",
   "metadata": {},
   "source": [
    "#Observation\n",
    "    - Kernel is busy waiting for input from user"
   ]
  },
  {
   "cell_type": "code",
   "execution_count": 44,
   "id": "0c1bb751-1d36-4a93-ad4d-6613468a22fe",
   "metadata": {},
   "outputs": [
    {
     "name": "stdin",
     "output_type": "stream",
     "text": [
      " python\n"
     ]
    },
    {
     "data": {
      "text/plain": [
       "'python'"
      ]
     },
     "execution_count": 44,
     "metadata": {},
     "output_type": "execute_result"
    }
   ],
   "source": [
    "input()"
   ]
  },
  {
   "cell_type": "code",
   "execution_count": 48,
   "id": "1e83e1b9-5ad7-47f2-b07d-0856d9ca87de",
   "metadata": {},
   "outputs": [
    {
     "name": "stdin",
     "output_type": "stream",
     "text": [
      " ram\n"
     ]
    }
   ],
   "source": [
    "name=input()"
   ]
  },
  {
   "cell_type": "code",
   "execution_count": 50,
   "id": "2ca0401e-b2cd-4f01-a655-928360f39d05",
   "metadata": {},
   "outputs": [
    {
     "data": {
      "text/plain": [
       "'ram'"
      ]
     },
     "metadata": {},
     "output_type": "display_data"
    }
   ],
   "source": [
    "display(name)"
   ]
  },
  {
   "cell_type": "code",
   "execution_count": 52,
   "id": "fc0d17c1-8f37-4f1b-b113-a05f712fd299",
   "metadata": {},
   "outputs": [
    {
     "name": "stdin",
     "output_type": "stream",
     "text": [
      "Enter your Name Ram\n"
     ]
    },
    {
     "data": {
      "text/plain": [
       "'Ram'"
      ]
     },
     "execution_count": 52,
     "metadata": {},
     "output_type": "execute_result"
    }
   ],
   "source": [
    "input(\"Enter your Name\")"
   ]
  },
  {
   "cell_type": "code",
   "execution_count": 54,
   "id": "b9ac9223-9331-4875-84cc-c6c846399a53",
   "metadata": {},
   "outputs": [
    {
     "name": "stdin",
     "output_type": "stream",
     "text": [
      "Enter your name ram\n"
     ]
    }
   ],
   "source": [
    "name=input( \"Enter your name\")"
   ]
  },
  {
   "cell_type": "code",
   "execution_count": 60,
   "id": "9d375e13-b45f-428c-9a5c-b71efe6a4f55",
   "metadata": {},
   "outputs": [
    {
     "name": "stdin",
     "output_type": "stream",
     "text": [
      "Enter your name Shreya\n",
      "Enter your age 7\n",
      "Enter your country us\n"
     ]
    },
    {
     "name": "stdout",
     "output_type": "stream",
     "text": [
      "My name is Shreya and age is  7 my country is us\n"
     ]
    }
   ],
   "source": [
    "name=input( \"Enter your name\")\n",
    "age=input(\"Enter your age\")\n",
    "country=input(\"Enter your country\")\n",
    "print(f\"My name is {name} and age is  {age} my country is {country}\")"
   ]
  },
  {
   "cell_type": "code",
   "execution_count": 68,
   "id": "2cf3bff4-2076-4f48-88f7-dd963bf233f8",
   "metadata": {},
   "outputs": [],
   "source": [
    "a,b=10,20\n",
    "a=10,20\n",
    "#a,b=10"
   ]
  },
  {
   "cell_type": "code",
   "execution_count": 82,
   "id": "7ddb01a5-59d6-4726-99d5-92c5ecedfb42",
   "metadata": {},
   "outputs": [
    {
     "data": {
      "text/plain": [
       "(20, 10)"
      ]
     },
     "execution_count": 82,
     "metadata": {},
     "output_type": "execute_result"
    }
   ],
   "source": [
    "a,b=10,20\n",
    "a,b=b,a\n",
    "a,b "
   ]
  },
  {
   "cell_type": "code",
   "execution_count": 86,
   "id": "a5ab012c-ffe5-4ca2-b3bd-e448c650f2af",
   "metadata": {},
   "outputs": [
    {
     "name": "stdin",
     "output_type": "stream",
     "text": [
      "enter num1: 100\n",
      "enter num2: 200\n"
     ]
    },
    {
     "data": {
      "text/plain": [
       "'100200'"
      ]
     },
     "execution_count": 86,
     "metadata": {},
     "output_type": "execute_result"
    }
   ],
   "source": [
    "num1=input(\"enter num1:\") # num1='100'\n",
    "num2=input(\"enter num2:\") # num2='200'\n",
    "num1+num2 # '100'+'200'='100200'"
   ]
  },
  {
   "cell_type": "code",
   "execution_count": 88,
   "id": "20ce923a-a2d9-4d62-b697-4cd274916c64",
   "metadata": {},
   "outputs": [
    {
     "name": "stdin",
     "output_type": "stream",
     "text": [
      "enter num1: 100\n",
      "enter num2: 200\n"
     ]
    },
    {
     "data": {
      "text/plain": [
       "300"
      ]
     },
     "execution_count": 88,
     "metadata": {},
     "output_type": "execute_result"
    }
   ],
   "source": [
    "num1=eval(input(\"enter num1:\")) # num1='100'\n",
    "num2=eval(input(\"enter num2:\")) # num2='200'\n",
    "num1+num2 # '100'+'200'='100200'"
   ]
  },
  {
   "cell_type": "code",
   "execution_count": 92,
   "id": "848e410f-b5b1-4313-82f7-c5587fca487b",
   "metadata": {},
   "outputs": [
    {
     "ename": "TypeError",
     "evalue": "eval() arg 1 must be a string, bytes or code object",
     "output_type": "error",
     "traceback": [
      "\u001b[1;31m---------------------------------------------------------------------------\u001b[0m",
      "\u001b[1;31mTypeError\u001b[0m                                 Traceback (most recent call last)",
      "Cell \u001b[1;32mIn[92], line 1\u001b[0m\n\u001b[1;32m----> 1\u001b[0m \u001b[38;5;28meval\u001b[39m(num1)\u001b[38;5;241m==\u001b[39m\u001b[38;5;28minput\u001b[39m(\u001b[38;5;124m\"\u001b[39m\u001b[38;5;124menter num1:\u001b[39m\u001b[38;5;124m\"\u001b[39m) \u001b[38;5;66;03m# num1='100'\u001b[39;00m\n\u001b[0;32m      2\u001b[0m \u001b[38;5;28meval\u001b[39m(num2)\u001b[38;5;241m==\u001b[39m\u001b[38;5;28minput\u001b[39m(\u001b[38;5;124m\"\u001b[39m\u001b[38;5;124menter num2:\u001b[39m\u001b[38;5;124m\"\u001b[39m) \u001b[38;5;66;03m# num2='200'\u001b[39;00m\n\u001b[0;32m      3\u001b[0m num1\u001b[38;5;241m+\u001b[39mnum2\n",
      "\u001b[1;31mTypeError\u001b[0m: eval() arg 1 must be a string, bytes or code object"
     ]
    }
   ],
   "source": [
    "eval(num1)==input(\"enter num1:\") # num1='100'\n",
    "eval(num2)==input(\"enter num2:\") # num2='200'\n",
    "num1+num2 # '100'+'200'='100200'"
   ]
  },
  {
   "cell_type": "code",
   "execution_count": 94,
   "id": "88d90ac2-37e4-47a2-ac12-b6037c7dbb68",
   "metadata": {},
   "outputs": [
    {
     "name": "stdin",
     "output_type": "stream",
     "text": [
      "enter num1: 100\n",
      "enter num2: 200\n"
     ]
    },
    {
     "data": {
      "text/plain": [
       "300"
      ]
     },
     "execution_count": 94,
     "metadata": {},
     "output_type": "execute_result"
    }
   ],
   "source": [
    "num1=input(\"enter num1:\") # num1='100'\n",
    "num2=input(\"enter num2:\") # num2='200'\n",
    "eval(num1)+eval(num2) # '100'+'200'='100200'"
   ]
  },
  {
   "cell_type": "code",
   "execution_count": 80,
   "id": "cc11b255-1666-4ef0-9172-b6c3fcf8eac7",
   "metadata": {},
   "outputs": [
    {
     "data": {
      "text/plain": [
       "(10, 20)"
      ]
     },
     "execution_count": 80,
     "metadata": {},
     "output_type": "execute_result"
    }
   ],
   "source": [
    "a, b"
   ]
  },
  {
   "cell_type": "markdown",
   "id": "b817f1c9-91aa-4e44-a494-43a19e5f50f7",
   "metadata": {},
   "source": [
    "# WAP ASK the user enter three numbers using input\n",
    "# n1=input(\"en\")\n",
    "# n2 = similar\n",
    "# n3= similar\n",
    "# calculate the average \n",
    "# the avg of n1 ,n2 and n3 is ans\n",
    " \n",
    "# WAP ask the user enter breadth and height calculate Right angle area of trainagle\n",
    "# formulae= 1/2*b*h\n",
    " \n",
    "# WAP ask the user enter a radius , calculate area of circle\n",
    "# pi=3.14\n",
    "# area= pi*r*r\n",
    " \n",
    "# WAP ask the user enter \n",
    "# a bill amount\n",
    "# tax on bill amount\n",
    "# calculate total bill"
   ]
  },
  {
   "cell_type": "code",
   "execution_count": null,
   "id": "0287409d-dbbd-487a-a868-2dd38ad26f1a",
   "metadata": {},
   "outputs": [],
   "source": [
    "# WAP ask the user enter\n",
    "# a bill amount\n",
    "# tax on bill amount\n",
    "# calculate total bill\n",
    "\n",
    "# bill= Eval(input(\"Enter Bill Amount\"))"
   ]
  },
  {
   "cell_type": "code",
   "execution_count": null,
   "id": "37904922-5483-4a4d-a921-1bc98f438095",
   "metadata": {},
   "outputs": [],
   "source": []
  },
  {
   "cell_type": "code",
   "execution_count": 129,
   "id": "e6ef0e4e-5495-4de0-8606-eca503a12c34",
   "metadata": {},
   "outputs": [
    {
     "name": "stdin",
     "output_type": "stream",
     "text": [
      "Enter Radius of the circle 9\n"
     ]
    },
    {
     "name": "stdout",
     "output_type": "stream",
     "text": [
      "Area of the circle is 254.3\n"
     ]
    }
   ],
   "source": [
    "# WAP ask the user enter a radius , calculate area of circle\n",
    "# pi=3.14\n",
    "# area= pirr¶\n",
    "Radius = eval(input(\"Enter Radius of the circle\"))\n",
    "pi=3.14\n",
    "area = round((pi*Radius*Radius),1)\n",
    "# areaRound=round((area),3)\n",
    "print(f\"Area of the circle is {area}\")"
   ]
  },
  {
   "cell_type": "code",
   "execution_count": 101,
   "id": "1293100a-37f7-4366-a363-203513501723",
   "metadata": {},
   "outputs": [
    {
     "name": "stdin",
     "output_type": "stream",
     "text": [
      "Enter Height of the the right angle trianle 30\n",
      "Enter breat of the the right angle trianle 40\n"
     ]
    },
    {
     "name": "stdout",
     "output_type": "stream",
     "text": [
      "Area of Rectangle is 600.0\n"
     ]
    }
   ],
   "source": [
    "# WAP ask the user enter breadth and height calculate Right angle area of trainagle\n",
    "# formulae= 1/2bh\n",
    "# WAP ask the user enter a radius , calculate area of circle\n",
    "# pi=3.14\n",
    "# area= pirr¶\n",
    "\n",
    "height=eval(input(\"Enter Height of the the right angle trianle\"))\n",
    "breath=eval(input(\"Enter breat of the the right angle trianle\"))\n",
    "Area = (height*breath)/2\n",
    "print(f\"Area of Rectangle is {Area}\")\n"
   ]
  },
  {
   "cell_type": "code",
   "execution_count": 99,
   "id": "69010d26-ce9f-45cc-a1f2-5927498ead5c",
   "metadata": {},
   "outputs": [
    {
     "name": "stdin",
     "output_type": "stream",
     "text": [
      "Enter first number 10\n",
      "Enter Second number 20\n",
      "Enter Third number 30\n"
     ]
    },
    {
     "data": {
      "text/plain": [
       "20.0"
      ]
     },
     "execution_count": 99,
     "metadata": {},
     "output_type": "execute_result"
    }
   ],
   "source": [
    "# WAP ASK the user enter three numbers using input\n",
    "# n1=input(\"en\")\n",
    "# n2 = similar\n",
    "# n3= similar\n",
    "# calculate the average\n",
    "# the avg of n1 ,n2 and n3 is ans\n",
    "N1= eval(input(\"Enter first number\"))\n",
    "N2= eval(input(\"Enter Second number\"))\n",
    "N3= eval(input(\"Enter Third number\"))\n",
    "\n",
    "avg = (N1+N2+N3)/3\n",
    "avg"
   ]
  }
 ],
 "metadata": {
  "kernelspec": {
   "display_name": "Python 3 (ipykernel)",
   "language": "python",
   "name": "python3"
  },
  "language_info": {
   "codemirror_mode": {
    "name": "ipython",
    "version": 3
   },
   "file_extension": ".py",
   "mimetype": "text/x-python",
   "name": "python",
   "nbconvert_exporter": "python",
   "pygments_lexer": "ipython3",
   "version": "3.12.4"
  }
 },
 "nbformat": 4,
 "nbformat_minor": 5
}
