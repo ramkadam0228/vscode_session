{
 "cells": [
  {
   "cell_type": "code",
   "execution_count": 1,
   "id": "b404ee2c-0fd6-47bc-aeda-5a2abe4ce02a",
   "metadata": {},
   "outputs": [
    {
     "data": {
      "text/plain": [
       "[0, 1, 2, 3, 4, 5, 6, 7, 8, 9]"
      ]
     },
     "execution_count": 1,
     "metadata": {},
     "output_type": "execute_result"
    }
   ],
   "source": [
    "l=[]\n",
    "for i in range(10):\n",
    "    l.append(i)\n",
    "\n",
    "l\n",
    "\n",
    "    "
   ]
  },
  {
   "cell_type": "code",
   "execution_count": 3,
   "id": "85158726-1aa4-4d08-9798-bddbd0c49338",
   "metadata": {},
   "outputs": [
    {
     "data": {
      "text/plain": [
       "[0, 1, 2, 3, 4, 5, 6, 7, 8, 9]"
      ]
     },
     "execution_count": 3,
     "metadata": {},
     "output_type": "execute_result"
    }
   ],
   "source": [
    "l=[i for i in range(10)]\n",
    "l"
   ]
  },
  {
   "cell_type": "markdown",
   "id": "14891dbe-8901-42bf-83c3-48f3e65aeaa4",
   "metadata": {},
   "source": [
    "*** List Comprehension means we are initiallizing and declaring list in same sentence"
   ]
  },
  {
   "cell_type": "code",
   "execution_count": 10,
   "id": "09f987a7-8a20-4f0f-9417-d7e7c36f100c",
   "metadata": {},
   "outputs": [
    {
     "data": {
      "text/plain": [
       "[1, 4, 9, 16, 25]"
      ]
     },
     "execution_count": 10,
     "metadata": {},
     "output_type": "execute_result"
    }
   ],
   "source": [
    "#WAP save the list of squre numbers of 1 to 6\n",
    "l=[i*i for i in range(1,6)]\n",
    "l"
   ]
  },
  {
   "cell_type": "code",
   "execution_count": 36,
   "id": "51766fb1-588d-4d9e-987a-076116f79a6f",
   "metadata": {},
   "outputs": [
    {
     "data": {
      "text/plain": [
       "3"
      ]
     },
     "execution_count": 36,
     "metadata": {},
     "output_type": "execute_result"
    }
   ],
   "source": [
    "# i/p \n",
    "l=['hyd','mumbai','pune']\n",
    "# Capitalize\n",
    "out=[i.capitalize() for i in l]\n",
    "out\n",
    "# Upper case\n",
    "outc=[i.upper() for i in l]\n",
    "outc\n",
    "# Work with index, multiply index by 10\n",
    "outi=[i*10 for i in range(len(l))]\n",
    "outi\n",
    "# sum all indices\n",
    "outs=[i for i in range(len(l))]\n",
    "sum(outs)\n",
    "\n"
   ]
  },
  {
   "cell_type": "code",
   "execution_count": 48,
   "id": "5708192c-99b5-4127-aff8-44b9d21eafd0",
   "metadata": {},
   "outputs": [
    {
     "data": {
      "text/plain": [
       "['mum#bai', 'Chen#nai']"
      ]
     },
     "execution_count": 48,
     "metadata": {},
     "output_type": "execute_result"
    }
   ],
   "source": [
    "#wap l=['hyd','mum#bai','Chen#nai']\n",
    "l=['hyd','mum#bai','Chen#nai']\n",
    "out=[]\n",
    "# for i in l:\n",
    "#     if '#' in i:\n",
    "#         # print(i)\n",
    "#         out.append(i)\n",
    "# out\n",
    "\n",
    "\n",
    "# list= <output element>, for loop, if condition \n",
    "list_out=[i for i in l if '#' in i]\n",
    "list_out"
   ]
  },
  {
   "cell_type": "code",
   "execution_count": 54,
   "id": "7632cba9-9d48-47c1-9666-00e3cd6c1a4a",
   "metadata": {},
   "outputs": [
    {
     "data": {
      "text/plain": [
       "['mumbai', 'chennai']"
      ]
     },
     "execution_count": 54,
     "metadata": {},
     "output_type": "execute_result"
    }
   ],
   "source": [
    "#WAP to list elements greater than 4\n",
    "# list comprehension [Output , for loop, If statement]\n",
    "l=['hyd','mumbai','chennai','pune']\n",
    "out=[i for i in l if len(i)> 4]\n",
    "out"
   ]
  },
  {
   "cell_type": "code",
   "execution_count": 58,
   "id": "1beddc86-4fcd-4531-ba7a-ac5dba978033",
   "metadata": {},
   "outputs": [
    {
     "name": "stdout",
     "output_type": "stream",
     "text": [
      "Odd Number 15\n",
      "Odd Number 43\n",
      "Even number 6\n",
      "Even number 6\n",
      "Odd Number 13\n",
      "Even number 72\n",
      "Even number 98\n",
      "Odd Number 45\n",
      "Odd Number 25\n"
     ]
    }
   ],
   "source": [
    "\n",
    "\n",
    "# method 3\n",
    "# for-if-else\n",
    "\n",
    "import random\n",
    "for i in range(1,10):\n",
    "    num=random.randint(1,100)\n",
    "    if num%2==0:\n",
    "        print(f\"Even number {num}\")\n",
    "    else:\n",
    "        print(f\"Odd Number {num}\")\n",
    "\n"
   ]
  },
  {
   "cell_type": "code",
   "execution_count": 66,
   "id": "e5279488-4206-4887-9176-899d4d9a3a7e",
   "metadata": {},
   "outputs": [
    {
     "data": {
      "text/plain": [
       "['Odd Number 55',\n",
       " 'Odd Number 13',\n",
       " 'Odd Number 99',\n",
       " 'Even number 20',\n",
       " 'Odd Number 97',\n",
       " 'Even number 60',\n",
       " 'Even number 10',\n",
       " 'Even number 68',\n",
       " 'Odd Number 63']"
      ]
     },
     "execution_count": 66,
     "metadata": {},
     "output_type": "execute_result"
    }
   ],
   "source": [
    "even_list=[]\n",
    "odd_list=[]\n",
    "\n",
    "list=[f\"Even number {num}\" if num%2==0 else f\"Odd Number {num}\" for num in [random.randint(1,100) for i in range(1,10)]]\n",
    "# even=[f\"even:{num}\" if num%2==0 else f\"odd:{num}\" for num in [random.randint(1,100) for i in range(1,10)]]\n",
    "# random_num=[random.randint(1,100) for i in range(1,10)]\n",
    "# even_odd_list=[f\"even:{num}\" if num%2==0 else f\"odd:{num}\" for num in random_num]\n",
    "# even_odd_list\n",
    "list"
   ]
  },
  {
   "cell_type": "code",
   "execution_count": 78,
   "id": "5bb3d432-e39b-4bdf-a997-d4563c570d66",
   "metadata": {},
   "outputs": [
    {
     "data": {
      "text/plain": [
       "['negative', 'negative', 'zero', 'positive', 'positive']"
      ]
     },
     "execution_count": 78,
     "metadata": {},
     "output_type": "execute_result"
    }
   ],
   "source": [
    "num=[-2,-1,0,1,2]\n",
    "# out=[]\n",
    "# for i in num:\n",
    "#     if i>0:\n",
    "#         out.append('positive')\n",
    "#     elif i<0:\n",
    "#         out.append('negative')\n",
    "#     else:\n",
    "#         out.append('Zero')\n",
    "# out\n",
    "\n",
    "l=['positive' if i>0 else 'negative' if i<0 else 'zero' for i in num]\n",
    "l"
   ]
  },
  {
   "cell_type": "markdown",
   "id": "76277de7-802c-454a-aef8-455fa24d63d1",
   "metadata": {},
   "source": [
    "* Use Method 5 where you create output as function with for loop"
   ]
  },
  {
   "cell_type": "code",
   "execution_count": 80,
   "id": "df33e5f9-fe9a-4e8a-890b-5479bbc58c18",
   "metadata": {},
   "outputs": [
    {
     "data": {
      "text/plain": [
       "[1, 4, 9, 16, 25, 36, 49, 64, 81]"
      ]
     },
     "execution_count": 80,
     "metadata": {},
     "output_type": "execute_result"
    }
   ],
   "source": [
    "def squre(x):\n",
    "    return x*x\n",
    "\n",
    "[squre(i) for i in range (1,10)]"
   ]
  }
 ],
 "metadata": {
  "kernelspec": {
   "display_name": "Python 3 (ipykernel)",
   "language": "python",
   "name": "python3"
  },
  "language_info": {
   "codemirror_mode": {
    "name": "ipython",
    "version": 3
   },
   "file_extension": ".py",
   "mimetype": "text/x-python",
   "name": "python",
   "nbconvert_exporter": "python",
   "pygments_lexer": "ipython3",
   "version": "3.12.4"
  }
 },
 "nbformat": 4,
 "nbformat_minor": 5
}
