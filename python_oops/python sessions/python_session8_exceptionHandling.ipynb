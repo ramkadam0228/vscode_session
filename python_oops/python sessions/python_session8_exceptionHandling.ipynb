{
 "cells": [
  {
   "cell_type": "code",
   "execution_count": 2,
   "id": "c1f8a711-7051-4ea4-b942-f90cd0d0530e",
   "metadata": {},
   "outputs": [
    {
     "name": "stdin",
     "output_type": "stream",
     "text": [
      "Enter 1st Number 12\n",
      "Enter 2nd Number 0\n"
     ]
    },
    {
     "name": "stdout",
     "output_type": "stream",
     "text": [
      "division by zero\n",
      "I am exception\n"
     ]
    }
   ],
   "source": [
    "try:\n",
    "    num1=eval(input(\"Enter 1st Number\"))\n",
    "    num2=eval(input(\"Enter 2nd Number\"))\n",
    "    div = num1/num2\n",
    "    print(\"Division of {num1} and {num2} is {}\")\n",
    "except Exception as e:\n",
    "    print(e)\n",
    "    print(\"I am exception\")\n",
    "    \n",
    "              "
   ]
  },
  {
   "cell_type": "code",
   "execution_count": 4,
   "id": "ceb21da1-b788-41dd-8aeb-d2e84869b9f5",
   "metadata": {},
   "outputs": [
    {
     "name": "stdin",
     "output_type": "stream",
     "text": [
      "Enter 1st Number 90\n",
      "Enter 2nd Number 0\n"
     ]
    },
    {
     "name": "stdout",
     "output_type": "stream",
     "text": [
      "division by zero\n",
      "I am exception\n",
      "I am in Finally\n"
     ]
    }
   ],
   "source": [
    "\n",
    "try:\n",
    "    num1=eval(input(\"Enter 1st Number\"))\n",
    "    num2=eval(input(\"Enter 2nd Number\"))\n",
    "    div = num1/num2\n",
    "    print(f\"Division of {num1} and {num2} is {round(div,2)}\")\n",
    "except Exception as e:\n",
    "    print(e)\n",
    "    print(\"I am exception\")\n",
    "else:\n",
    "    print(\"I am in Else\")\n",
    "finally:\n",
    "    print(\"I am in Finally\")\n",
    "    \n"
   ]
  }
 ],
 "metadata": {
  "kernelspec": {
   "display_name": "Python 3 (ipykernel)",
   "language": "python",
   "name": "python3"
  },
  "language_info": {
   "codemirror_mode": {
    "name": "ipython",
    "version": 3
   },
   "file_extension": ".py",
   "mimetype": "text/x-python",
   "name": "python",
   "nbconvert_exporter": "python",
   "pygments_lexer": "ipython3",
   "version": "3.12.4"
  }
 },
 "nbformat": 4,
 "nbformat_minor": 5
}
