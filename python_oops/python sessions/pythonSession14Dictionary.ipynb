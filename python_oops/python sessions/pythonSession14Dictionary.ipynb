{
 "cells": [
  {
   "cell_type": "code",
   "execution_count": 3,
   "id": "2956bd0c-3991-4abf-828d-8b5d67a3c789",
   "metadata": {},
   "outputs": [
    {
     "name": "stdout",
     "output_type": "stream",
     "text": [
      "1\n",
      "2\n",
      "3\n",
      "4\n",
      "5\n",
      "6\n",
      "7\n",
      "8\n",
      "9\n"
     ]
    }
   ],
   "source": [
    "tuple=(i for i in range(1,10))\n",
    "\n",
    "for i in tuple:\n",
    "    print(i)"
   ]
  },
  {
   "cell_type": "code",
   "execution_count": 3,
   "id": "3d191c93-be48-4219-af74-2bf9c414ebee",
   "metadata": {},
   "outputs": [
    {
     "name": "stdout",
     "output_type": "stream",
     "text": [
      "Ramesh 20\n",
      "Suresh 21\n",
      "Mahesh 22\n",
      "Ramesh 20 pune\n",
      "Suresh 21 hyd\n",
      "Mahesh 22 mumbai\n"
     ]
    },
    {
     "data": {
      "text/plain": [
       "tuple"
      ]
     },
     "execution_count": 3,
     "metadata": {},
     "output_type": "execute_result"
    }
   ],
   "source": [
    "Names = ['Ramesh','Suresh','Mahesh']\n",
    "age=[20,21,22]\n",
    "city=('pune','hyd','mumbai')\n",
    "# for i in range(len(Names)):\n",
    "#     print(f\"{Names[i]} age is {age[i]}\")\n",
    "\n",
    "for i,j in zip(Names,age):\n",
    "    print(i,j)\n",
    "\n",
    "for i,j, k in zip(Names,age, city):\n",
    "    print(i,j, k)\n",
    "\n",
    "type(city)"
   ]
  },
  {
   "cell_type": "code",
   "execution_count": 71,
   "id": "27276cc9-359e-484c-8ec6-99ac961aa19e",
   "metadata": {},
   "outputs": [
    {
     "name": "stdout",
     "output_type": "stream",
     "text": [
      "Ramesh 20 pune\n",
      "Suresh 21 hyd\n",
      "Mahesh 22 mumbai\n"
     ]
    }
   ],
   "source": [
    "Names = ['Ramesh','Suresh','Mahesh']\n",
    "age=[20,21,22]\n",
    "city=('pune','hyd','mumbai')\n",
    "\n",
    "for i,j, k in zip(Names,age, city):\n",
    "    print(i,j, k)\n",
    "\n"
   ]
  },
  {
   "cell_type": "code",
   "execution_count": 9,
   "id": "cb21d251-42f7-4abb-9a3a-f447f0566b76",
   "metadata": {},
   "outputs": [
    {
     "data": {
      "text/plain": [
       "{'Ramesh': 20, 'Suresh': 21, 'Mahesh': 22}"
      ]
     },
     "execution_count": 9,
     "metadata": {},
     "output_type": "execute_result"
    }
   ],
   "source": [
    "dict1={'Ramesh':20,'Suresh':21,'Mahesh':22}\n",
    "dict1\n"
   ]
  },
  {
   "cell_type": "code",
   "execution_count": 25,
   "id": "ad6982f1-0ff4-4777-9c7d-11c74723aa4f",
   "metadata": {},
   "outputs": [
    {
     "data": {
      "text/plain": [
       "{'WorkingDay': ['Mon', 'Tue', 'Wed', 'Thr', 'Fri'], 'Weekend': ('Sat', 'sun')}"
      ]
     },
     "execution_count": 25,
     "metadata": {},
     "output_type": "execute_result"
    }
   ],
   "source": [
    "dict2={'WorkingDay':['Mon','Tue','Wed','Thr','Fri'], 'Weekend':('Sat','sun')}\n",
    "dict2"
   ]
  },
  {
   "cell_type": "code",
   "execution_count": 31,
   "id": "d19d63c7-d9ad-4725-94d9-0393048656f4",
   "metadata": {},
   "outputs": [
    {
     "data": {
      "text/plain": [
       "{'days': ['Mon', 'Tue', 'Wed', 'Thr', 'Fri', 'Sat', 'sun']}"
      ]
     },
     "execution_count": 31,
     "metadata": {},
     "output_type": "execute_result"
    }
   ],
   "source": [
    "dict3={'days':['Mon','Tue','Wed','Thr','Fri','Sat','sun']}\n",
    "dict3\n"
   ]
  },
  {
   "cell_type": "code",
   "execution_count": 13,
   "id": "1d24fe29-4129-4417-82db-b488cee9cd70",
   "metadata": {},
   "outputs": [
    {
     "data": {
      "text/plain": [
       "{'a': '1', 'b': '2'}"
      ]
     },
     "execution_count": 13,
     "metadata": {},
     "output_type": "execute_result"
    }
   ],
   "source": [
    "d={'a':'1','b':'2'}\n",
    "# d1={d:'3'}\n",
    "d"
   ]
  },
  {
   "cell_type": "code",
   "execution_count": 17,
   "id": "317f99b9-4f38-41fd-8d8d-20bd59325617",
   "metadata": {},
   "outputs": [
    {
     "data": {
      "text/plain": [
       "'b'"
      ]
     },
     "execution_count": 17,
     "metadata": {},
     "output_type": "execute_result"
    }
   ],
   "source": [
    "min(d)\n",
    "len(d)\n",
    "sorted(d)\n",
    "reversed(d)\n",
    "# sum(d)\n",
    "# index(d)\n",
    "type(d)\n",
    "max(d)\n",
    "# concatenation(d)\n",
    "# list(reversed(d1))\n",
    "for i in d:\n",
    "    print(i, d[i])\n",
    "\n"
   ]
  },
  {
   "cell_type": "code",
   "execution_count": 77,
   "id": "84fc0d4d-b903-4873-9455-0de3ae182edf",
   "metadata": {},
   "outputs": [],
   "source": [
    "d['a']=20"
   ]
  },
  {
   "cell_type": "code",
   "execution_count": 81,
   "id": "0a99612d-3b1f-4045-a642-7ab81aed1fd9",
   "metadata": {},
   "outputs": [
    {
     "data": {
      "text/plain": [
       "{'Mahesh': 50}"
      ]
     },
     "execution_count": 81,
     "metadata": {},
     "output_type": "execute_result"
    }
   ],
   "source": [
    "d5={}\n",
    "d5['Mahesh']=50\n"
   ]
  },
  {
   "cell_type": "code",
   "execution_count": 87,
   "id": "46965121-d339-4c3c-90f9-5090dbe7bce8",
   "metadata": {},
   "outputs": [
    {
     "data": {
      "text/plain": [
       "{'Ramesh': 20, 'Suresh': 30, 'Mahesh': 40}"
      ]
     },
     "execution_count": 87,
     "metadata": {},
     "output_type": "execute_result"
    }
   ],
   "source": [
    "s=''\n",
    "\n",
    "s=s+'apple'\n",
    "\n",
    "#############################################\n",
    "\n",
    "l=[]\n",
    "\n",
    "l.append(10)\n",
    "\n",
    "###############################################\n",
    "\n",
    "d={}\n",
    "\n",
    "d['Ramesh']=20\n",
    "\n",
    "d['Suresh']=30\n",
    "\n",
    "d['Mahesh']=40\n",
    "d\n",
    " "
   ]
  },
  {
   "cell_type": "markdown",
   "id": "139c9be0-3a9d-499b-9407-6c38f53e1241",
   "metadata": {},
   "source": [
    "*** how to create dictionary using list ***"
   ]
  },
  {
   "cell_type": "code",
   "execution_count": 23,
   "id": "09f14348-da42-48fb-8f7c-95c543136f72",
   "metadata": {},
   "outputs": [
    {
     "data": {
      "text/plain": [
       "{'Ramesh': 20, 'Suresh': 21, 'Mahesh': 22, 'Ram': 23}"
      ]
     },
     "execution_count": 23,
     "metadata": {},
     "output_type": "execute_result"
    }
   ],
   "source": [
    "Names = ['Ramesh','Suresh','Mahesh','Ram']\n",
    "age=[20,21,22,23]\n",
    "d6={}\n",
    "for key, values in zip(Names,age):\n",
    "    d6[key]=values\n",
    "\n",
    "d6\n",
    "\n",
    "\n"
   ]
  },
  {
   "cell_type": "markdown",
   "id": "ec3ab95c-3f23-4ae7-9f4e-e08bc4dbcf51",
   "metadata": {},
   "source": [
    "***Accessing Dictionary"
   ]
  },
  {
   "cell_type": "code",
   "execution_count": 131,
   "id": "d6fb46f9-150c-41d9-b407-9e895d5f59b0",
   "metadata": {},
   "outputs": [
    {
     "data": {
      "text/plain": [
       "'Ratnagiri'"
      ]
     },
     "execution_count": 131,
     "metadata": {},
     "output_type": "execute_result"
    }
   ],
   "source": [
    "d1={'fruites':{'apple':'kashmir'}}\n",
    "d1['fruites']['apple']\n",
    "d1={'fruites':['apple','kashmir']}\n",
    "d1['fruites'][1]\n",
    "d1={'fruites':[{'apple':'kashmir'},{'Mango':'Ratnagiri'}]}\n",
    "d1['fruites'][1]['Mango']"
   ]
  },
  {
   "cell_type": "code",
   "execution_count": 27,
   "id": "c3eb0214-4e61-4133-91d1-b81bb48aef04",
   "metadata": {},
   "outputs": [
    {
     "name": "stdout",
     "output_type": "stream",
     "text": [
      "20\n",
      "21\n",
      "22\n",
      "120\n"
     ]
    },
    {
     "data": {
      "text/plain": [
       "{'Ramesh': 20, 'Suresh': 21, 'Mahesh': 22, 'Ram': 120}"
      ]
     },
     "execution_count": 27,
     "metadata": {},
     "output_type": "execute_result"
    }
   ],
   "source": [
    "dir({})\n",
    "type(d6.values())\n",
    "d6.keys()\n",
    "type(d6.keys())\n",
    "# (d6.items())\n",
    "type(d6.items())\n",
    "\n",
    "# We need to convert Dict type to list\n",
    "\n",
    "l=list(d6.items())\n",
    "for i,j in d6.items():\n",
    "    print(j)\n",
    "\n",
    "# d6.get('Ram')\n",
    "# get used to access values through keys\n",
    "d7={'Manish':67}\n",
    "d7.update(d6)\n",
    "d6\n",
    "d7\n",
    "# Its like extend in case of list\n",
    "d7.setdefault('sumit',35)\n",
    "d7.setdefault('Ram',100)\n",
    "d7\n",
    "d6.keys()\n",
    "\n",
    "l=list(d6.items())\n",
    "for i,j in d6.items():\n",
    "    # print(i)\n",
    "    if i == 'Ram':\n",
    "        d6[i]=120\n",
    "\n",
    "d6\n",
    "# d6['Ram']=100\n",
    "# d6"
   ]
  },
  {
   "cell_type": "code",
   "execution_count": 33,
   "id": "5fb635a9-355a-408a-aa07-2c9dc9e42b15",
   "metadata": {},
   "outputs": [
    {
     "data": {
      "text/plain": [
       "{'Ramesh': 20}"
      ]
     },
     "execution_count": 33,
     "metadata": {},
     "output_type": "execute_result"
    }
   ],
   "source": [
    "d6\n",
    "# d6.pop('Mahesh')\n",
    "d6.popitem()\n",
    "d6"
   ]
  },
  {
   "cell_type": "markdown",
   "id": "c4dd0760-688d-45b2-aef9-aa6ec4f0d8df",
   "metadata": {},
   "source": [
    "** Word Frequency **"
   ]
  },
  {
   "cell_type": "code",
   "execution_count": 289,
   "id": "113be11d-293b-4ed7-8ec7-afb24bb7b8b1",
   "metadata": {},
   "outputs": [
    {
     "data": {
      "text/plain": [
       "{'hello': 1,\n",
       " 'world': 2,\n",
       " 'welcome': 1,\n",
       " 'to': 1,\n",
       " 'the': 1,\n",
       " 'of': 1,\n",
       " 'python': 3,\n",
       " 'is': 2,\n",
       " 'amazing': 1,\n",
       " 'and': 1,\n",
       " 'fun': 1}"
      ]
     },
     "execution_count": 289,
     "metadata": {},
     "output_type": "execute_result"
    }
   ],
   "source": [
    "# take some text, remove punctuation, lower test, get count of each work\n",
    "# & Out is in the form of dict\n",
    "\n",
    "import string\n",
    "punct=string.punctuation\n",
    "text='Hello World! welcome to the world of python. python is amazing and python is fun'\n",
    "text_lower=text.lower()\n",
    "new_text=''\n",
    "dict1={}\n",
    "word_list=[]\n",
    "l=[]\n",
    "for i in text_lower:\n",
    "    if i not in punct:\n",
    "        # print(i,end='')\n",
    "             \n",
    "        new_text=new_text+i\n",
    "word_list=new_text.split()\n",
    "for word in word_list:\n",
    "    if word not in l:\n",
    "        # print(word,word_list.count(word))\n",
    "        l.append(word)\n",
    "        dict1[word]=word_list.count(word)\n",
    "\n",
    "dict1"
   ]
  },
  {
   "cell_type": "code",
   "execution_count": null,
   "id": "781be283-228c-4a31-8ae2-626ac2a6aea0",
   "metadata": {},
   "outputs": [],
   "source": []
  }
 ],
 "metadata": {
  "kernelspec": {
   "display_name": "Python 3 (ipykernel)",
   "language": "python",
   "name": "python3"
  },
  "language_info": {
   "codemirror_mode": {
    "name": "ipython",
    "version": 3
   },
   "file_extension": ".py",
   "mimetype": "text/x-python",
   "name": "python",
   "nbconvert_exporter": "python",
   "pygments_lexer": "ipython3",
   "version": "3.12.4"
  }
 },
 "nbformat": 4,
 "nbformat_minor": 5
}
