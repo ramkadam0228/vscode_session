{
 "cells": [
  {
   "cell_type": "code",
   "execution_count": 1,
   "id": "392b3a87-a0db-49eb-820b-239dcf63a99a",
   "metadata": {},
   "outputs": [
    {
     "data": {
      "text/plain": [
       "300"
      ]
     },
     "execution_count": 1,
     "metadata": {},
     "output_type": "execute_result"
    }
   ],
   "source": [
    "a=100\n",
    "b=200\n",
    "c=a+b\n",
    "c"
   ]
  },
  {
   "cell_type": "code",
   "execution_count": 1,
   "id": "271fa2ee-328c-4f9f-8e15-423d7bba0e26",
   "metadata": {},
   "outputs": [
    {
     "name": "stdout",
     "output_type": "stream",
     "text": [
      "200\n"
     ]
    }
   ],
   "source": [
    "a=10\n",
    "b=20\n",
    "print(a*b)\n",
    "\n"
   ]
  },
  {
   "cell_type": "markdown",
   "id": "73c83685-e493-4103-a238-40e63afb6dac",
   "metadata": {},
   "source": [
    "- Today i am learning python\n",
    "- python is very interesting\n",
    "- i like it"
   ]
  },
  {
   "cell_type": "code",
   "execution_count": 17,
   "id": "66a195cd-7cd1-425d-87e0-e4a146bfc139",
   "metadata": {},
   "outputs": [],
   "source": [
    "# This is my first program"
   ]
  },
  {
   "cell_type": "markdown",
   "id": "130fcda1-8699-4706-824b-3fc27c83a3ef",
   "metadata": {},
   "source": [
    "### Python Training\n",
    "# trainer is Omkar"
   ]
  },
  {
   "cell_type": "markdown",
   "id": "20c9196e-a0a5-4ebe-8355-004e936db4a5",
   "metadata": {},
   "source": [
    "# Title\n",
    "## Session\n",
    "### Chapter"
   ]
  },
  {
   "cell_type": "code",
   "execution_count": null,
   "id": "9a2de6c9-6915-4b15-92bf-9548cdd45f42",
   "metadata": {},
   "outputs": [],
   "source": []
  }
 ],
 "metadata": {
  "kernelspec": {
   "display_name": "Python 3",
   "language": "python",
   "name": "python3"
  },
  "language_info": {
   "codemirror_mode": {
    "name": "ipython",
    "version": 3
   },
   "file_extension": ".py",
   "mimetype": "text/x-python",
   "name": "python",
   "nbconvert_exporter": "python",
   "pygments_lexer": "ipython3",
   "version": "3.11.3"
  }
 },
 "nbformat": 4,
 "nbformat_minor": 5
}
