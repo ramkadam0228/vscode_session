{
 "cells": [
  {
   "cell_type": "markdown",
   "id": "e5acd709-7f0e-4f7f-8d84-dc7053baf9ab",
   "metadata": {},
   "source": [
    "Question:\n",
    "Write a program which will find all such numbers which are divisible by 7 but are not a multiple of 5,\n",
    "between 2000 and 3200 (both included).\n",
    "The numbers obtained should be printed in a comma-separated sequence on a single line."
   ]
  },
  {
   "cell_type": "code",
   "execution_count": 14,
   "id": "b2c40f39-7248-4903-8ebb-0405f9bc39e1",
   "metadata": {},
   "outputs": [
    {
     "name": "stdout",
     "output_type": "stream",
     "text": [
      "2002,2009,2016,2023,2037,2044,2051,2058,2072,2079,2086,2093,2107,2114,2121,2128,2142,2149,2156,2163,2177,2184,2191,2198,2212,2219,2226,2233,2247,2254,2261,2268,2282,2289,2296,2303,2317,2324,2331,2338,2352,2359,2366,2373,2387,2394,2401,2408,2422,2429,2436,2443,2457,2464,2471,2478,2492,2499,2506,2513,2527,2534,2541,2548,2562,2569,2576,2583,2597,2604,2611,2618,2632,2639,2646,2653,2667,2674,2681,2688,2702,2709,2716,2723,2737,2744,2751,2758,2772,2779,2786,2793,2807,2814,2821,2828,2842,2849,2856,2863,2877,2884,2891,2898,2912,2919,2926,2933,2947,2954,2961,2968,2982,2989,2996,3003,3017,3024,3031,3038,3052,3059,3066,3073,3087,3094,3101,3108,3122,3129,3136,3143,3157,3164,3171,3178,3192,3199\n"
     ]
    }
   ],
   "source": [
    "l=[]\n",
    "for i in range(2000,3200):\n",
    "    if (i%7==0) and not (i%5==0):\n",
    "        # print (f\"{i}\", end = ',')\n",
    "        l.append(str(i))\n",
    "print (','.join(l))"
   ]
  },
  {
   "cell_type": "markdown",
   "id": "f9021fe4-532d-469b-8c7a-c1243f010397",
   "metadata": {},
   "source": [
    "Question 2\n",
    "Level 1\n",
    "\n",
    "Question:\n",
    "Write a program which can compute the factorial of a given numbers.\n",
    "The results should be printed in a comma-separated sequence on a single line.\n",
    "Suppose the following input is supplied to the program:"
   ]
  },
  {
   "cell_type": "code",
   "execution_count": 25,
   "id": "85e8775e-b57d-4cb5-a7bb-3db3ff328fbd",
   "metadata": {},
   "outputs": [
    {
     "name": "stdout",
     "output_type": "stream",
     "text": [
      "8\n",
      "16\n",
      "48\n",
      "192\n",
      "960\n",
      "5760\n",
      "40320\n",
      "40320\n"
     ]
    }
   ],
   "source": [
    "def factorial1(x):\n",
    "    res=x\n",
    "    for i in range(1,x):\n",
    "        res=res*i\n",
    "        print(res)\n",
    "    print(res)\n",
    "\n",
    "factorial1(8)\n",
    "\n",
    "\n",
    "        "
   ]
  },
  {
   "cell_type": "markdown",
   "id": "84deacdc-a82f-4478-a23c-cb38790f1646",
   "metadata": {},
   "source": [
    "Question 3\n",
    "Level 1\n",
    "\n",
    "Question:\n",
    "With a given integral number n, write a program to generate a dictionary that contains (i, i*i) such that is an integral number between 1 and n (both included). and then the program should print the dictionary.\n",
    "Suppose the following input is supplied to the program:\n",
    "8\n",
    "Then, the output should be:\n",
    "{1: 1, 2: 4, 3: 9, 4: 16, 5: 25, 6: 36, 7: 49, 8: 64}"
   ]
  },
  {
   "cell_type": "code",
   "execution_count": 30,
   "id": "9751aae7-597e-4ec0-822a-a735f20b2d35",
   "metadata": {},
   "outputs": [
    {
     "name": "stdout",
     "output_type": "stream",
     "text": [
      "{1: 1, 2: 4, 3: 9, 4: 16, 5: 25, 6: 36, 7: 49}\n"
     ]
    }
   ],
   "source": [
    "def mul(x):\n",
    "    a=1\n",
    "    dict_1={}\n",
    "    for i in range(1,x):\n",
    "        dict_1[i]=i*i\n",
    "    print(dict_1)\n",
    "\n",
    "mul(8)\n",
    "        \n",
    "        "
   ]
  },
  {
   "cell_type": "markdown",
   "id": "330336d7-cf0d-4ddc-a2a7-bd32ef8003e4",
   "metadata": {},
   "source": [
    "*** Question 4\n",
    "Level 1\n",
    "\n",
    "Question:\n",
    "Write a program which accepts a sequence of comma-separated numbers from console and generate a list and a tuple which contains every number.\n",
    "Suppose the following input is supplied to the program:\n",
    "34,67,55,33,12,98\n",
    "Then, the output should be:\n",
    "['34', '67', '55', '33', '12', '98']\n",
    "('34', '67', '55', '33', '12', '98')"
   ]
  },
  {
   "cell_type": "code",
   "execution_count": 28,
   "id": "c8d31561-f32a-4190-9c09-f326944eda22",
   "metadata": {},
   "outputs": [
    {
     "name": "stdin",
     "output_type": "stream",
     "text": [
      "Enter 6 comma seperated numbers 1,2,3,4,5,6\n"
     ]
    },
    {
     "name": "stdout",
     "output_type": "stream",
     "text": [
      "['1', '2', '3', '4', '5', '6']\n"
     ]
    },
    {
     "ename": "TypeError",
     "evalue": "'tuple' object is not callable",
     "output_type": "error",
     "traceback": [
      "\u001b[1;31m---------------------------------------------------------------------------\u001b[0m",
      "\u001b[1;31mTypeError\u001b[0m                                 Traceback (most recent call last)",
      "Cell \u001b[1;32mIn[28], line 4\u001b[0m\n\u001b[0;32m      2\u001b[0m l\u001b[38;5;241m=\u001b[39mString\u001b[38;5;241m.\u001b[39msplit(\u001b[38;5;124m'\u001b[39m\u001b[38;5;124m,\u001b[39m\u001b[38;5;124m'\u001b[39m)\n\u001b[0;32m      3\u001b[0m \u001b[38;5;28mprint\u001b[39m(l)\n\u001b[1;32m----> 4\u001b[0m t\u001b[38;5;241m=\u001b[39m\u001b[38;5;28mtuple\u001b[39m(l)\n",
      "\u001b[1;31mTypeError\u001b[0m: 'tuple' object is not callable"
     ]
    }
   ],
   "source": [
    "String=input(\"Enter 6 comma seperated numbers\")\n",
    "l=String.split(',')\n",
    "print(l)\n",
    "t=tuple(l)\n",
    "\n"
   ]
  },
  {
   "cell_type": "code",
   "execution_count": 32,
   "id": "6728e00d-6efe-44f8-83b4-f7eb881164be",
   "metadata": {},
   "outputs": [
    {
     "ename": "NameError",
     "evalue": "name 'raw_input' is not defined",
     "output_type": "error",
     "traceback": [
      "\u001b[1;31m---------------------------------------------------------------------------\u001b[0m",
      "\u001b[1;31mNameError\u001b[0m                                 Traceback (most recent call last)",
      "Cell \u001b[1;32mIn[32], line 1\u001b[0m\n\u001b[1;32m----> 1\u001b[0m values\u001b[38;5;241m=\u001b[39mraw_input()\n\u001b[0;32m      2\u001b[0m l\u001b[38;5;241m=\u001b[39mvalues\u001b[38;5;241m.\u001b[39msplit(\u001b[38;5;124m\"\u001b[39m\u001b[38;5;124m,\u001b[39m\u001b[38;5;124m\"\u001b[39m)\n\u001b[0;32m      3\u001b[0m t\u001b[38;5;241m=\u001b[39m\u001b[38;5;28mtuple\u001b[39m(l)\n",
      "\u001b[1;31mNameError\u001b[0m: name 'raw_input' is not defined"
     ]
    }
   ],
   "source": [
    "values=raw_input()\n",
    "l=values.split(\",\")\n",
    "t=tuple(l)\n",
    "print(l)\n",
    "print(t)"
   ]
  },
  {
   "cell_type": "markdown",
   "id": "574d2d90-5113-49a1-a7d1-8dac5708bc96",
   "metadata": {},
   "source": [
    "Question 5\r\n",
    "Level 1\r\n",
    "\r\n",
    "Question:\r\n",
    "Define a class which has at least two methods:\r\n",
    "getString: to get a string from console input\r\n",
    "printString: to print the string in upper case.\r\n",
    "Also please include simple test function to test the class methods."
   ]
  },
  {
   "cell_type": "code",
   "execution_count": 59,
   "id": "bbe938bc-6699-48ef-b279-f0db28e9adf5",
   "metadata": {},
   "outputs": [
    {
     "name": "stdin",
     "output_type": "stream",
     "text": [
      "Enter the text kadam\n"
     ]
    },
    {
     "name": "stdout",
     "output_type": "stream",
     "text": [
      "Output in upper case is as below KADAM\n"
     ]
    }
   ],
   "source": [
    "class words():\n",
    "    def __init__(self):\n",
    "       self.s='' \n",
    "    def getString(self):\n",
    "        self.s=input(\"Enter the text\")\n",
    "        # print(value)\n",
    "        # return value\n",
    "    def printString(self):\n",
    "        out=self.s.upper()\n",
    "        print(f\"Output in upper case is as below {out}\")\n",
    "wd=words()\n",
    "\n",
    "wd.getString()\n",
    "wd.printString()"
   ]
  },
  {
   "cell_type": "markdown",
   "id": "5e930ce7-8428-4dfe-b910-6ab2e9e5589f",
   "metadata": {},
   "source": [
    "Question 6\r\n",
    "Level 2\r\n",
    "\r\n",
    "Question:\r\n",
    "Write a program that calculates and prints the value according to the given formula:\r\n",
    "Q = Square root of [(2 * C * D)/H]\r\n",
    "Following are the fixed values of C and H:\r\n",
    "C is 50. H is 30.\r\n",
    "D is the variable whose values should be input to your program in a comma-separated sequence.\r\n",
    "Example\r\n",
    "Let us assume the following comma separated input sequence is given to the program:\r\n",
    "100,150,180\r\n",
    "The output of the program should be:\r\n",
    "18,22,24"
   ]
  },
  {
   "cell_type": "code",
   "execution_count": 98,
   "id": "b44aeee8-9886-4bbd-a6eb-192ab9f460f8",
   "metadata": {},
   "outputs": [
    {
     "name": "stdout",
     "output_type": "stream",
     "text": [
      "1,"
     ]
    }
   ],
   "source": [
    "import math\n",
    "\n",
    "class math1():\n",
    "    def __init__(self, c=50, h=90):\n",
    "        self.c=50\n",
    "        self.h=90\n",
    "    inputlist=[]\n",
    "    \n",
    "    def sqrt1(self):\n",
    "        list=input(\"Enter 3 numbers\")\n",
    "        print(list)\n",
    "        inputlist=list.split(',')\n",
    "        print(inputlist)\n",
    "        for i in inputlist:\n",
    "            Q = str(int(round(math.sqrt((2*self.c*eval(i))/self.h))))\n",
    "            print(Q,end=',')\n",
    "\n",
    "m=math1()\n",
    "m.sqrt1()"
   ]
  }
 ],
 "metadata": {
  "kernelspec": {
   "display_name": "Python 3 (ipykernel)",
   "language": "python",
   "name": "python3"
  },
  "language_info": {
   "codemirror_mode": {
    "name": "ipython",
    "version": 3
   },
   "file_extension": ".py",
   "mimetype": "text/x-python",
   "name": "python",
   "nbconvert_exporter": "python",
   "pygments_lexer": "ipython3",
   "version": "3.12.4"
  }
 },
 "nbformat": 4,
 "nbformat_minor": 5
}
